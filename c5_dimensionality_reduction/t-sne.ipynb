{
 "cells": [
  {
   "cell_type": "code",
   "id": "initial_id",
   "metadata": {
    "collapsed": true,
    "ExecuteTime": {
     "end_time": "2024-07-02T20:24:14.520742Z",
     "start_time": "2024-07-02T20:24:13.947126Z"
    }
   },
   "source": [
    "from sklearn.datasets import load_digits\n",
    "\n",
    "digits = load_digits()"
   ],
   "execution_count": 1,
   "outputs": []
  },
  {
   "metadata": {
    "ExecuteTime": {
     "end_time": "2024-07-02T20:24:50.752602Z",
     "start_time": "2024-07-02T20:24:50.181011Z"
    }
   },
   "cell_type": "code",
   "source": [
    "import matplotlib.pyplot as plt\n",
    "\n",
    "fix, ax = plt.subplots(1, 4)\n",
    "for i in range(4):\n",
    "    ax[i].imshow(digits.images[i], cmap='Greys')\n",
    "plt.show()"
   ],
   "id": "ac2a9b9167b2ab15",
   "execution_count": 2,
   "outputs": []
  },
  {
   "metadata": {
    "ExecuteTime": {
     "end_time": "2024-07-02T20:25:40.674267Z",
     "start_time": "2024-07-02T20:25:40.671345Z"
    }
   },
   "cell_type": "code",
   "source": [
    "y_digits = digits.target\n",
    "X_digits = digits.data"
   ],
   "id": "2d44a99a4ec8f9ba",
   "execution_count": 3,
   "outputs": []
  },
  {
   "metadata": {
    "ExecuteTime": {
     "end_time": "2024-07-02T20:29:37.650485Z",
     "start_time": "2024-07-02T20:29:29.008195Z"
    }
   },
   "cell_type": "code",
   "source": [
    "from sklearn.manifold import TSNE\n",
    "\n",
    "tsne = TSNE(\n",
    "    n_components=2,\n",
    "    init='pca',\n",
    "    random_state=123\n",
    ")\n",
    "X_digits_tsne = tsne.fit_transform(X_digits)"
   ],
   "id": "f58d708b68e0457f",
   "execution_count": 8,
   "outputs": []
  },
  {
   "metadata": {
    "ExecuteTime": {
     "end_time": "2024-07-02T20:29:37.814433Z",
     "start_time": "2024-07-02T20:29:37.651609Z"
    }
   },
   "cell_type": "code",
   "source": [
    "from utils import plot_projection\n",
    "\n",
    "plot_projection(X_digits_tsne, y_digits)\n",
    "plt.show()"
   ],
   "id": "c806d0d59121f0e6",
   "execution_count": 9,
   "outputs": []
  },
  {
   "metadata": {},
   "cell_type": "code",
   "execution_count": null,
   "source": "",
   "id": "20bcc96815e46e12",
   "outputs": []
  }
 ],
 "metadata": {
  "kernelspec": {
   "display_name": "Python 3",
   "language": "python",
   "name": "python3"
  },
  "language_info": {
   "codemirror_mode": {
    "name": "ipython",
    "version": 2
   },
   "file_extension": ".py",
   "mimetype": "text/x-python",
   "name": "python",
   "nbconvert_exporter": "python",
   "pygments_lexer": "ipython2",
   "version": "2.7.6"
  }
 },
 "nbformat": 4,
 "nbformat_minor": 5
}
