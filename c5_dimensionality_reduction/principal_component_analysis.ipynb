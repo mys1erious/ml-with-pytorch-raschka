{
 "cells": [
  {
   "cell_type": "code",
   "id": "initial_id",
   "metadata": {
    "collapsed": true,
    "ExecuteTime": {
     "end_time": "2024-07-02T19:14:14.916576Z",
     "start_time": "2024-07-02T19:14:13.640917Z"
    }
   },
   "source": [
    "# Principal Component Analysis\n",
    "\n",
    "import pandas as pd\n",
    "\n",
    "df_wine = pd.read_csv(\n",
    "    'https://archive.ics.uci.edu/ml/'\n",
    "    'machine-learning-databases/wine/wine.data',\n",
    "    header=None\n",
    ")"
   ],
   "execution_count": 1,
   "outputs": []
  },
  {
   "metadata": {
    "ExecuteTime": {
     "end_time": "2024-07-02T19:17:29.416805Z",
     "start_time": "2024-07-02T19:17:28.829316Z"
    }
   },
   "cell_type": "code",
   "source": [
    "from sklearn.model_selection import train_test_split\n",
    "\n",
    "X, y = df_wine.iloc[:, 1:].values, df_wine.iloc[:, 0].values\n",
    "X_train, X_test, y_train, y_test = train_test_split(\n",
    "    X, y,\n",
    "    test_size=0.3,\n",
    "    stratify=y,\n",
    "    random_state=0\n",
    ")\n",
    "\n",
    "# standardize the features\n",
    "from sklearn.preprocessing import StandardScaler\n",
    "\n",
    "sc = StandardScaler()\n",
    "X_train_std = sc.fit_transform(X_train)\n",
    "X_test_std = sc.transform(X_test)"
   ],
   "id": "90504a9b799c2598",
   "execution_count": 2,
   "outputs": []
  },
  {
   "metadata": {
    "ExecuteTime": {
     "end_time": "2024-07-02T19:22:00.463440Z",
     "start_time": "2024-07-02T19:22:00.459308Z"
    }
   },
   "cell_type": "code",
   "source": [
    "# Covariance matrix and eigenpairs\n",
    "\n",
    "import numpy as np\n",
    "\n",
    "cov_mat = np.cov(X_train_std.T)\n",
    "eigen_vals, eigen_vecs = np.linalg.eig(cov_mat)\n",
    "print('Eigenvalues\\n', eigen_vals)"
   ],
   "id": "cc16078d43deb395",
   "execution_count": 6,
   "outputs": []
  },
  {
   "metadata": {
    "ExecuteTime": {
     "end_time": "2024-07-02T19:24:14.069382Z",
     "start_time": "2024-07-02T19:24:13.431524Z"
    }
   },
   "cell_type": "code",
   "source": [
    "tot = sum(eigen_vals)\n",
    "var_exp = [(i / tot) for i in sorted(eigen_vals, reverse=True)]\n",
    "cum_var_exp = np.cumsum(var_exp)\n",
    "\n",
    "import matplotlib.pyplot as plt\n",
    "plt.bar(\n",
    "    range(1,14), \n",
    "    var_exp, \n",
    "    align='center',\n",
    "    label='Individual explained variance'\n",
    ")\n",
    "plt.step(\n",
    "    range(1,14), \n",
    "    cum_var_exp, \n",
    "    where='mid',\n",
    "    label='Cumulative explained variance'\n",
    ")\n",
    "plt.ylabel('Explained variance ratio')\n",
    "plt.xlabel('Principal component index')\n",
    "plt.legend(loc='best')\n",
    "plt.tight_layout()\n",
    "plt.show()"
   ],
   "id": "1cad67ff372d042a",
   "execution_count": 7,
   "outputs": []
  },
  {
   "metadata": {
    "ExecuteTime": {
     "end_time": "2024-07-02T19:27:43.357687Z",
     "start_time": "2024-07-02T19:27:43.354943Z"
    }
   },
   "cell_type": "code",
   "source": [
    "# Sort the eigenpairs by desc order of the eigenvalues\n",
    "eigen_pairs = [\n",
    "    (np.abs(eigen_vals[i]), eigen_vecs[:, i])\n",
    "    for i in range(len(eigen_vals))\n",
    "]\n",
    "eigen_pairs.sort(key=lambda k: k[0], reverse=True)"
   ],
   "id": "23b22e92c3491384",
   "execution_count": 9,
   "outputs": []
  },
  {
   "metadata": {
    "ExecuteTime": {
     "end_time": "2024-07-02T19:29:01.120889Z",
     "start_time": "2024-07-02T19:29:01.117257Z"
    }
   },
   "cell_type": "code",
   "source": [
    "w = np.hstack((\n",
    "    eigen_pairs[0][1][:, np.newaxis],\n",
    "    eigen_pairs[1][1][:, np.newaxis],\n",
    "))\n",
    "print('Matrix W:\\n', w)"
   ],
   "id": "521a8357efe4d1cb",
   "execution_count": 10,
   "outputs": []
  },
  {
   "metadata": {
    "ExecuteTime": {
     "end_time": "2024-07-02T19:30:13.251847Z",
     "start_time": "2024-07-02T19:30:13.248329Z"
    }
   },
   "cell_type": "code",
   "source": "X_train_std[0].dot(w)",
   "id": "c175add290496198",
   "execution_count": 11,
   "outputs": []
  },
  {
   "metadata": {
    "ExecuteTime": {
     "end_time": "2024-07-02T19:30:35.791252Z",
     "start_time": "2024-07-02T19:30:35.788899Z"
    }
   },
   "cell_type": "code",
   "source": "X_train_pca = X_train_std.dot(w)",
   "id": "e349db9167da1a17",
   "execution_count": 12,
   "outputs": []
  },
  {
   "metadata": {
    "ExecuteTime": {
     "end_time": "2024-07-02T19:31:19.908010Z",
     "start_time": "2024-07-02T19:31:19.770217Z"
    }
   },
   "cell_type": "code",
   "source": [
    "colors = ['r', 'b', 'g']\n",
    "markers = ['o', 's', '^']\n",
    "for l, c, m in zip(np.unique(y_train), colors, markers):\n",
    "    plt.scatter(\n",
    "        X_train_pca[y_train == l, 0],\n",
    "        X_train_pca[y_train == l, 1],\n",
    "        c=c, label=f'Class {l}', marker=m\n",
    "    )\n",
    "plt.xlabel('PC 1')\n",
    "plt.ylabel('PC 2')\n",
    "plt.legend(loc='lower left')\n",
    "plt.tight_layout()\n",
    "plt.show()"
   ],
   "id": "35d724fabb5d34bc",
   "execution_count": 13,
   "outputs": []
  },
  {
   "metadata": {
    "ExecuteTime": {
     "end_time": "2024-07-02T19:35:01.174280Z",
     "start_time": "2024-07-02T19:35:00.956112Z"
    }
   },
   "cell_type": "code",
   "source": [
    "from sklearn.linear_model import LogisticRegression\n",
    "from sklearn.decomposition import PCA\n",
    "from utils import plot_decision_regions\n",
    "\n",
    "pca = PCA(n_components=2)\n",
    "lr = LogisticRegression(\n",
    "    multi_class='ovr',\n",
    "    random_state=1,\n",
    "    solver='lbfgs'\n",
    ")\n",
    "\n",
    "X_train_pca = pca.fit_transform(X_train_std)\n",
    "X_test_pca = pca.transform(X_test_std)\n",
    "\n",
    "lr.fit(X_train_pca, y_train)\n",
    "\n",
    "plot_decision_regions(X_train_pca, y_train, classifier=lr)\n",
    "plt.xlabel('PC 1')\n",
    "plt.ylabel('PC 2')\n",
    "plt.legend(loc='lower left')\n",
    "plt.tight_layout()\n",
    "plt.show()"
   ],
   "id": "ca9add3455f704e9",
   "execution_count": 15,
   "outputs": []
  },
  {
   "metadata": {
    "ExecuteTime": {
     "end_time": "2024-07-02T19:36:29.663614Z",
     "start_time": "2024-07-02T19:36:29.486208Z"
    }
   },
   "cell_type": "code",
   "source": [
    "plot_decision_regions(X_test_pca, y_test, classifier=lr)\n",
    "plt.xlabel('PC 1')\n",
    "plt.ylabel('PC 2')\n",
    "plt.legend(loc='lower left')\n",
    "plt.tight_layout()\n",
    "plt.show()"
   ],
   "id": "bf0efd23788ebf35",
   "execution_count": 16,
   "outputs": []
  },
  {
   "metadata": {
    "ExecuteTime": {
     "end_time": "2024-07-02T19:37:21.850922Z",
     "start_time": "2024-07-02T19:37:21.846207Z"
    }
   },
   "cell_type": "code",
   "source": [
    "# Explained variance ratios\n",
    "pca = PCA(n_components=None)\n",
    "X_train_pca = pca.fit_transform(X_train_std)\n",
    "pca.explained_variance_ratio_"
   ],
   "id": "79a1285f29b2f2af",
   "execution_count": 18,
   "outputs": []
  },
  {
   "metadata": {
    "ExecuteTime": {
     "end_time": "2024-07-02T19:39:07.025290Z",
     "start_time": "2024-07-02T19:39:06.887600Z"
    }
   },
   "cell_type": "code",
   "source": [
    "# Assessing feature contributions\n",
    "\n",
    "loadings = eigen_vecs * np.sqrt(eigen_vals)\n",
    "\n",
    "fig, ax = plt.subplots()\n",
    "ax.bar(range(13), loadings[:, 0], align='center')\n",
    "ax.set_ylabel('Loadings for PC 1')\n",
    "ax.set_xticks(range(13))\n",
    "ax.set_xticklabels(df_wine.columns[1:], rotation=90)\n",
    "plt.ylim([-1, 1])\n",
    "plt.tight_layout()\n",
    "plt.show()"
   ],
   "id": "ec7bbd1e3cbf8765",
   "execution_count": 19,
   "outputs": []
  },
  {
   "metadata": {
    "ExecuteTime": {
     "end_time": "2024-07-02T19:42:39.610923Z",
     "start_time": "2024-07-02T19:42:39.477463Z"
    }
   },
   "cell_type": "code",
   "source": [
    "sklearn_loadings = pca.components_.T * np.sqrt(pca.explained_variance_)\n",
    "\n",
    "fig, ax = plt.subplots()\n",
    "ax.bar(range(13), sklearn_loadings[:, 0], align='center')\n",
    "ax.set_ylabel('Loadings for PC 1')\n",
    "ax.set_xticks(range(13))\n",
    "ax.set_xticklabels(df_wine.columns[1:], rotation=90)\n",
    "plt.ylim([-1, 1])\n",
    "plt.tight_layout()\n",
    "plt.show()"
   ],
   "id": "672a7c250d8b6fe3",
   "execution_count": 21,
   "outputs": []
  },
  {
   "metadata": {},
   "cell_type": "code",
   "execution_count": null,
   "source": "",
   "id": "4831571b08acbf7b",
   "outputs": []
  }
 ],
 "metadata": {
  "kernelspec": {
   "display_name": "Python 3",
   "language": "python",
   "name": "python3"
  },
  "language_info": {
   "codemirror_mode": {
    "name": "ipython",
    "version": 2
   },
   "file_extension": ".py",
   "mimetype": "text/x-python",
   "name": "python",
   "nbconvert_exporter": "python",
   "pygments_lexer": "ipython2",
   "version": "2.7.6"
  }
 },
 "nbformat": 4,
 "nbformat_minor": 5
}
