{
 "cells": [
  {
   "cell_type": "code",
   "id": "cb158f359030d039",
   "metadata": {
    "collapsed": true,
    "ExecuteTime": {
     "end_time": "2024-07-02T20:07:47.065780Z",
     "start_time": "2024-07-02T20:07:46.530302Z"
    }
   },
   "source": [
    "import pandas as pd\n",
    "\n",
    "df_wine = pd.read_csv(\n",
    "    'https://archive.ics.uci.edu/ml/'\n",
    "    'machine-learning-databases/wine/wine.data',\n",
    "    header=None\n",
    ")"
   ],
   "execution_count": 26,
   "outputs": []
  },
  {
   "metadata": {
    "ExecuteTime": {
     "end_time": "2024-07-02T20:07:47.073393Z",
     "start_time": "2024-07-02T20:07:47.067401Z"
    }
   },
   "cell_type": "code",
   "source": [
    "from sklearn.model_selection import train_test_split\n",
    "\n",
    "X, y = df_wine.iloc[:, 1:].values, df_wine.iloc[:, 0].values\n",
    "X_train, X_test, y_train, y_test = train_test_split(\n",
    "    X, y,\n",
    "    test_size=0.3,\n",
    "    stratify=y,\n",
    "    random_state=0\n",
    ")\n",
    "\n",
    "# standardize the features\n",
    "from sklearn.preprocessing import StandardScaler\n",
    "\n",
    "sc = StandardScaler()\n",
    "X_train_std = sc.fit_transform(X_train)\n",
    "X_test_std = sc.transform(X_test)"
   ],
   "id": "68625a3753ea0b2c",
   "execution_count": 27,
   "outputs": []
  },
  {
   "metadata": {
    "ExecuteTime": {
     "end_time": "2024-07-02T20:08:13.994664Z",
     "start_time": "2024-07-02T20:08:13.990739Z"
    }
   },
   "cell_type": "code",
   "source": [
    "\n",
    "import numpy as np\n",
    "\n",
    "np.set_printoptions(precision=4)\n",
    "mean_vecs = []\n",
    "for label in range(1, 4):\n",
    "    mean_vecs.append(\n",
    "        np.mean(X_train_std[y_train==label], axis=0)\n",
    "    )\n",
    "    print(f'MV {label}: {mean_vecs[label - 1]}\\n')"
   ],
   "id": "initial_id",
   "execution_count": 28,
   "outputs": []
  },
  {
   "metadata": {
    "ExecuteTime": {
     "end_time": "2024-07-02T20:08:59.347550Z",
     "start_time": "2024-07-02T20:08:59.343042Z"
    }
   },
   "cell_type": "code",
   "source": [
    "d = 13 # num of features\n",
    "S_W = np.zeros((d, d))\n",
    "\n",
    "for label, mv in zip(range(1, 4), mean_vecs):\n",
    "    class_scatter = np.zeros((d, d))\n",
    "    \n",
    "    for row in X_train_std[y_train == label]:\n",
    "        row, mv = row.reshape(d, 1), mv.reshape(d, 1)\n",
    "        class_scatter += (row - mv).dot((row - mv).T)\n",
    "    S_W += class_scatter\n",
    "\n",
    "print(\n",
    "    'Within-class scatter matrix: '\n",
    "    f'{S_W.shape[0]}x{S_W.shape[1]}'\n",
    ")"
   ],
   "id": "b2ab748f9a1ab462",
   "execution_count": 29,
   "outputs": []
  },
  {
   "metadata": {
    "ExecuteTime": {
     "end_time": "2024-07-02T20:09:01.531635Z",
     "start_time": "2024-07-02T20:09:01.528297Z"
    }
   },
   "cell_type": "code",
   "source": "print('Class label distrubtion:', np.bincount(y_train)[1:])",
   "id": "5c38fa4cd55540dc",
   "execution_count": 30,
   "outputs": []
  },
  {
   "metadata": {
    "ExecuteTime": {
     "end_time": "2024-07-02T20:09:30.994825Z",
     "start_time": "2024-07-02T20:09:30.990826Z"
    }
   },
   "cell_type": "code",
   "source": [
    "d = 13\n",
    "S_W = np.zeros((d, d))\n",
    "for label, mv in zip(range(1, 4), mean_vecs):\n",
    "    class_scatter = np.cov(X_train_std[y_train == label].T)\n",
    "    S_W += class_scatter\n",
    "\n",
    "print(\n",
    "    'Scaled within-class scatter matrix: '\n",
    "    f'{S_W.shape[0]}x{S_W.shape[1]}'\n",
    ")"
   ],
   "id": "4f78f89b1a4a18e2",
   "execution_count": 31,
   "outputs": []
  },
  {
   "metadata": {
    "ExecuteTime": {
     "end_time": "2024-07-02T20:10:21.355046Z",
     "start_time": "2024-07-02T20:10:21.350711Z"
    }
   },
   "cell_type": "code",
   "source": [
    "mean_overall = np.mean(X_train_std, axis=0)\n",
    "mean_overall = mean_overall.reshape(d, 1)\n",
    "\n",
    "d = 13\n",
    "S_B = np.zeros((d, d))\n",
    "\n",
    "for i, mean_vec in enumerate(mean_vecs):\n",
    "    n = X_train_std[y_train == i+1, :].shape[0]\n",
    "    mean_vec = mean_vec.reshape(d, 1) # make col vector\n",
    "    S_B += n * (mean_vec - mean_overall).dot(\n",
    "        (mean_vec - mean_overall).T\n",
    "    )\n",
    "\n",
    "print(\n",
    "    'Between-class scatter matrix: '\n",
    "    f'{S_W.shape[0]}x{S_W.shape[1]}'\n",
    ")"
   ],
   "id": "9d50761788111007",
   "execution_count": 32,
   "outputs": []
  },
  {
   "metadata": {
    "ExecuteTime": {
     "end_time": "2024-07-02T20:11:13.294313Z",
     "start_time": "2024-07-02T20:11:13.288893Z"
    }
   },
   "cell_type": "code",
   "source": [
    "eigen_vals, eigen_vecs = np.linalg.eig(\n",
    "    np.linalg.inv(S_W).dot(S_B)\n",
    ")\n",
    "\n",
    "eigen_pairs = [\n",
    "    (np.abs(eigen_vals[i]), eigen_vecs[:, i])\n",
    "    for i in range(len(eigen_vals))\n",
    "]\n",
    "eigen_pairs = sorted(\n",
    "    eigen_pairs,\n",
    "    key=lambda k: k[0],\n",
    "    reverse=True\n",
    ")\n",
    "\n",
    "print('Eigenvalues in descending order:\\n')\n",
    "for eigen_val in eigen_pairs:\n",
    "    print(eigen_val[0])"
   ],
   "id": "fbfbbb7235be38aa",
   "execution_count": 33,
   "outputs": []
  },
  {
   "metadata": {
    "ExecuteTime": {
     "end_time": "2024-07-02T20:11:15.386188Z",
     "start_time": "2024-07-02T20:11:15.243845Z"
    }
   },
   "cell_type": "code",
   "source": [
    "import matplotlib.pyplot as plt \n",
    "\n",
    "tot = sum(eigen_vals.real)\n",
    "discr = [\n",
    "    (i / tot) for i in sorted(eigen_vals.real, reverse=True)\n",
    "]\n",
    "cum_discr = np.cumsum(discr)\n",
    "\n",
    "plt.bar(\n",
    "    range(1, 14), \n",
    "    discr, \n",
    "    align='center',\n",
    "    label='Individual discriminability'\n",
    ")\n",
    "plt.step(\n",
    "    range(1, 14), \n",
    "    cum_discr, \n",
    "    where='mid',\n",
    "    label='Cumulative discriminability'\n",
    ")\n",
    "plt.ylabel('\"Discriminability\" ratio')\n",
    "plt.xlabel('Linear Discriminants')\n",
    "plt.ylim([-0.1, 1.1])\n",
    "plt.legend(loc='best')\n",
    "plt.tight_layout()\n",
    "plt.show()"
   ],
   "id": "1129027454239036",
   "execution_count": 34,
   "outputs": []
  },
  {
   "metadata": {
    "ExecuteTime": {
     "end_time": "2024-07-02T20:11:17.064233Z",
     "start_time": "2024-07-02T20:11:17.060307Z"
    }
   },
   "cell_type": "code",
   "source": [
    "w = np.hstack((\n",
    "    eigen_pairs[0][1][:, np.newaxis].real,\n",
    "    eigen_pairs[1][1][:, np.newaxis].real,\n",
    "))\n",
    "\n",
    "print('Matrix W:\\n', w)"
   ],
   "id": "2aec11202c6e49aa",
   "execution_count": 35,
   "outputs": []
  },
  {
   "metadata": {
    "ExecuteTime": {
     "end_time": "2024-07-02T20:11:24.772190Z",
     "start_time": "2024-07-02T20:11:24.645499Z"
    }
   },
   "cell_type": "code",
   "source": [
    "X_train_lda = X_train_std.dot(w)\n",
    "\n",
    "colors = ['r', 'b', 'g']\n",
    "markers = ['o', 's', '^']\n",
    "for l, c, m in zip(np.unique(y_train), colors, markers):\n",
    "    plt.scatter(\n",
    "        X_train_lda[y_train == l, 0],\n",
    "        X_train_lda[y_train == l, 1] * (-1),\n",
    "        c=c, label=f'Class {l}', marker=m\n",
    "    )\n",
    "plt.xlabel('LD 1')\n",
    "plt.ylabel('LD 2')\n",
    "plt.legend(loc='lower right')\n",
    "plt.tight_layout()\n",
    "plt.show()"
   ],
   "id": "3a348ff7d3d920f4",
   "execution_count": 36,
   "outputs": []
  },
  {
   "metadata": {
    "ExecuteTime": {
     "end_time": "2024-07-02T20:13:46.136164Z",
     "start_time": "2024-07-02T20:13:46.132240Z"
    }
   },
   "cell_type": "code",
   "source": [
    "# sklearn way\n",
    "from sklearn.discriminant_analysis import LinearDiscriminantAnalysis as LDA\n",
    "\n",
    "lda = LDA(n_components=2)\n",
    "X_train_lda = lda.fit_transform(X_train_std, y_train)"
   ],
   "id": "3714868da20a676c",
   "execution_count": 38,
   "outputs": []
  },
  {
   "metadata": {
    "ExecuteTime": {
     "end_time": "2024-07-02T20:14:45.609520Z",
     "start_time": "2024-07-02T20:14:45.334187Z"
    }
   },
   "cell_type": "code",
   "source": [
    "from utils import plot_decision_regions\n",
    "from sklearn.linear_model import LogisticRegression\n",
    "\n",
    "lr = LogisticRegression(\n",
    "    multi_class='ovr',\n",
    "    random_state=1,\n",
    "    solver='lbfgs'\n",
    ")\n",
    "lr = lr.fit(X_train_lda, y_train)\n",
    "plot_decision_regions(X_train_lda, y_train, classifier=lr)\n",
    "plt.xlabel('LD 1')\n",
    "plt.ylabel('LD 2')\n",
    "plt.legend(loc='lower left')\n",
    "plt.tight_layout()\n",
    "plt.show()"
   ],
   "id": "a91dc2dc52990f01",
   "execution_count": 39,
   "outputs": []
  },
  {
   "metadata": {
    "ExecuteTime": {
     "end_time": "2024-07-02T20:15:17.036890Z",
     "start_time": "2024-07-02T20:15:16.827743Z"
    }
   },
   "cell_type": "code",
   "source": [
    "X_test_lda = lda.transform(X_test_std)\n",
    "plot_decision_regions(X_test_lda, y_test, classifier=lr)\n",
    "plt.xlabel('LD 1')\n",
    "plt.ylabel('LD 2')\n",
    "plt.legend(loc='lower left')\n",
    "plt.tight_layout()\n",
    "plt.show()"
   ],
   "id": "1c58a0fb3db54126",
   "execution_count": 40,
   "outputs": []
  },
  {
   "metadata": {},
   "cell_type": "code",
   "execution_count": null,
   "source": "",
   "id": "8fc578ff88770da7",
   "outputs": []
  }
 ],
 "metadata": {
  "kernelspec": {
   "display_name": "Python 3",
   "language": "python",
   "name": "python3"
  },
  "language_info": {
   "codemirror_mode": {
    "name": "ipython",
    "version": 2
   },
   "file_extension": ".py",
   "mimetype": "text/x-python",
   "name": "python",
   "nbconvert_exporter": "python",
   "pygments_lexer": "ipython2",
   "version": "2.7.6"
  }
 },
 "nbformat": 4,
 "nbformat_minor": 5
}
