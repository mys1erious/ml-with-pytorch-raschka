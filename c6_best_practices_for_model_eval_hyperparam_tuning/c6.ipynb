{
 "cells": [
  {
   "cell_type": "code",
   "id": "initial_id",
   "metadata": {
    "collapsed": true,
    "ExecuteTime": {
     "end_time": "2024-07-06T08:53:50.704559Z",
     "start_time": "2024-07-06T08:53:49.642904Z"
    }
   },
   "source": [
    "# Streamlining workflows with pipelines\n",
    "\n",
    "import pandas as pd\n",
    "\n",
    "df = pd.read_csv(\n",
    "    'https://archive.ics.uci.edu/ml/'\n",
    "    'machine-learning-databases'\n",
    "    '/breast-cancer-wisconsin/wdbc.data',\n",
    "    header=None\n",
    ")"
   ],
   "execution_count": 35,
   "outputs": []
  },
  {
   "metadata": {
    "ExecuteTime": {
     "end_time": "2024-07-06T08:53:50.710658Z",
     "start_time": "2024-07-06T08:53:50.705684Z"
    }
   },
   "cell_type": "code",
   "source": [
    "from sklearn.preprocessing import LabelEncoder\n",
    "\n",
    "X = df.loc[: ,2:].values\n",
    "y = df.loc[:, 1].values\n",
    "le = LabelEncoder()\n",
    "y = le.fit_transform(y)\n",
    "le.classes_"
   ],
   "id": "3ff0e82ac21ba61b",
   "execution_count": 36,
   "outputs": []
  },
  {
   "metadata": {
    "ExecuteTime": {
     "end_time": "2024-07-06T08:53:50.722648Z",
     "start_time": "2024-07-06T08:53:50.711807Z"
    }
   },
   "cell_type": "code",
   "source": [
    "# transform outputs into numbers\n",
    "le.transform(['M', 'B'])"
   ],
   "id": "4272bd05e5337170",
   "execution_count": 37,
   "outputs": []
  },
  {
   "metadata": {
    "ExecuteTime": {
     "end_time": "2024-07-06T08:53:50.729080Z",
     "start_time": "2024-07-06T08:53:50.724011Z"
    }
   },
   "cell_type": "code",
   "source": [
    "from sklearn.model_selection import train_test_split\n",
    "\n",
    "X_train, X_test, y_train, y_test = train_test_split(\n",
    "    X, y,\n",
    "    test_size=0.20,\n",
    "    stratify=y,\n",
    "    random_state=1\n",
    ")"
   ],
   "id": "60d5777c86f378d7",
   "execution_count": 38,
   "outputs": []
  },
  {
   "metadata": {
    "ExecuteTime": {
     "end_time": "2024-07-06T08:53:50.742394Z",
     "start_time": "2024-07-06T08:53:50.730452Z"
    }
   },
   "cell_type": "code",
   "source": [
    "# Pipeline chaining\n",
    "\n",
    "from sklearn.preprocessing import StandardScaler\n",
    "from sklearn.decomposition import PCA\n",
    "from sklearn.linear_model import LogisticRegression\n",
    "from sklearn.pipeline import make_pipeline\n",
    "\n",
    "pipe_lr = make_pipeline(\n",
    "    StandardScaler(),\n",
    "    PCA(n_components=2),\n",
    "    LogisticRegression()\n",
    ")\n",
    "pipe_lr.fit(X_train, y_train)\n",
    "\n",
    "y_pred = pipe_lr.predict(X_test)\n",
    "test_acc = pipe_lr.score(X_test, y_test)\n",
    "\n",
    "print(f'Test accuracy: {test_acc:.3f}')"
   ],
   "id": "e977d0c2ee645869",
   "execution_count": 39,
   "outputs": []
  },
  {
   "metadata": {
    "ExecuteTime": {
     "end_time": "2024-07-06T08:53:50.791749Z",
     "start_time": "2024-07-06T08:53:50.743334Z"
    }
   },
   "cell_type": "code",
   "source": [
    "# Using k-fold cross-validation to assess model performance\n",
    "\n",
    "import numpy as np\n",
    "from sklearn.model_selection import StratifiedKFold\n",
    "\n",
    "kfold = StratifiedKFold(n_splits=10).split(X_train, y_train)\n",
    "scores = []\n",
    "\n",
    "for k, (train, test) in enumerate(kfold):\n",
    "    pipe_lr.fit(X_train[train], y_train[train])\n",
    "    score = pipe_lr.score(X_train[test], y_train[test])\n",
    "    scores.append(score)\n",
    "\n",
    "    print(\n",
    "        f'Fold: {k + 1:02d}, '\n",
    "        f'Class distr.: {np.bincount(y_train[train])}, '\n",
    "        f'Acc.: {score:.3f}'\n",
    "    )"
   ],
   "id": "d842cd7164a07e6e",
   "execution_count": 40,
   "outputs": []
  },
  {
   "metadata": {
    "ExecuteTime": {
     "end_time": "2024-07-06T08:53:50.796263Z",
     "start_time": "2024-07-06T08:53:50.793069Z"
    }
   },
   "cell_type": "code",
   "source": [
    "mean_acc = np.mean(scores)\n",
    "std_acc = np.std(scores)\n",
    "print(f'\\nCV accuracy: {mean_acc:.3f} +/- {std_acc:.3f}')"
   ],
   "id": "799f5bb8cafcfbfe",
   "execution_count": 41,
   "outputs": []
  },
  {
   "metadata": {
    "ExecuteTime": {
     "end_time": "2024-07-06T08:53:51.869779Z",
     "start_time": "2024-07-06T08:53:50.797507Z"
    }
   },
   "cell_type": "code",
   "source": [
    "from sklearn.model_selection import cross_val_score\n",
    "\n",
    "scores = cross_val_score(\n",
    "    estimator=pipe_lr,\n",
    "    X=X_train,\n",
    "    y=y_train,\n",
    "    cv=10,\n",
    "    n_jobs=-1\n",
    ")\n",
    "print(f'CV accuracy scores: {scores}')\n",
    "print(\n",
    "    f'CV accuracy: {np.mean(scores):.3f} '\n",
    "    f'+/- {np.std(scores):.3f}'\n",
    ")"
   ],
   "id": "c263e4bc47f29027",
   "execution_count": 42,
   "outputs": []
  },
  {
   "metadata": {
    "ExecuteTime": {
     "end_time": "2024-07-06T08:53:52.458602Z",
     "start_time": "2024-07-06T08:53:51.871095Z"
    }
   },
   "cell_type": "code",
   "source": [
    "# Debugging algorithms with learning and validation curves\n",
    "\n",
    "import matplotlib.pyplot as plt\n",
    "from sklearn.model_selection import learning_curve\n",
    "\n",
    "pipe_lr = make_pipeline(\n",
    "    StandardScaler(),\n",
    "    LogisticRegression(penalty='l2', max_iter=10000)\n",
    ")\n",
    "\n",
    "train_sizes, train_scores, test_scores = learning_curve(\n",
    "    estimator=pipe_lr,\n",
    "    X=X_train,\n",
    "    y=y_train,\n",
    "    train_sizes=np.linspace(0.1, 1.0, 10),\n",
    "    cv=10,\n",
    "    n_jobs=-1\n",
    ")\n",
    "\n",
    "train_mean = np.mean(train_scores, axis=1)\n",
    "train_std = np.std(train_scores, axis=1)\n",
    "test_mean = np.mean(test_scores, axis=1)\n",
    "test_std = np.std(test_scores, axis=1)\n",
    "\n",
    "plt.plot(\n",
    "    train_sizes, train_mean,\n",
    "    color='blue', marker='o',\n",
    "    markersize=5, label='Training accuracy'\n",
    ")\n",
    "plt.fill_between(\n",
    "    train_sizes,\n",
    "    train_mean + train_std,\n",
    "    train_mean - train_std,\n",
    "    alpha=0.15, color='blue'\n",
    ")\n",
    "plt.plot(\n",
    "    train_sizes, test_mean,\n",
    "    color='green', linestyle='--',\n",
    "    marker='s', markersize=5,\n",
    "    label='Validation accuracy'\n",
    ")\n",
    "plt.fill_between(\n",
    "    train_sizes,\n",
    "    test_mean + test_std,\n",
    "    test_mean - test_std,\n",
    "    alpha=0.15, color='green'\n",
    ")\n",
    "plt.grid()\n",
    "plt.xlabel('Number of training examples')\n",
    "plt.ylabel('Accuracy')\n",
    "plt.legend(loc='lower right')\n",
    "plt.ylim([0.8, 1.03])\n",
    "plt.show()"
   ],
   "id": "c1b4e10014fe9408",
   "execution_count": 43,
   "outputs": []
  },
  {
   "metadata": {
    "ExecuteTime": {
     "end_time": "2024-07-06T08:53:53.385670Z",
     "start_time": "2024-07-06T08:53:52.460952Z"
    }
   },
   "cell_type": "code",
   "source": [
    "from sklearn.model_selection import validation_curve\n",
    "\n",
    "param_range = [0.001, 0.01, 0.1, 1.0, 10.0, 100.0]\n",
    "train_scores, test_scores = validation_curve(\n",
    "    estimator=pipe_lr,\n",
    "    X=X_train,\n",
    "    y=y_train,\n",
    "    param_name='logisticregression__C',\n",
    "    param_range=param_range,\n",
    "    cv=10\n",
    ")\n",
    "\n",
    "train_mean = np.mean(train_scores, axis=1)\n",
    "train_std = np.std(train_scores, axis=1)\n",
    "test_mean = np.mean(test_scores, axis=1)\n",
    "test_std = np.std(test_scores, axis=1)\n",
    "\n",
    "plt.plot(\n",
    "    param_range, train_mean,\n",
    "    color='blue', marker='o',\n",
    "    markersize=5, label='Training accuracy'\n",
    ")\n",
    "plt.fill_between(\n",
    "    param_range, train_mean + train_std,\n",
    "                 train_mean - train_std, alpha=0.15,\n",
    "    color='blue'\n",
    ")\n",
    "plt.plot(\n",
    "    param_range, test_mean,\n",
    "    color='green', linestyle='--',\n",
    "    marker='s', markersize=5,\n",
    "    label='Validation accuracy'\n",
    ")\n",
    "plt.fill_between(\n",
    "    param_range,\n",
    "    test_mean + test_std,\n",
    "    test_mean - test_std,\n",
    "    alpha=0.15, color='green'\n",
    ")\n",
    "plt.grid()\n",
    "plt.xscale('log')\n",
    "plt.legend(loc='lower right')\n",
    "plt.xlabel('Parameter C')\n",
    "plt.ylabel('Accuracy')\n",
    "plt.ylim([0.8, 1.0])\n",
    "plt.show()"
   ],
   "id": "70cd6705a4026d0c",
   "execution_count": 44,
   "outputs": []
  },
  {
   "metadata": {
    "ExecuteTime": {
     "end_time": "2024-07-06T08:53:54.581245Z",
     "start_time": "2024-07-06T08:53:53.386729Z"
    }
   },
   "cell_type": "code",
   "source": [
    "# Grid search\n",
    "\n",
    "from sklearn.model_selection import GridSearchCV\n",
    "from sklearn.svm import SVC\n",
    "\n",
    "pipe_svc = make_pipeline(\n",
    "    StandardScaler(),\n",
    "    SVC(random_state=1)\n",
    ")\n",
    "\n",
    "param_range = [0.0001, 0.001, 0.01, 0.1, 1.0, 10.0, 100.0, 1000.0]\n",
    "param_grid = [{\n",
    "    'svc__C': param_range,\n",
    "    'svc__kernel': ['linear']\n",
    "}, {\n",
    "    'svc__C': param_range,\n",
    "    'svc__kernel': ['rbf'],\n",
    "    'svc__gamma': param_range\n",
    "}]\n",
    "\n",
    "gs = GridSearchCV(\n",
    "    estimator=pipe_svc,\n",
    "    param_grid=param_grid,\n",
    "    scoring='accuracy',\n",
    "    cv=10,\n",
    "    refit=True,\n",
    "    n_jobs=-1\n",
    ")\n",
    "gs = gs.fit(X_train, y_train)\n",
    "\n",
    "print(gs.best_score_)\n",
    "print(gs.best_params_)"
   ],
   "id": "5d93e7f3c9e5f134",
   "execution_count": 45,
   "outputs": []
  },
  {
   "metadata": {
    "ExecuteTime": {
     "end_time": "2024-07-06T08:53:54.590312Z",
     "start_time": "2024-07-06T08:53:54.582171Z"
    }
   },
   "cell_type": "code",
   "source": [
    "clf = gs.best_estimator_\n",
    "clf.fit(X_train, y_train)\n",
    "print(f'Test accuracy: {clf.score(X_test, y_test):.3f}')"
   ],
   "id": "fab5e64197813738",
   "execution_count": 46,
   "outputs": []
  },
  {
   "metadata": {
    "ExecuteTime": {
     "end_time": "2024-07-06T08:53:54.597246Z",
     "start_time": "2024-07-06T08:53:54.591746Z"
    }
   },
   "cell_type": "code",
   "source": [
    "import scipy.stats\n",
    "\n",
    "param_range = scipy.stats.loguniform(0.0001, 1000.0)"
   ],
   "id": "e98a6252edfbe903",
   "execution_count": 47,
   "outputs": []
  },
  {
   "metadata": {
    "ExecuteTime": {
     "end_time": "2024-07-06T08:53:54.603939Z",
     "start_time": "2024-07-06T08:53:54.598068Z"
    }
   },
   "cell_type": "code",
   "source": [
    "np.random.seed(1)\n",
    "param_range.rvs(10)"
   ],
   "id": "bad22e3a2fbe9cf3",
   "execution_count": 48,
   "outputs": []
  },
  {
   "metadata": {
    "ExecuteTime": {
     "end_time": "2024-07-06T08:53:54.951517Z",
     "start_time": "2024-07-06T08:53:54.604800Z"
    }
   },
   "cell_type": "code",
   "source": [
    "from sklearn.model_selection import RandomizedSearchCV\n",
    "\n",
    "pipe_svc = make_pipeline(\n",
    "    StandardScaler(),\n",
    "    SVC(random_state=1)\n",
    ")\n",
    "\n",
    "param_grid = [{\n",
    "    'svc__C': param_range,\n",
    "    'svc__kernel': ['linear'],\n",
    "}, {\n",
    "    'svc__C': param_range,\n",
    "    'svc__gamma': param_range,\n",
    "    'svc__kernel': ['rbf'],\n",
    "}]\n",
    "\n",
    "rs = RandomizedSearchCV(\n",
    "    estimator=pipe_svc,\n",
    "    param_distributions=param_grid,\n",
    "    scoring='accuracy',\n",
    "    refit=True,\n",
    "    n_iter=20,\n",
    "    cv=10,\n",
    "    random_state=1,\n",
    "    n_jobs=-1\n",
    ")\n",
    "rs.fit(X_train, y_train)\n",
    "\n",
    "print(rs.best_score_)\n",
    "print(rs.best_params_)"
   ],
   "id": "b81cd9819906b197",
   "execution_count": 49,
   "outputs": []
  },
  {
   "metadata": {
    "ExecuteTime": {
     "end_time": "2024-07-06T08:53:55.375629Z",
     "start_time": "2024-07-06T08:53:54.952323Z"
    }
   },
   "cell_type": "code",
   "source": [
    "from sklearn.experimental import enable_halving_search_cv\n",
    "\n",
    "from sklearn.model_selection import HalvingRandomSearchCV\n",
    "\n",
    "hs = HalvingRandomSearchCV(\n",
    "    pipe_svc,\n",
    "    param_distributions=param_grid,\n",
    "    n_candidates='exhaust',\n",
    "    resource='n_samples',\n",
    "    factor=1.5,\n",
    "    random_state=1,\n",
    "    n_jobs=-1\n",
    ")\n",
    "hs = hs.fit(X_train, y_train)\n",
    "\n",
    "print(hs.best_score_)\n",
    "print(hs.best_params_)"
   ],
   "id": "b361fccddd7c5c3c",
   "execution_count": 50,
   "outputs": []
  },
  {
   "metadata": {
    "ExecuteTime": {
     "end_time": "2024-07-06T08:53:55.380551Z",
     "start_time": "2024-07-06T08:53:55.376788Z"
    }
   },
   "cell_type": "code",
   "source": [
    "clf = hs.best_estimator_\n",
    "print(f'Test accuracy: {hs.score(X_test, y_test):.3f}')"
   ],
   "id": "9c72a073b55d55d3",
   "execution_count": 51,
   "outputs": []
  },
  {
   "metadata": {
    "ExecuteTime": {
     "end_time": "2024-07-06T08:53:59.227247Z",
     "start_time": "2024-07-06T08:53:55.381924Z"
    }
   },
   "cell_type": "code",
   "source": [
    "# Nested cross-validation\n",
    "\n",
    "param_range = [0.0001, 0.001, 0.01, 0.1, 1.0, 10.0, 100.0, 1000.0]\n",
    "param_grid = [\n",
    "    {'svc__C': param_range,\n",
    "     'svc__kernel': ['linear']},\n",
    "    {'svc__C': param_range,\n",
    "     'svc__gamma': param_range,\n",
    "     'svc__kernel': ['rbf']\n",
    "     }]\n",
    "gs = GridSearchCV(\n",
    "    estimator=pipe_svc,\n",
    "    param_grid=param_grid,\n",
    "    scoring='accuracy',\n",
    "    cv=2\n",
    ")\n",
    "\n",
    "scores = cross_val_score(\n",
    "    gs,\n",
    "    X_train, y_train,\n",
    "    scoring='accuracy',\n",
    "    cv=5\n",
    ")\n",
    "\n",
    "print(\n",
    "    f'CV accuracy: {np.mean(scores):.3f} '\n",
    "    f'+/- {np.std(scores):.3f}'\n",
    ")"
   ],
   "id": "89a6d8188e21a79",
   "execution_count": 52,
   "outputs": []
  },
  {
   "metadata": {
    "ExecuteTime": {
     "end_time": "2024-07-06T08:53:59.494534Z",
     "start_time": "2024-07-06T08:53:59.228224Z"
    }
   },
   "cell_type": "code",
   "source": [
    "from sklearn.tree import DecisionTreeClassifier\n",
    "\n",
    "gs = GridSearchCV(\n",
    "    estimator=DecisionTreeClassifier(random_state=0),\n",
    "    param_grid=[{'max_depth': [1, 2, 3, 4, 5, 6, 7, None]}],\n",
    "    scoring='accuracy',\n",
    "    cv=2\n",
    ")\n",
    "scores = cross_val_score(\n",
    "    gs, \n",
    "    X_train, y_train,\n",
    "    scoring='accuracy', \n",
    "    cv=5\n",
    ")\n",
    "\n",
    "print(\n",
    "    f'CV accuracy: {np.mean(scores):.3f} '\n",
    "    f'+/- {np.std(scores):.3f}'\n",
    ")"
   ],
   "id": "c5855013e6cccd26",
   "execution_count": 53,
   "outputs": []
  },
  {
   "metadata": {
    "ExecuteTime": {
     "end_time": "2024-07-06T08:53:59.504961Z",
     "start_time": "2024-07-06T08:53:59.495513Z"
    }
   },
   "cell_type": "code",
   "source": [
    "# Performance evaluation metrics\n",
    "\n",
    "# Confusion matrix\n",
    "from sklearn.metrics import confusion_matrix\n",
    "\n",
    "pipe_svc.fit(X_train, y_train)\n",
    "y_pred = pipe_svc.predict(X_test)\n",
    "confmat = confusion_matrix(y_true=y_test, y_pred=y_pred)\n",
    "\n",
    "print(confmat)"
   ],
   "id": "7f9ac84212823ab1",
   "execution_count": 54,
   "outputs": []
  },
  {
   "metadata": {
    "ExecuteTime": {
     "end_time": "2024-07-06T08:53:59.572705Z",
     "start_time": "2024-07-06T08:53:59.505898Z"
    }
   },
   "cell_type": "code",
   "source": [
    "ig, ax = plt.subplots(figsize=(2.5, 2.5))\n",
    "ax.matshow(confmat, cmap=plt.cm.Blues, alpha=0.3)\n",
    "for i in range(confmat.shape[0]):\n",
    "    for j in range(confmat.shape[1]):\n",
    "        ax.text(\n",
    "            x=j, y=i,\n",
    "            s=confmat[i, j],\n",
    "            va='center',\n",
    "            ha='center'\n",
    "        )\n",
    "ax.xaxis.set_ticks_position('bottom')\n",
    "plt.xlabel('Predicted label')\n",
    "plt.ylabel('True label')\n",
    "plt.show()"
   ],
   "id": "e92a3cf92f946487",
   "execution_count": 55,
   "outputs": []
  },
  {
   "metadata": {
    "ExecuteTime": {
     "end_time": "2024-07-06T08:53:59.585502Z",
     "start_time": "2024-07-06T08:53:59.573607Z"
    }
   },
   "cell_type": "code",
   "source": [
    "from sklearn.metrics import precision_score, recall_score, f1_score, matthews_corrcoef\n",
    "\n",
    "pre_val = precision_score(y_true=y_test, y_pred=y_pred)\n",
    "print(f'Precision: {pre_val:.3f}')\n",
    "\n",
    "rec_val = recall_score(y_true=y_test, y_pred=y_pred)\n",
    "print(f'Recall: {rec_val:.3f}')\n",
    "\n",
    "f1_val = f1_score(y_true=y_test, y_pred=y_pred)\n",
    "print(f'F1: {f1_val:.3f}')\n",
    "\n",
    "mcc_val = matthews_corrcoef(y_true=y_test, y_pred=y_pred)\n",
    "print(f'MCC: {mcc_val:.3f}')"
   ],
   "id": "f04b9620ea06d2f",
   "execution_count": 56,
   "outputs": []
  },
  {
   "metadata": {
    "ExecuteTime": {
     "end_time": "2024-07-06T08:54:01.491424Z",
     "start_time": "2024-07-06T08:53:59.586554Z"
    }
   },
   "cell_type": "code",
   "source": [
    "from sklearn.metrics import make_scorer\n",
    "\n",
    "c_gamma_range = [0.01, 0.1, 1.0, 10.0]\n",
    "param_grid = [{\n",
    "    'svc__C': c_gamma_range,\n",
    "    'svc__kernel': ['linear']\n",
    "}, {\n",
    "    'svc__C': c_gamma_range,\n",
    "    'svc__gamma': c_gamma_range,\n",
    "    'svc__kernel': ['rbf']\n",
    "}]\n",
    "\n",
    "scorer = make_scorer(f1_score, pos_label=0)\n",
    "\n",
    "gs = GridSearchCV(\n",
    "    estimator=pipe_svc,\n",
    "    param_grid=param_grid,\n",
    "    scoring=scorer,\n",
    "    cv=10\n",
    ")\n",
    "gs = gs.fit(X_train, y_train)\n",
    "\n",
    "print(gs.best_score_)\n",
    "print(gs.best_params_)"
   ],
   "id": "c0c60d0701e2489f",
   "execution_count": 57,
   "outputs": []
  },
  {
   "metadata": {
    "ExecuteTime": {
     "end_time": "2024-07-06T08:54:01.629919Z",
     "start_time": "2024-07-06T08:54:01.492326Z"
    }
   },
   "cell_type": "code",
   "source": [
    "# Receiver operating characteristic (ROC)\n",
    "\n",
    "from sklearn.metrics import roc_curve, auc\n",
    "from numpy import interp\n",
    "\n",
    "pipe_lr = make_pipeline(\n",
    "    StandardScaler(),\n",
    "    PCA(n_components=2),\n",
    "    LogisticRegression(\n",
    "        penalty='l2',\n",
    "        random_state=1,\n",
    "        solver='lbfgs',\n",
    "        C=100.0\n",
    "    )\n",
    ")\n",
    "\n",
    "X_train2 = X_train[:, [4, 14]]\n",
    "cv = list(StratifiedKFold(n_splits=3).split(X_train, y_train))\n",
    "\n",
    "fig = plt.figure(figsize=(7, 5))\n",
    "mean_tpr = 0.0\n",
    "mean_fpr = np.linspace(0, 1, 100)\n",
    "all_tpr = []\n",
    "for i, (train, test) in enumerate(cv):\n",
    "    probas = pipe_lr.fit(\n",
    "        X_train2[train],\n",
    "        y_train[train]\n",
    "    ).predict_proba(X_train2[test])\n",
    "    fpr, tpr, thresholds = roc_curve(\n",
    "        y_train[test],\n",
    "        probas[:, 1],\n",
    "        pos_label=1\n",
    "    )\n",
    "    mean_tpr += interp(mean_fpr, fpr, tpr)\n",
    "    mean_tpr[0] = 0.0\n",
    "    roc_auc = auc(fpr, tpr)\n",
    "    plt.plot(\n",
    "        fpr,\n",
    "        tpr,\n",
    "        label=f'ROC fold {i + 1} (area = {roc_auc:.2f})'\n",
    "    )\n",
    "    \n",
    "plt.plot(\n",
    "    [0, 1],\n",
    "    [0, 1],\n",
    "    linestyle='--',\n",
    "    color=(0.6, 0.6, 0.6),\n",
    "    label='Random guessing (area=0.5)'\n",
    ")\n",
    "mean_tpr /= len(cv)\n",
    "mean_tpr[-1] = 1.0\n",
    "mean_auc = auc(mean_fpr, mean_tpr)\n",
    "plt.plot(\n",
    "    mean_fpr, mean_tpr, 'k--',\n",
    "    label=f'Mean ROC (area = {mean_auc:.2f})', lw=2\n",
    ")\n",
    "plt.plot(\n",
    "    [0, 0, 1],\n",
    "    [0, 1, 1],\n",
    "    linestyle=':',\n",
    "    color='black',\n",
    "    label='Perfect performance (area=1.0)'\n",
    ")\n",
    "plt.xlim([-0.05, 1.05])\n",
    "plt.ylim([-0.05, 1.05])\n",
    "plt.xlabel('False positive rate')\n",
    "plt.ylabel('True positive rate')\n",
    "plt.legend(loc='lower right')\n",
    "plt.show()"
   ],
   "id": "838def773496d5b8",
   "execution_count": 58,
   "outputs": []
  },
  {
   "metadata": {
    "ExecuteTime": {
     "end_time": "2024-07-06T08:54:01.633780Z",
     "start_time": "2024-07-06T08:54:01.630972Z"
    }
   },
   "cell_type": "code",
   "source": [
    "# Scoring metrics for multiclass classification\n",
    "\n",
    "pre_scorer = make_scorer(\n",
    "    score_func=precision_score,\n",
    "    pos_label=1,\n",
    "    greater_is_better=True,\n",
    "    average='micro'\n",
    ")"
   ],
   "id": "fba3773b7d6ff508",
   "execution_count": 59,
   "outputs": []
  },
  {
   "metadata": {},
   "cell_type": "markdown",
   "source": "",
   "id": "1167c069385e47cb"
  },
  {
   "metadata": {
    "ExecuteTime": {
     "end_time": "2024-07-06T08:54:55.744612Z",
     "start_time": "2024-07-06T08:54:55.740372Z"
    }
   },
   "cell_type": "code",
   "source": [
    "# Class imbalances\n",
    "\n",
    "X_imb = np.vstack((X[y == 0], X[y == 1][:40]))\n",
    "y_imb = np.hstack((y[y == 0], y[y == 1][:40]))\n",
    "\n",
    "y_pred = np.zeros(y_imb.shape[0])\n",
    "np.mean(y_pred == y_imb) * 100"
   ],
   "id": "cc965d0944962e98",
   "execution_count": 63,
   "outputs": []
  },
  {
   "metadata": {
    "ExecuteTime": {
     "end_time": "2024-07-06T09:03:04.079888Z",
     "start_time": "2024-07-06T09:03:04.073093Z"
    }
   },
   "cell_type": "code",
   "source": [
    "# Upsample the minority class by drawing new samples from the dataset with replacement\n",
    "\n",
    "from sklearn.utils import resample\n",
    "\n",
    "print(\n",
    "    'Number of class 1 examples before:',\n",
    "    X_imb[y_imb == 1].shape[0]\n",
    ")\n",
    "\n",
    "X_upsampled, y_upsampled = resample(\n",
    "    X_imb[y_imb == 1],\n",
    "    y_imb[y_imb == 1],\n",
    "    replace=True,\n",
    "    n_samples=X_imb[y_imb == 0].shape[0],\n",
    "    random_state=123\n",
    ")\n",
    "\n",
    "print(\n",
    "    'Number of class 1 examples after:',\n",
    "    X_upsampled.shape[0]\n",
    ")\n",
    "\n",
    "X_bal = np.vstack((X[y == 0], X_upsampled))\n",
    "y_bal = np.hstack((y[y == 0], y_upsampled))\n",
    "\n",
    "y_pred = np.zeros(y_bal.shape[0])\n",
    "np.mean(y_pred == y_bal) * 100\n",
    "\n",
    "# Generation fo synthetic training could be used"
   ],
   "id": "42ef29b0b68d1054",
   "execution_count": 66,
   "outputs": []
  },
  {
   "metadata": {},
   "cell_type": "code",
   "execution_count": null,
   "source": "",
   "id": "942052b1574aa338",
   "outputs": []
  }
 ],
 "metadata": {
  "kernelspec": {
   "display_name": "Python 3",
   "language": "python",
   "name": "python3"
  },
  "language_info": {
   "codemirror_mode": {
    "name": "ipython",
    "version": 2
   },
   "file_extension": ".py",
   "mimetype": "text/x-python",
   "name": "python",
   "nbconvert_exporter": "python",
   "pygments_lexer": "ipython2",
   "version": "2.7.6"
  }
 },
 "nbformat": 4,
 "nbformat_minor": 5
}
