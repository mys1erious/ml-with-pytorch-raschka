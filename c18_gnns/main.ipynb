{
 "cells": [
  {
   "metadata": {
    "ExecuteTime": {
     "end_time": "2024-08-04T07:11:53.323334Z",
     "start_time": "2024-08-04T07:11:52.824525Z"
    }
   },
   "cell_type": "code",
   "source": [
    "import numpy as np\n",
    "import networkx as nx\n",
    "\n",
    "G = nx.Graph()\n",
    "blue, orange, green = \"#1f77b4\", \"#ff7f0e\", \"#2ca02c\"\n",
    "G.add_nodes_from([\n",
    "    (1, {\"color\": blue}),\n",
    "    (2, {\"color\": orange}),\n",
    "    (3, {\"color\": blue}),\n",
    "    (4, {\"color\": green})\n",
    "])\n",
    "G.add_edges_from([(1, 2), (2, 3), (1, 3), (3, 4)])\n",
    "A = np.asarray(nx.adjacency_matrix(G).todense())\n",
    "print(A)\n",
    "\n",
    "\n",
    "def build_graph_color_label_representation(G, mapping_dict):\n",
    "    one_hot_idxs = np.array([\n",
    "        mapping_dict[v] for v in\n",
    "        nx.get_node_attributes(G, 'color').values()\n",
    "    ])\n",
    "    one_hot_encoding = np.zeros(\n",
    "        (one_hot_idxs.size, len(mapping_dict))\n",
    "    )\n",
    "    one_hot_encoding[\n",
    "        np.arange(one_hot_idxs.size), one_hot_idxs\n",
    "    ] = 1\n",
    "    return one_hot_encoding\n",
    "\n",
    "\n",
    "X = build_graph_color_label_representation(\n",
    "    G, {green: 0, blue: 1, orange: 2}\n",
    ")\n",
    "print(X)"
   ],
   "id": "f011c218d0f4ba88",
   "outputs": [
    {
     "name": "stdout",
     "output_type": "stream",
     "text": [
      "[[0 1 1 0]\n",
      " [1 0 1 0]\n",
      " [1 1 0 1]\n",
      " [0 0 1 0]]\n",
      "[[0. 1. 0.]\n",
      " [0. 0. 1.]\n",
      " [0. 1. 0.]\n",
      " [1. 0. 0.]]\n"
     ]
    }
   ],
   "execution_count": 3
  },
  {
   "metadata": {
    "ExecuteTime": {
     "end_time": "2024-08-04T07:11:53.894917Z",
     "start_time": "2024-08-04T07:11:53.326017Z"
    }
   },
   "cell_type": "code",
   "source": [
    "color_map = nx.get_node_attributes(G, 'color').values()\n",
    "nx.draw(G, with_labels=True, node_color=color_map)"
   ],
   "id": "a31711f4154c0e83",
   "outputs": [
    {
     "data": {
      "text/plain": [
       "<Figure size 640x480 with 1 Axes>"
      ],
      "image/png": "[encoded data removed]"
     },
     "metadata": {},
     "output_type": "display_data"
    }
   ],
   "execution_count": 4
  },
  {
   "metadata": {
    "ExecuteTime": {
     "end_time": "2024-08-04T07:11:53.900984Z",
     "start_time": "2024-08-04T07:11:53.896614Z"
    }
   },
   "cell_type": "code",
   "source": [
    "# Forward pass of a graph convolution\n",
    "\n",
    "f_in, f_out = X.shape[1], 6\n",
    "W_1 = np.random.rand(f_in, f_out)\n",
    "W_2 = np.random.rand(f_in, f_out)\n",
    "h = np.dot(X, W_1) + np.dot(np.dot(A, X), W_2)"
   ],
   "id": "53cbed40c6af846d",
   "outputs": [],
   "execution_count": 5
  },
  {
   "metadata": {
    "ExecuteTime": {
     "end_time": "2024-08-04T07:56:30.534650Z",
     "start_time": "2024-08-04T07:56:30.528106Z"
    }
   },
   "cell_type": "code",
   "source": [
    "# GNN in Pytorch from scratch\n",
    "\n",
    "import networkx as nx\n",
    "import torch\n",
    "from torch.nn.parameter import Parameter\n",
    "import numpy as np\n",
    "import math\n",
    "import torch.nn.functional as F\n",
    "\n",
    "\n",
    "class NodeNetwork(torch.nn.Module):\n",
    "    def __init__(self, input_features):\n",
    "        super().__init__()\n",
    "        self.conv_1 = BasicGraphConvolutionLayer(\n",
    "            input_features, 32\n",
    "        )\n",
    "        self.conv_2 = BasicGraphConvolutionLayer(\n",
    "            32, 32\n",
    "        )\n",
    "        self.fc_1 = torch.nn.Linear(32, 16)\n",
    "        self.out_layer = torch.nn.Linear(16, 2)\n",
    "    \n",
    "    def forward(self, X, A, batch_mat):\n",
    "        x = F.relu(self.conv_1(X, A))\n",
    "        x = F.relu(self.conv_2(x, A))\n",
    "        output = global_sum_pool(x, batch_mat)\n",
    "        output = self.fc_1(output)\n",
    "        output = self.out_layer(output)\n",
    "        return F.softmax(output, dim=1)\n",
    "\n",
    "\n",
    "class BasicGraphConvolutionLayer(torch.nn.Module):\n",
    "    def __init__(self, in_channels, out_channels):\n",
    "        super().__init__()\n",
    "        self.in_channels = in_channels\n",
    "        self.out_channels = out_channels\n",
    "        \n",
    "        self.W2 = Parameter(torch.rand(\n",
    "            (in_channels, out_channels), \n",
    "            dtype=torch.float32\n",
    "        ))\n",
    "        self.W1 = Parameter(torch.rand(\n",
    "            (in_channels, out_channels),\n",
    "            dtype=torch.float32\n",
    "        ))\n",
    "        self.bias = Parameter(torch.zeros(\n",
    "            out_channels,\n",
    "            dtype=torch.float32\n",
    "        ))\n",
    "    \n",
    "    def forward(self, X, A):\n",
    "        potential_msgs = torch.mm(X, self.W2)\n",
    "        propagated_msgs = torch.mm(A, potential_msgs)\n",
    "        root_update = torch.mm(X, self.W1)\n",
    "        output = propagated_msgs + root_update + self.bias\n",
    "        return output\n",
    "\n",
    "\n",
    "def global_sum_pool(X, batch_mat):\n",
    "    if batch_mat is None or batch_mat.dim() == 1:\n",
    "        return torch.sum(X, dim=0).unsqueeze(0)\n",
    "    else:\n",
    "        return torch.mm(batch_mat, X)"
   ],
   "id": "23e1e638f4d3f4d3",
   "outputs": [],
   "execution_count": 14
  },
  {
   "metadata": {
    "ExecuteTime": {
     "end_time": "2024-08-04T07:56:30.681214Z",
     "start_time": "2024-08-04T07:56:30.676600Z"
    }
   },
   "cell_type": "code",
   "source": [
    "print('X.shape:', X.shape)\n",
    "print('A.shape:', A.shape)\n",
    "\n",
    "basiclayer = BasicGraphConvolutionLayer(3, 8)\n",
    "out = basiclayer(\n",
    "    X=torch.tensor(X, dtype=torch.float32),\n",
    "    A=torch.tensor(A, dtype=torch.float32)\n",
    ")\n",
    "print('Output shape:', out.shape)"
   ],
   "id": "37cb24db8c30135a",
   "outputs": [
    {
     "name": "stdout",
     "output_type": "stream",
     "text": [
      "X.shape: (4, 3)\n",
      "A.shape: (4, 4)\n",
      "Output shape: torch.Size([4, 8])\n"
     ]
    }
   ],
   "execution_count": 15
  },
  {
   "metadata": {
    "ExecuteTime": {
     "end_time": "2024-08-04T07:56:30.806545Z",
     "start_time": "2024-08-04T07:56:30.798208Z"
    }
   },
   "cell_type": "code",
   "source": [
    "def get_batch_tensor(graph_sizes):\n",
    "    starts = [\n",
    "        sum(graph_sizes[:idx])\n",
    "        for idx in range(len(graph_sizes))\n",
    "    ]\n",
    "    stops = [\n",
    "        starts[idx] + graph_sizes[idx]\n",
    "        for idx in range(len(graph_sizes))\n",
    "    ]\n",
    "    tot_len = sum(graph_sizes)\n",
    "    batch_size = len(graph_sizes)\n",
    "    batch_mat = torch.zeros([batch_size, tot_len]).float()\n",
    "    for idx, starts_and_stops in enumerate(zip(starts, stops)):\n",
    "        start = starts_and_stops[0]\n",
    "        stop = starts_and_stops[1]\n",
    "        batch_mat[idx, start:stop] = 1\n",
    "    return batch_mat\n",
    "\n",
    "\n",
    "def collate_graphs(batch):\n",
    "    adj_mats = [graph['A'] for graph in batch]\n",
    "    sizes = [A.size(0) for A in adj_mats]\n",
    "    tot_size = sum(sizes)\n",
    "    batch_mat = get_batch_tensor(sizes)\n",
    "    feat_mats = torch.cat([graph['X'] for graph in batch], dim=0)\n",
    "    labels = torch.cat([graph['y'] for graph in batch], dim=0)\n",
    "    batch_adj = torch.zeros([tot_size, tot_size], dtype=torch.float32)\n",
    "    accum = 0\n",
    "    \n",
    "    for adj in adj_mats:\n",
    "        g_size = adj.shape[0]\n",
    "        batch_adj[accum:accum+g_size, accum:accum+g_size] = adj\n",
    "        accum = accum + g_size\n",
    "    repr_and_label = {\n",
    "        'A': batch_adj,\n",
    "        'X': feat_mats,\n",
    "        'y': labels,\n",
    "        'batch': batch_mat\n",
    "    }\n",
    "    return repr_and_label"
   ],
   "id": "3cbafee6fdaef9bc",
   "outputs": [],
   "execution_count": 16
  },
  {
   "metadata": {
    "ExecuteTime": {
     "end_time": "2024-08-04T07:56:30.934842Z",
     "start_time": "2024-08-04T07:56:30.930781Z"
    }
   },
   "cell_type": "code",
   "source": [
    "def get_graph_dict(G, mapping_dict):\n",
    "    A = torch.from_numpy(\n",
    "        np.asarray(nx.adjacency_matrix(G).todense())\n",
    "    ).float()\n",
    "    X = torch.from_numpy(\n",
    "        build_graph_color_label_representation(\n",
    "            G, mapping_dict\n",
    "        )\n",
    "    ).float()\n",
    "    y = torch.tensor([[1, 0]]).float()\n",
    "    return {'A': A, 'X': X, 'y': y, 'batch': None}"
   ],
   "id": "5bc22c44a30ed790",
   "outputs": [],
   "execution_count": 17
  },
  {
   "metadata": {
    "ExecuteTime": {
     "end_time": "2024-08-04T07:56:31.082835Z",
     "start_time": "2024-08-04T07:56:31.074035Z"
    }
   },
   "cell_type": "code",
   "source": [
    "blue, orange, green = \"#1f77b4\", \"#ff7f0e\", \"#2ca02c\"\n",
    "mapping_dict = {green: 0, blue: 1, orange: 2}\n",
    "G1 = nx.Graph()\n",
    "G1.add_nodes_from([\n",
    "    (1, {\"color\": blue}),\n",
    "    (2, {\"color\": orange}),\n",
    "    (3, {\"color\": blue}),\n",
    "    (4, {\"color\": green})\n",
    "])\n",
    "G1.add_edges_from([(1, 2), (2, 3), (1, 3), (3, 4)])\n",
    "G2 = nx.Graph()\n",
    "G2.add_nodes_from([\n",
    "    (1, {\"color\": green}),\n",
    "    (2, {\"color\": green}),\n",
    "    (3, {\"color\": orange}),\n",
    "    (4, {\"color\": orange}),\n",
    "    (5, {\"color\": blue})\n",
    "])\n",
    "G2.add_edges_from([(2, 3), (3, 4), (3, 1), (5, 1)])\n",
    "G3 = nx.Graph()\n",
    "G3.add_nodes_from([\n",
    "    (1, {\"color\": orange}),\n",
    "    (2, {\"color\": orange}),\n",
    "    (3, {\"color\": green}),\n",
    "    (4, {\"color\": green}),\n",
    "    (5, {\"color\": blue}),\n",
    "    (6, {\"color\": orange})\n",
    "])\n",
    "G3.add_edges_from([(2, 3), (3, 4), (3, 1), (5, 1), (2, 5), (6, 1)])\n",
    "G4 = nx.Graph()\n",
    "G4.add_nodes_from([\n",
    "    (1, {\"color\": blue}),\n",
    "    (2, {\"color\": blue}),\n",
    "    (3, {\"color\": green})\n",
    "])\n",
    "G4.add_edges_from([(1, 2), (2, 3)])\n",
    "graph_list = [\n",
    "    get_graph_dict(graph, mapping_dict)\n",
    "    for graph in [G1, G2, G3, G4]\n",
    "]"
   ],
   "id": "cba84ca41f5e754f",
   "outputs": [],
   "execution_count": 18
  },
  {
   "metadata": {
    "ExecuteTime": {
     "end_time": "2024-08-04T07:56:31.290604Z",
     "start_time": "2024-08-04T07:56:31.287561Z"
    }
   },
   "cell_type": "code",
   "source": [
    "from torch.utils.data import Dataset\n",
    "\n",
    "class ExampleDataset(Dataset):\n",
    "    def __init__(self, graph_list):\n",
    "        self.graphs = graph_list\n",
    "    \n",
    "    def __len__(self):\n",
    "        return len(self.graphs)\n",
    "    \n",
    "    def __getitem__(self, idx):\n",
    "        mol_rep = self.graphs[idx]\n",
    "        return mol_rep"
   ],
   "id": "9b1c49620e9b1514",
   "outputs": [],
   "execution_count": 19
  },
  {
   "metadata": {
    "ExecuteTime": {
     "end_time": "2024-08-04T07:56:31.603226Z",
     "start_time": "2024-08-04T07:56:31.599575Z"
    }
   },
   "cell_type": "code",
   "source": [
    "from torch.utils.data import DataLoader\n",
    "\n",
    "dset = ExampleDataset(graph_list)\n",
    "loader = DataLoader(\n",
    "    dset,\n",
    "    batch_size=2,\n",
    "    shuffle=False,\n",
    "    collate_fn=collate_graphs\n",
    ")"
   ],
   "id": "6e22c18919103aad",
   "outputs": [],
   "execution_count": 20
  },
  {
   "metadata": {
    "ExecuteTime": {
     "end_time": "2024-08-04T07:56:32.026490Z",
     "start_time": "2024-08-04T07:56:32.019035Z"
    }
   },
   "cell_type": "code",
   "source": [
    "node_features = 3\n",
    "net = NodeNetwork(node_features)\n",
    "\n",
    "batch_results = []\n",
    "for b in loader:\n",
    "    batch_results.append(\n",
    "        net(b['X'], b['A'], b['batch']).detach()\n",
    "    )\n",
    "\n",
    "G1_rep = dset[1]\n",
    "G1_single = net(\n",
    "    G1_rep['X'], G1_rep['A'], G1_rep['batch']\n",
    ").detach()\n",
    "G1_batch = batch_results[0][1]\n",
    "torch.all(torch.isclose(G1_single, G1_batch))"
   ],
   "id": "3cf654d057bea50a",
   "outputs": [
    {
     "data": {
      "text/plain": [
       "tensor(True)"
      ]
     },
     "execution_count": 21,
     "metadata": {},
     "output_type": "execute_result"
    }
   ],
   "execution_count": 21
  },
  {
   "metadata": {
    "ExecuteTime": {
     "end_time": "2024-08-04T08:01:32.020336Z",
     "start_time": "2024-08-04T08:01:00.879069Z"
    }
   },
   "cell_type": "code",
   "source": [
    "import torch\n",
    "from torch_geometric.datasets import QM9\n",
    "from torch_geometric.loader import DataLoader\n",
    "from torch_geometric.nn import NNConv, global_add_pool\n",
    "import torch.nn.functional as F\n",
    "import torch.nn as nn\n",
    "import numpy as np\n",
    "\n",
    "\n",
    "dset = QM9('.')\n",
    "len(dset)"
   ],
   "id": "61a37e1425b11cdf",
   "outputs": [
    {
     "name": "stderr",
     "output_type": "stream",
     "text": [
      "Downloading https://data.pyg.org/datasets/qm9_v3.zip\n",
      "Extracting ./raw/qm9_v3.zip\n",
      "Processing...\n",
      "Using a pre-processed version of the dataset. Please install 'rdkit' to alternatively process the raw data.\n",
      "Done!\n"
     ]
    },
    {
     "data": {
      "text/plain": [
       "130831"
      ]
     },
     "execution_count": 22,
     "metadata": {},
     "output_type": "execute_result"
    }
   ],
   "execution_count": 22
  },
  {
   "metadata": {
    "ExecuteTime": {
     "end_time": "2024-08-04T08:02:52.375310Z",
     "start_time": "2024-08-04T08:02:52.369616Z"
    }
   },
   "cell_type": "code",
   "source": [
    "data = dset[0]\n",
    "print(data)\n",
    "print(data.z)\n",
    "data.new_attribute = torch.tensor([1, 2, 3])\n",
    "print(data)\n",
    "\n",
    "device = torch.device(\n",
    "    'cuda:0' if torch.cuda.is_available() else 'cpu'\n",
    ")\n",
    "data.to(device)\n",
    "data.new_attribute.is_cuda"
   ],
   "id": "effb3ccdadd67e66",
   "outputs": [
    {
     "name": "stdout",
     "output_type": "stream",
     "text": [
      "Data(x=[5, 11], edge_index=[2, 8], edge_attr=[8, 4], y=[1, 19], pos=[5, 3], idx=[1], name='gdb_1', z=[5])\n",
      "tensor([6, 1, 1, 1, 1])\n",
      "Data(x=[5, 11], edge_index=[2, 8], edge_attr=[8, 4], y=[1, 19], pos=[5, 3], idx=[1], name='gdb_1', z=[5], new_attribute=[3])\n"
     ]
    },
    {
     "data": {
      "text/plain": [
       "False"
      ]
     },
     "execution_count": 26,
     "metadata": {},
     "output_type": "execute_result"
    }
   ],
   "execution_count": 26
  },
  {
   "metadata": {
    "ExecuteTime": {
     "end_time": "2024-08-04T08:09:26.005469Z",
     "start_time": "2024-08-04T08:09:25.999953Z"
    }
   },
   "cell_type": "code",
   "source": [
    "class ExampleNet(torch.nn.Module):\n",
    "    def __init__(self, num_node_features, num_edge_features):\n",
    "        super().__init__()\n",
    "        conv1_net = nn.Sequential(\n",
    "            nn.Linear(num_edge_features, 32),\n",
    "            nn.ReLU(),\n",
    "            nn.Linear(32, num_node_features*32)\n",
    "        )\n",
    "        conv2_net = nn.Sequential(\n",
    "            nn.Linear(num_edge_features, 32),\n",
    "            nn.ReLU(),\n",
    "            nn.Linear(32, 32*16)\n",
    "        )\n",
    "        \n",
    "        self.conv1 = NNConv(num_node_features, 32, conv1_net)\n",
    "        self.conv2 = NNConv(32, 16, conv2_net)\n",
    "        self.fc_1 = nn.Linear(16, 32)\n",
    "        self.out = nn.Linear(32, 1)\n",
    "    \n",
    "    def forward(self, data):\n",
    "        batch, x, edge_index, edge_attr = (\n",
    "            data.batch, data.x, data.edge_index, data.edge_attr\n",
    "        )\n",
    "        \n",
    "        x = F.relu(self.conv1(x, edge_index, edge_attr))\n",
    "        x = F.relu(self.conv2(x, edge_index, edge_attr))\n",
    "        x = global_add_pool(x, batch)\n",
    "        x = F.relu(self.fc_1(x))\n",
    "        output = self.out(x)\n",
    "        return output"
   ],
   "id": "68bdc2b904eb942a",
   "outputs": [],
   "execution_count": 27
  },
  {
   "metadata": {
    "ExecuteTime": {
     "end_time": "2024-08-04T08:15:11.417528Z",
     "start_time": "2024-08-04T08:15:11.408074Z"
    }
   },
   "cell_type": "code",
   "source": [
    "from torch.utils.data import random_split\n",
    "\n",
    "train_set, valid_set, test_set = random_split(\n",
    "    dset, [110000, 10831, 10000]\n",
    ")\n",
    "train_set = train_set[:11000]\n",
    "valid_set = valid_set[:1083]\n",
    "test_set = test_set[:1000]\n",
    "trainloader = DataLoader(train_set, batch_size=32, shuffle=True)\n",
    "validloader = DataLoader(valid_set, batch_size=32, shuffle=True)\n",
    "testloader = DataLoader(test_set, batch_size=32, shuffle=True)"
   ],
   "id": "855749f4de33f27e",
   "outputs": [],
   "execution_count": 35
  },
  {
   "metadata": {
    "ExecuteTime": {
     "end_time": "2024-08-04T08:15:33.477103Z",
     "start_time": "2024-08-04T08:15:33.466537Z"
    }
   },
   "cell_type": "code",
   "source": [
    "qm9_node_feats, qm9_edge_feats = 11, 4\n",
    "net = ExampleNet(qm9_node_feats, qm9_edge_feats)\n",
    "\n",
    "optimizer = torch.optim.Adam(\n",
    "    net.parameters(), lr=0.01\n",
    ")\n",
    "epochs = 20\n",
    "target_idx = 1\n",
    "device = torch.device('cuda:0' if torch.cuda.is_available() else 'cpu')\n",
    "net.to(device)"
   ],
   "id": "3919caefe6b6f605",
   "outputs": [
    {
     "data": {
      "text/plain": [
       "ExampleNet(\n",
       "  (conv1): NNConv(11, 32, aggr=add, nn=Sequential(\n",
       "    (0): Linear(in_features=4, out_features=32, bias=True)\n",
       "    (1): ReLU()\n",
       "    (2): Linear(in_features=32, out_features=352, bias=True)\n",
       "  ))\n",
       "  (conv2): NNConv(32, 16, aggr=add, nn=Sequential(\n",
       "    (0): Linear(in_features=4, out_features=32, bias=True)\n",
       "    (1): ReLU()\n",
       "    (2): Linear(in_features=32, out_features=512, bias=True)\n",
       "  ))\n",
       "  (fc_1): Linear(in_features=16, out_features=32, bias=True)\n",
       "  (out): Linear(in_features=32, out_features=1, bias=True)\n",
       ")"
      ]
     },
     "execution_count": 38,
     "metadata": {},
     "output_type": "execute_result"
    }
   ],
   "execution_count": 38
  },
  {
   "metadata": {
    "ExecuteTime": {
     "end_time": "2024-08-04T08:16:57.096802Z",
     "start_time": "2024-08-04T08:15:33.902928Z"
    }
   },
   "cell_type": "code",
   "source": [
    "for total_epochs in range(epochs):\n",
    "    epoch_loss = 0\n",
    "    total_graphs = 0\n",
    "    net.train()\n",
    "    for batch in trainloader:\n",
    "        batch.to(device)\n",
    "        optimizer.zero_grad()\n",
    "        output = net(batch)\n",
    "        loss = F.mse_loss(\n",
    "            output, batch.y[:, target_idx].unsqueeze(1)\n",
    "        )\n",
    "        loss.backward()\n",
    "        epoch_loss += loss.item()\n",
    "        total_graphs += batch.num_graphs\n",
    "        optimizer.step()\n",
    "    train_avg_loss = epoch_loss / total_graphs\n",
    "    val_loss = 0\n",
    "    total_graphs = 0\n",
    "    net.eval()\n",
    "    for batch in validloader:\n",
    "        batch.to(device)\n",
    "        output = net(batch)\n",
    "        loss = F.mse_loss(\n",
    "            output, batch.y[:, target_idx].unsqueeze(1)\n",
    "        )\n",
    "        val_loss += loss.item()\n",
    "        total_graphs += batch.num_graphs\n",
    "    val_avg_loss = val_loss / total_graphs\n",
    "    print(f\"Epochs: {total_epochs} | \"\n",
    "          f\"epoch avg. loss: {train_avg_loss:.2f} | \"\n",
    "          f\"validation avg. loss: {val_avg_loss:.2f}\")"
   ],
   "id": "b0867a2b1270a4ba",
   "outputs": [
    {
     "name": "stdout",
     "output_type": "stream",
     "text": [
      "Epochs: 0 | epoch avg. loss: 3.63 | validation avg. loss: 0.32\n",
      "Epochs: 1 | epoch avg. loss: 0.41 | validation avg. loss: 0.26\n",
      "Epochs: 2 | epoch avg. loss: 0.39 | validation avg. loss: 0.29\n",
      "Epochs: 3 | epoch avg. loss: 0.41 | validation avg. loss: 0.35\n",
      "Epochs: 4 | epoch avg. loss: 0.37 | validation avg. loss: 0.21\n",
      "Epochs: 5 | epoch avg. loss: 0.31 | validation avg. loss: 0.27\n",
      "Epochs: 6 | epoch avg. loss: 0.33 | validation avg. loss: 0.19\n",
      "Epochs: 7 | epoch avg. loss: 0.29 | validation avg. loss: 0.17\n",
      "Epochs: 8 | epoch avg. loss: 0.26 | validation avg. loss: 0.48\n",
      "Epochs: 9 | epoch avg. loss: 0.26 | validation avg. loss: 0.13\n",
      "Epochs: 10 | epoch avg. loss: 0.24 | validation avg. loss: 0.12\n",
      "Epochs: 11 | epoch avg. loss: 0.26 | validation avg. loss: 0.12\n",
      "Epochs: 12 | epoch avg. loss: 0.21 | validation avg. loss: 0.22\n",
      "Epochs: 13 | epoch avg. loss: 0.20 | validation avg. loss: 0.22\n",
      "Epochs: 14 | epoch avg. loss: 0.20 | validation avg. loss: 0.16\n",
      "Epochs: 15 | epoch avg. loss: 0.18 | validation avg. loss: 0.10\n",
      "Epochs: 16 | epoch avg. loss: 0.19 | validation avg. loss: 0.19\n",
      "Epochs: 17 | epoch avg. loss: 0.23 | validation avg. loss: 0.10\n",
      "Epochs: 18 | epoch avg. loss: 0.17 | validation avg. loss: 0.09\n",
      "Epochs: 19 | epoch avg. loss: 0.18 | validation avg. loss: 0.09\n"
     ]
    }
   ],
   "execution_count": 39
  },
  {
   "metadata": {
    "ExecuteTime": {
     "end_time": "2024-08-04T08:18:13.857141Z",
     "start_time": "2024-08-04T08:18:13.689418Z"
    }
   },
   "cell_type": "code",
   "source": [
    "net.eval()\n",
    "predictions = []\n",
    "real = []\n",
    "\n",
    "for batch in testloader:\n",
    "    output = net(batch.to(device))\n",
    "    predictions.append(output.detach().cpu().numpy())\n",
    "    real.append(\n",
    "    batch.y[:,target_idx].detach().cpu().numpy()\n",
    "    )\n",
    "real = np.concatenate(real)\n",
    "predictions = np.concatenate(predictions)"
   ],
   "id": "e3af6c1ec538b4f2",
   "outputs": [],
   "execution_count": 43
  },
  {
   "metadata": {
    "ExecuteTime": {
     "end_time": "2024-08-04T08:18:50.403747Z",
     "start_time": "2024-08-04T08:18:50.242063Z"
    }
   },
   "cell_type": "code",
   "source": [
    "import matplotlib.pyplot as plt\n",
    "\n",
    "plt.scatter(real[:500], predictions[:500])\n",
    "plt.xlabel('Isotropic polarizability')\n",
    "plt.ylabel('Predicted isotropic polarizability')"
   ],
   "id": "7cbe6d70de18cab3",
   "outputs": [
    {
     "data": {
      "text/plain": [
       "Text(0, 0.5, 'Predicted isotropic polarizability')"
      ]
     },
     "execution_count": 44,
     "metadata": {},
     "output_type": "execute_result"
    },
    {
     "data": {
      "text/plain": [
       "<Figure size 640x480 with 1 Axes>"
      ],
      "image/png": "[encoded data removed]"
     },
     "metadata": {},
     "output_type": "display_data"
    }
   ],
   "execution_count": 44
  },
  {
   "metadata": {},
   "cell_type": "code",
   "outputs": [],
   "execution_count": null,
   "source": "",
   "id": "753547371c5c3482"
  }
 ],
 "metadata": {
  "kernelspec": {
   "display_name": "Python 3",
   "language": "python",
   "name": "python3"
  },
  "language_info": {
   "codemirror_mode": {
    "name": "ipython",
    "version": 2
   },
   "file_extension": ".py",
   "mimetype": "text/x-python",
   "name": "python",
   "nbconvert_exporter": "python",
   "pygments_lexer": "ipython2",
   "version": "2.7.6"
  }
 },
 "nbformat": 4,
 "nbformat_minor": 5
}
