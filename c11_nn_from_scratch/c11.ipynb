{
 "cells": [
  {
   "cell_type": "code",
   "id": "initial_id",
   "metadata": {
    "collapsed": true,
    "ExecuteTime": {
     "end_time": "2024-07-27T08:11:04.450146Z",
     "start_time": "2024-07-27T08:10:59.570669Z"
    }
   },
   "source": [
    "from sklearn.datasets import fetch_openml\n",
    "\n",
    "X, y = fetch_openml(\n",
    "    'mnist_784',\n",
    "    version=1,\n",
    "    return_X_y=True\n",
    ")\n",
    "X = X.values\n",
    "y = y.astype(int).values\n",
    "\n",
    "print(X.shape)\n",
    "print(y.shape)"
   ],
   "execution_count": 1,
   "outputs": []
  },
  {
   "metadata": {
    "ExecuteTime": {
     "end_time": "2024-07-27T08:11:04.675964Z",
     "start_time": "2024-07-27T08:11:04.451487Z"
    }
   },
   "cell_type": "code",
   "source": [
    "# Normalize the pixels values to the range -1 to 1 (instead of 0 to 255)\n",
    "\n",
    "X = ((X / 255.) - .5) * 2"
   ],
   "id": "37bf2101a07e41f5",
   "execution_count": 2,
   "outputs": []
  },
  {
   "metadata": {
    "ExecuteTime": {
     "end_time": "2024-07-27T08:11:05.538031Z",
     "start_time": "2024-07-27T08:11:04.676979Z"
    }
   },
   "cell_type": "code",
   "source": [
    "import matplotlib.pyplot as plt\n",
    "\n",
    "fig, ax = plt.subplots(\n",
    "    nrows=2,\n",
    "    ncols=5,\n",
    "    sharex=True,\n",
    "    sharey=True\n",
    ")\n",
    "\n",
    "ax = ax.flatten()\n",
    "for i in range(10):\n",
    "    img = X[y == i][0].reshape(28, 28)\n",
    "    ax[i].imshow(img, cmap='Greys')\n",
    "\n",
    "ax[0].set_xticks([])\n",
    "ax[0].set_yticks([])\n",
    "plt.tight_layout()\n",
    "plt.show()"
   ],
   "id": "6a750ebdee2ce447",
   "execution_count": 3,
   "outputs": []
  },
  {
   "metadata": {
    "ExecuteTime": {
     "end_time": "2024-07-27T08:11:07.086376Z",
     "start_time": "2024-07-27T08:11:05.538866Z"
    }
   },
   "cell_type": "code",
   "source": [
    "fig, ax = plt.subplots(\n",
    "    nrows=5,\n",
    "    ncols=5,\n",
    "    sharex=True,\n",
    "    sharey=True\n",
    ")\n",
    "ax = ax.flatten()\n",
    "\n",
    "for i in range(25):\n",
    "    img = X[y == 7][i].reshape(28, 28)\n",
    "    ax[i].imshow(img, cmap='Greys')\n",
    "ax[0].set_xticks([])\n",
    "ax[0].set_yticks([])\n",
    "plt.tight_layout()\n",
    "plt.show()"
   ],
   "id": "f7a84ca8d8664d13",
   "execution_count": 4,
   "outputs": []
  },
  {
   "metadata": {
    "ExecuteTime": {
     "end_time": "2024-07-27T08:11:07.645860Z",
     "start_time": "2024-07-27T08:11:07.088129Z"
    }
   },
   "cell_type": "code",
   "source": [
    "from sklearn.model_selection import train_test_split\n",
    "\n",
    "X_temp, X_test, y_temp, y_test = train_test_split(\n",
    "    X, y,\n",
    "    test_size=10000,\n",
    "    random_state=123,\n",
    "    stratify=y\n",
    ")\n",
    "X_train, X_valid, y_train, y_valid = train_test_split(\n",
    "    X_temp, y_temp,\n",
    "    test_size=5000,\n",
    "    random_state=123,\n",
    "    stratify=y_temp\n",
    ")"
   ],
   "id": "4a5b423b2fe5d278",
   "execution_count": 5,
   "outputs": []
  },
  {
   "metadata": {
    "ExecuteTime": {
     "end_time": "2024-07-27T08:11:07.660512Z",
     "start_time": "2024-07-27T08:11:07.647005Z"
    }
   },
   "cell_type": "code",
   "source": [
    "from c11_nn_from_scratch.neuralnet import NeuralNetMLP\n",
    "\n",
    "model = NeuralNetMLP(\n",
    "    num_features=28 * 28,\n",
    "    num_hidden=50,\n",
    "    num_classes=10\n",
    ")"
   ],
   "id": "e04373a45587991a",
   "execution_count": 6,
   "outputs": []
  },
  {
   "metadata": {},
   "cell_type": "markdown",
   "source": "",
   "id": "1508117e92673c7e"
  },
  {
   "metadata": {
    "ExecuteTime": {
     "end_time": "2024-07-27T08:11:07.666275Z",
     "start_time": "2024-07-27T08:11:07.661523Z"
    }
   },
   "cell_type": "code",
   "source": [
    "from c11_nn_from_scratch.neuralnet import minibatch_generator, MINIBATCH_SIZE, NUM_EPOCHS\n",
    "\n",
    "for i in range(NUM_EPOCHS):\n",
    "    minibatch_gen = minibatch_generator(\n",
    "        X_train, y_train, MINIBATCH_SIZE\n",
    "    )\n",
    "    for X_train_mini, y_train_mini in minibatch_gen:\n",
    "        break\n",
    "    break\n",
    "\n",
    "print(X_train_mini.shape)\n",
    "print(y_train_mini.shape)"
   ],
   "id": "aeaa7ec0444ed186",
   "execution_count": 7,
   "outputs": []
  },
  {
   "metadata": {
    "ExecuteTime": {
     "end_time": "2024-07-27T08:11:07.695914Z",
     "start_time": "2024-07-27T08:11:07.667172Z"
    }
   },
   "cell_type": "code",
   "source": [
    "import numpy as np\n",
    "from c11_nn_from_scratch.neuralnet import mse_loss, accuracy\n",
    "\n",
    "_, probas = model.forward(X_valid)\n",
    "mse = mse_loss(y_valid, probas)\n",
    "print(f'Initial validation MSE: {mse:.1f}')\n",
    "\n",
    "predicted_labels = np.argmax(probas, axis=1)\n",
    "acc = accuracy(y_valid, predicted_labels)\n",
    "print(f'Initial validation accuracy: {acc * 100:.1f}%')"
   ],
   "id": "53512794a88d228d",
   "execution_count": 8,
   "outputs": []
  },
  {
   "metadata": {
    "ExecuteTime": {
     "end_time": "2024-07-27T08:11:07.752295Z",
     "start_time": "2024-07-27T08:11:07.697129Z"
    }
   },
   "cell_type": "code",
   "source": [
    "from c11_nn_from_scratch.neuralnet import compute_mse_and_acc\n",
    "\n",
    "mse, acc = compute_mse_and_acc(model, X_valid, y_valid)\n",
    "print(f'Initial valid MSE: {mse:.1f}')\n",
    "print(f'Initial valid accuracy: {acc * 100:.1f}%')"
   ],
   "id": "ad03607a22b647e4",
   "execution_count": 9,
   "outputs": []
  },
  {
   "metadata": {
    "ExecuteTime": {
     "end_time": "2024-07-27T08:11:20.455614Z",
     "start_time": "2024-07-27T08:11:07.753523Z"
    }
   },
   "cell_type": "code",
   "source": [
    "from c11_nn_from_scratch.neuralnet import train\n",
    "\n",
    "np.random.seed(123)\n",
    "\n",
    "epoch_loss, epoch_train_acc, epoch_valid_acc = train(\n",
    "    model, X_train, y_train, X_valid, y_valid, num_epochs=50, learning_rate=0.1\n",
    ")"
   ],
   "id": "155ccce8e992fab5",
   "execution_count": 10,
   "outputs": []
  },
  {
   "metadata": {},
   "cell_type": "code",
   "source": [
    "plt.plot(range(len(epoch_loss)), epoch_loss)\n",
    "plt.ylabel('Mean squared error')\n",
    "plt.xlabel('Epoch')\n",
    "plt.show()"
   ],
   "id": "68680eb05285c478",
   "execution_count": null,
   "outputs": []
  },
  {
   "metadata": {},
   "cell_type": "code",
   "source": [
    "plt.plot(range(len(epoch_train_acc)), epoch_train_acc, label='Training')\n",
    "plt.plot(range(len(epoch_valid_acc)), epoch_valid_acc, label='Validation')\n",
    "plt.ylabel('Accuracy')\n",
    "plt.xlabel('Epochs')\n",
    "plt.legend(loc='lower right')\n",
    "plt.show()"
   ],
   "id": "1201bb40887558eb",
   "execution_count": null,
   "outputs": []
  },
  {
   "metadata": {},
   "cell_type": "code",
   "source": [
    "test_mse, test_acc = compute_mse_and_acc(model, X_test, y_test)\n",
    "print(f'Test accuracy: {test_acc*100:.2f}%')"
   ],
   "id": "a6e9180eb06e5c3e",
   "execution_count": null,
   "outputs": []
  },
  {
   "metadata": {},
   "cell_type": "code",
   "source": [
    "# Misclassified\n",
    "\n",
    "X_test_subset = X_test[:1000, :]\n",
    "y_test_subset = y_test[:1000]\n",
    "\n",
    "_, probas = model.forward(X_test_subset)\n",
    "test_pred = np.argmax(probas, axis=1)\n",
    "\n",
    "misclassified_images = X_test_subset[y_test_subset != test_pred][:25]\n",
    "misclassified_labels = test_pred[y_test_subset != test_pred][:25]\n",
    "correct_labels = y_test_subset[y_test_subset != test_pred][:25]\n",
    "\n",
    "fig, ax = plt.subplots(\n",
    "    nrows=5,\n",
    "    ncols=5,\n",
    "    sharex=True,\n",
    "    sharey=True,\n",
    "    figsize=(8, 8)\n",
    ")\n",
    "ax = ax.flatten()\n",
    "\n",
    "for i in range(25):\n",
    "    img = misclassified_images[i].reshape(28, 28)\n",
    "    ax[i].imshow(img, cmap='Greys', interpolation='nearest')\n",
    "    ax[i].set_title(\n",
    "        f'{i + 1}) '\n",
    "        f'True: {correct_labels[i]}\\n'\n",
    "        f' Predicted: {misclassified_labels[i]}'\n",
    "    )\n",
    "ax[0].set_xticks([])\n",
    "ax[0].set_yticks([])\n",
    "plt.tight_layout()\n",
    "plt.show()"
   ],
   "id": "edf9c24ce618efb1",
   "execution_count": null,
   "outputs": []
  },
  {
   "metadata": {},
   "cell_type": "code",
   "source": "",
   "id": "1175417e4ba74a8e",
   "execution_count": null,
   "outputs": []
  }
 ],
 "metadata": {
  "kernelspec": {
   "display_name": "Python 3",
   "language": "python",
   "name": "python3"
  },
  "language_info": {
   "codemirror_mode": {
    "name": "ipython",
    "version": 2
   },
   "file_extension": ".py",
   "mimetype": "text/x-python",
   "name": "python",
   "nbconvert_exporter": "python",
   "pygments_lexer": "ipython2",
   "version": "2.7.6"
  }
 },
 "nbformat": 4,
 "nbformat_minor": 5
}
