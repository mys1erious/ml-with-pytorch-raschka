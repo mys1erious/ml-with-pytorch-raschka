{
 "cells": [
  {
   "cell_type": "code",
   "id": "initial_id",
   "metadata": {
    "collapsed": true,
    "ExecuteTime": {
     "end_time": "2024-07-26T04:51:57.972739Z",
     "start_time": "2024-07-26T04:51:57.965389Z"
    }
   },
   "source": [
    "import numpy as np\n",
    "\n",
    "def conv1d(x, w, p=0, s=1):\n",
    "    w_rot = np.array(w[::-1])\n",
    "    x_padded = np.array(x)\n",
    "    if p > 0:\n",
    "        zero_pad = np.zeros(shape=p)\n",
    "        x_padded = np.concatenate([\n",
    "            zero_pad, x_padded, zero_pad\n",
    "        ])\n",
    "    res = []\n",
    "    for i in range(0, int((len(x_padded) - len(w_rot))) + 1, s):\n",
    "        res.append(np.sum(x_padded[i:i+w_rot.shape[0]] * w_rot))\n",
    "    return np.array(res)\n",
    "\n",
    "x = [1, 3, 2, 4, 5, 6, 1, 3]\n",
    "w = [1, 0, 3, 1, 2]\n",
    "print('Conv1d Implementation:', conv1d(x, w, p=2, s=1))\n",
    "print('NumPy Results:', np.convolve(x, w, mode='same'))"
   ],
   "outputs": [
    {
     "name": "stdout",
     "output_type": "stream",
     "text": [
      "Conv1d Implementation: [ 5. 14. 16. 26. 24. 34. 19. 22.]\n",
      "NumPy Results: [ 5 14 16 26 24 34 19 22]\n"
     ]
    }
   ],
   "execution_count": 2
  },
  {
   "metadata": {
    "ExecuteTime": {
     "end_time": "2024-07-26T05:05:05.549768Z",
     "start_time": "2024-07-26T05:05:05.542347Z"
    }
   },
   "cell_type": "code",
   "source": [
    "import numpy as np\n",
    "import scipy.signal\n",
    "\n",
    "\n",
    "def conv2d(X, W, p=(0, 0), s=(1, 1)):\n",
    "    W_rot = np.array(W)[::-1, ::-1]\n",
    "    X_orig = np.array(X)\n",
    "    n1 = X_orig.shape[0] + 2 * p[0]\n",
    "    n2 = X_orig.shape[1] + 2 * p[1]\n",
    "    X_padded = np.zeros(shape=(n1, n2))\n",
    "    X_padded[p[0]:p[0] + X_orig.shape[0],\n",
    "    p[1]:p[1] + X_orig.shape[1]] = X_orig\n",
    "    \n",
    "    res = []\n",
    "    for i in range(\n",
    "        0,\n",
    "        int((X_padded.shape[0] - W_rot.shape[0]) / s[0]) + 1, \n",
    "        s[0]\n",
    "    ):\n",
    "        res.append([])\n",
    "        for j in range(\n",
    "                0,\n",
    "                int((X_padded.shape[1] - W_rot.shape[1])/s[1])+1, \n",
    "                s[1]\n",
    "        ):\n",
    "            X_sub = X_padded[i:i+W_rot.shape[0], j:j+W_rot.shape[1]]\n",
    "            res[-1].append(np.sum(X_sub * W_rot))\n",
    "    return(np.array(res))\n",
    "\n",
    "X = [[1, 3, 2, 4], [5, 6, 1, 3], [1, 2, 0, 2], [3, 4, 3, 2]]\n",
    "W = [[1, 0, 3], [1, 2, 1], [0, 1, 1]]\n",
    "print('Conv2d Implementation:\\n', conv2d(X, W, p=(1, 1), s=(1, 1)))\n",
    "print('SciPy Results:\\n', scipy.signal.convolve2d(X, W, mode='same'))"
   ],
   "id": "cc9d19da18d1dabd",
   "outputs": [
    {
     "name": "stdout",
     "output_type": "stream",
     "text": [
      "Conv2d Implementation:\n",
      " [[11. 25. 32. 13.]\n",
      " [19. 25. 24. 13.]\n",
      " [13. 28. 25. 17.]\n",
      " [11. 17. 14.  9.]]\n",
      "SciPy Results:\n",
      " [[11 25 32 13]\n",
      " [19 25 24 13]\n",
      " [13 28 25 17]\n",
      " [11 17 14  9]]\n"
     ]
    }
   ],
   "execution_count": 4
  },
  {
   "metadata": {
    "ExecuteTime": {
     "end_time": "2024-07-26T05:16:01.369060Z",
     "start_time": "2024-07-26T05:16:01.363366Z"
    }
   },
   "cell_type": "code",
   "source": [
    "import torch\n",
    "from torchvision.io import read_image\n",
    "\n",
    "img = read_image('example-image.png')\n",
    "print('Image shape:', img.shape)\n",
    "print('Number of channels:', img.shape[0])\n",
    "print('Image data type:', img.dtype)\n",
    "print(img[:, 100:102, 100:102])"
   ],
   "id": "cad8c15ad471d7e8",
   "outputs": [
    {
     "name": "stdout",
     "output_type": "stream",
     "text": [
      "Image shape: torch.Size([3, 252, 221])\n",
      "Number of channels: 3\n",
      "Image data type: torch.uint8\n",
      "tensor([[[179, 182],\n",
      "         [180, 182]],\n",
      "\n",
      "        [[134, 136],\n",
      "         [135, 137]],\n",
      "\n",
      "        [[110, 112],\n",
      "         [111, 113]]], dtype=torch.uint8)\n"
     ]
    }
   ],
   "execution_count": 7
  },
  {
   "metadata": {
    "ExecuteTime": {
     "end_time": "2024-07-26T05:34:24.295272Z",
     "start_time": "2024-07-26T05:34:24.289187Z"
    }
   },
   "cell_type": "code",
   "source": [
    "# Add regularization\n",
    "\n",
    "import torch.nn as nn\n",
    "loss_func = nn.BCELoss()\n",
    "loss = loss_func(torch.tensor([0.9]), torch.tensor([1.0]))\n",
    "l2_lambda = 0.001\n",
    "conv_layer = nn.Conv2d(\n",
    "    in_channels=3,\n",
    "    out_channels=5,\n",
    "    kernel_size=5,\n",
    ")\n",
    "l2_penalty = l2_lambda * sum(\n",
    "    [(p**2).sum() for p in conv_layer.parameters()]\n",
    ")\n",
    "loss_with_penalty = loss + l2_penalty\n",
    "linear_layer = nn.Linear(10, 16)\n",
    "l2_penalty = l2_lambda * sum(\n",
    "    [(p**2).sum() for p in linear_layer.parameters()]\n",
    ")\n",
    "loss_with_penalty = loss + l2_penalty\n",
    "\n",
    "# or weight decay\n",
    "# optimizer = torch.optim.SGD(\n",
    "#     model.parameters(),\n",
    "#     weight_decay=l2_lambda\n",
    "# )"
   ],
   "id": "684c21cf77cda04e",
   "outputs": [],
   "execution_count": 8
  },
  {
   "metadata": {
    "ExecuteTime": {
     "end_time": "2024-07-26T05:47:10.138747Z",
     "start_time": "2024-07-26T05:47:10.134303Z"
    }
   },
   "cell_type": "code",
   "source": [
    "# Binary Cross-entropy\n",
    "\n",
    "logits = torch.tensor([0.8])\n",
    "probas = torch.sigmoid(logits)\n",
    "target = torch.tensor([1.0])\n",
    "bce_loss_fn = nn.BCELoss()\n",
    "bce_logits_loss_fn = nn.BCEWithLogitsLoss()\n",
    "print(f'BCE (w Probas): {bce_loss_fn(probas, target):.4f}')\n",
    "print(f'BCE (w Logits): ', f'{bce_logits_loss_fn(logits, target):.4f}')"
   ],
   "id": "92e1718557a8c2c0",
   "outputs": [
    {
     "name": "stdout",
     "output_type": "stream",
     "text": [
      "BCE (w Probas): 0.3711\n",
      "BCE (w Logits):  0.3711\n"
     ]
    }
   ],
   "execution_count": 9
  },
  {
   "metadata": {
    "ExecuteTime": {
     "end_time": "2024-07-26T05:48:38.186972Z",
     "start_time": "2024-07-26T05:48:38.182624Z"
    }
   },
   "cell_type": "code",
   "source": [
    "# Categorical Cross-entropy\n",
    "logits = torch.tensor([[1.5, 0.8, 2.1]])\n",
    "probas = torch.softmax(logits, dim=1)\n",
    "target = torch.tensor([2])\n",
    "cce_loss_fn = nn.NLLLoss()\n",
    "cce_logits_loss_fn = nn.CrossEntropyLoss()\n",
    "print(f'CCE (w Logits): ', f'{cce_logits_loss_fn(logits, target):.4f}')\n",
    "print(f'CCE (w Probas): ', f'{cce_loss_fn(torch.log(probas), target):.4f}')"
   ],
   "id": "3fd9569130968fb6",
   "outputs": [
    {
     "name": "stdout",
     "output_type": "stream",
     "text": [
      "CCE (w Logits):  0.5996\n",
      "CCE (w Probas):  0.5996\n"
     ]
    }
   ],
   "execution_count": 10
  },
  {
   "metadata": {},
   "cell_type": "code",
   "outputs": [],
   "execution_count": null,
   "source": "",
   "id": "533248b5f786bd5d"
  }
 ],
 "metadata": {
  "kernelspec": {
   "display_name": "Python 3",
   "language": "python",
   "name": "python3"
  },
  "language_info": {
   "codemirror_mode": {
    "name": "ipython",
    "version": 2
   },
   "file_extension": ".py",
   "mimetype": "text/x-python",
   "name": "python",
   "nbconvert_exporter": "python",
   "pygments_lexer": "ipython2",
   "version": "2.7.6"
  }
 },
 "nbformat": 4,
 "nbformat_minor": 5
}
