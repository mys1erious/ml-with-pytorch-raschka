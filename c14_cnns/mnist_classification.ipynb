{
 "cells": [
  {
   "cell_type": "code",
   "id": "initial_id",
   "metadata": {
    "collapsed": true,
    "ExecuteTime": {
     "end_time": "2024-07-27T07:39:07.264807Z",
     "start_time": "2024-07-27T07:39:05.103264Z"
    }
   },
   "source": [
    "import torch\n",
    "import torchvision\n",
    "from torchvision import transforms\n",
    "\n",
    "image_path ='../datasets/'\n",
    "transform = transforms.Compose([\n",
    "    transforms.ToTensor()\n",
    "])\n",
    "\n",
    "mnist_dataset = torchvision.datasets.MNIST(\n",
    "    root=image_path,\n",
    "    train=True,\n",
    "    transform=transform,\n",
    "    download=True\n",
    ")\n",
    "\n",
    "from torch.utils.data import Subset\n",
    "mnist_valid_dataset = Subset(\n",
    "    mnist_dataset,\n",
    "    torch.arange(10000)\n",
    ")\n",
    "mnist_train_dataset = Subset(\n",
    "    mnist_dataset,\n",
    "    torch.arange(10000, len(mnist_dataset))\n",
    ")\n",
    "mnist_test_dataset = torchvision.datasets.MNIST(\n",
    "    root=image_path,\n",
    "    train=False,\n",
    "    transform=transform,\n",
    "    download=False\n",
    ")\n",
    "\n",
    "from torch.utils.data import DataLoader\n",
    "\n",
    "batch_size = 64\n",
    "torch.manual_seed(1)\n",
    "train_dl = DataLoader(\n",
    "    mnist_train_dataset,\n",
    "    batch_size,\n",
    "    shuffle=True\n",
    ")\n",
    "valid_dl = DataLoader(\n",
    "    mnist_valid_dataset,\n",
    "    batch_size,\n",
    "    shuffle=False\n",
    ")"
   ],
   "execution_count": 1,
   "outputs": []
  },
  {
   "metadata": {
    "ExecuteTime": {
     "end_time": "2024-07-27T07:51:01.854467Z",
     "start_time": "2024-07-27T07:51:01.825639Z"
    }
   },
   "cell_type": "code",
   "source": [
    "import torch\n",
    "import torch.nn as nn\n",
    "\n",
    "model = nn.Sequential()\n",
    "model.add_module(\n",
    "    'conv1',\n",
    "    nn.Conv2d(\n",
    "        in_channels=1,\n",
    "        out_channels=32,\n",
    "        kernel_size=5,\n",
    "        padding=2\n",
    "    )\n",
    ")\n",
    "model.add_module('relu1', nn.ReLU())\n",
    "model.add_module('pool1', nn.MaxPool2d(kernel_size=2))\n",
    "\n",
    "model.add_module(\n",
    "    'conv2',\n",
    "    nn.Conv2d(\n",
    "        in_channels=32,\n",
    "        out_channels=64,\n",
    "        kernel_size=5,\n",
    "        padding=2\n",
    "    )\n",
    ")\n",
    "model.add_module('relu2', nn.ReLU())\n",
    "model.add_module('pool2', nn.MaxPool2d(kernel_size=2))\n",
    "\n",
    "model.add_module('flatten', nn.Flatten())\n",
    "x = torch.ones((4, 1, 28, 28))\n",
    "\n",
    "model.add_module('fc1', nn.Linear(3136, 1024))\n",
    "model.add_module('relu3', nn.ReLU())\n",
    "model.add_module('dropout', nn.Dropout(p=0.5))\n",
    "model.add_module('fc2', nn.Linear(1024, 10))\n",
    "\n",
    "\n",
    "loss_fn = nn.CrossEntropyLoss()\n",
    "optimizer = torch.optim.Adam(model.parameters(), lr=0.001)"
   ],
   "id": "1e4b2e8bca37864e",
   "execution_count": 5,
   "outputs": []
  },
  {
   "metadata": {
    "ExecuteTime": {
     "end_time": "2024-07-27T07:51:04.060818Z",
     "start_time": "2024-07-27T07:51:04.051736Z"
    }
   },
   "cell_type": "code",
   "source": [
    "x = torch.ones((4, 1, 28, 28))\n",
    "model(x).shape"
   ],
   "id": "69a84d9277917df3",
   "execution_count": 6,
   "outputs": []
  },
  {
   "metadata": {
    "ExecuteTime": {
     "end_time": "2024-07-27T07:59:21.725962Z",
     "start_time": "2024-07-27T07:59:21.720543Z"
    }
   },
   "cell_type": "code",
   "source": [
    "def train(model, num_epochs, train_dl, valid_dl):\n",
    "    loss_hist_train = [0] * num_epochs\n",
    "    accuracy_hist_train = [0] * num_epochs\n",
    "    loss_hist_valid = [0] * num_epochs\n",
    "    accuracy_hist_valid = [0] * num_epochs\n",
    "    \n",
    "    for epoch in range(num_epochs):\n",
    "        model.train()\n",
    "        for x_batch, y_batch in train_dl:\n",
    "            pred = model(x_batch)\n",
    "            loss = loss_fn(pred, y_batch)\n",
    "            loss.backward()\n",
    "            optimizer.step()\n",
    "            optimizer.zero_grad()\n",
    "            loss_hist_train[epoch] += loss.item() * y_batch.size(0)\n",
    "            is_correct = (torch.argmax(pred, dim=1) == y_batch).float()\n",
    "            accuracy_hist_train[epoch] += is_correct.sum()\n",
    "        loss_hist_train[epoch] /= len(train_dl.dataset)\n",
    "        accuracy_hist_train[epoch] /= len(train_dl.dataset)\n",
    "        \n",
    "        model.eval()\n",
    "        \n",
    "        with torch.no_grad():\n",
    "            for x_batch, y_batch in valid_dl:\n",
    "                pred = model(x_batch)\n",
    "                loss = loss_fn(pred, y_batch)\n",
    "                loss_hist_valid[epoch] += loss.item() * y_batch.size(0)\n",
    "                is_correct = (torch.argmax(pred, dim=1) == y_batch).float()\n",
    "                accuracy_hist_valid[epoch] += is_correct.sum()\n",
    "        loss_hist_valid[epoch] /= len(valid_dl.dataset)\n",
    "        accuracy_hist_valid[epoch] /= len(valid_dl.dataset)\n",
    "\n",
    "        print(\n",
    "            f'Epoch {epoch+1} accuracy: '\n",
    "            f'{accuracy_hist_train[epoch]:.4f} val_accuracy: '\n",
    "            f'{accuracy_hist_valid[epoch]:.4f}'\n",
    "        )\n",
    "\n",
    "    return (\n",
    "        loss_hist_train, \n",
    "        loss_hist_valid,\n",
    "        accuracy_hist_train,\n",
    "        accuracy_hist_valid\n",
    "    )"
   ],
   "id": "98f155262a92c963",
   "execution_count": 10,
   "outputs": []
  },
  {
   "metadata": {
    "ExecuteTime": {
     "end_time": "2024-07-27T08:06:11.668431Z",
     "start_time": "2024-07-27T08:03:14.279819Z"
    }
   },
   "cell_type": "code",
   "source": [
    "torch.manual_seed(1)\n",
    "# runs too long, so only 3 epochs ...\n",
    "num_epochs = 3\n",
    "\n",
    "hist = train(model, num_epochs, train_dl, valid_dl)"
   ],
   "id": "4e0f1b13c5d01c81",
   "execution_count": 13,
   "outputs": []
  },
  {
   "metadata": {
    "ExecuteTime": {
     "end_time": "2024-07-27T08:06:25.620975Z",
     "start_time": "2024-07-27T08:06:25.385708Z"
    }
   },
   "cell_type": "code",
   "source": [
    "import matplotlib.pyplot as plt\n",
    "import numpy as np\n",
    "\n",
    "x_arr = np.arange(len(hist[0])) + 1\n",
    "fig = plt.figure(figsize=(12, 4))\n",
    "ax = fig.add_subplot(1, 2, 1)\n",
    "ax.plot(x_arr, hist[0], '-o', label='Train loss')\n",
    "ax.plot(x_arr, hist[1], '--<', label='Validation loss')\n",
    "ax.legend(fontsize=15)\n",
    "ax = fig.add_subplot(1, 2, 2)\n",
    "ax.plot(x_arr, hist[2], '-o', label='Train acc.')\n",
    "ax.plot(x_arr, hist[3], '--<', label='Validation acc.')\n",
    "ax.legend(fontsize=15)\n",
    "ax.set_xlabel('Epoch', size=15)\n",
    "ax.set_ylabel('Accuracy', size=15)\n",
    "plt.show()"
   ],
   "id": "91ab7616b23f183f",
   "execution_count": 14,
   "outputs": []
  },
  {
   "metadata": {
    "ExecuteTime": {
     "end_time": "2024-07-27T08:07:28.329923Z",
     "start_time": "2024-07-27T08:07:25.678225Z"
    }
   },
   "cell_type": "code",
   "source": [
    "pred = model(mnist_test_dataset.data.unsqueeze(1) / 255.)\n",
    "is_correct = (\n",
    "    torch.argmax(pred, dim=1) == mnist_test_dataset.targets\n",
    ").float()\n",
    "print(f'Test accuracy: {is_correct.mean():.4f}')"
   ],
   "id": "4b13c9f7a24dff2e",
   "execution_count": 15,
   "outputs": []
  },
  {
   "metadata": {
    "ExecuteTime": {
     "end_time": "2024-07-27T08:10:14.443498Z",
     "start_time": "2024-07-27T08:10:13.820166Z"
    }
   },
   "cell_type": "code",
   "source": [
    "fig = plt.figure(figsize=(12, 4))\n",
    "for i in range(12):\n",
    "    ax = fig.add_subplot(2, 6, i+1)\n",
    "    ax.set_xticks([])\n",
    "    ax.set_yticks([])\n",
    "    img = mnist_test_dataset[i][0][0, :, :]\n",
    "    pred = model(img.unsqueeze(0).unsqueeze(1))\n",
    "    y_pred = torch.argmax(pred)\n",
    "    ax.imshow(img, cmap='gray_r')\n",
    "    ax.text(\n",
    "        0.9, 0.1,\n",
    "        y_pred.item(),\n",
    "        size=15,\n",
    "        color='blue',\n",
    "        horizontalalignment='center',\n",
    "        verticalalignment='center',\n",
    "        transform=ax.transAxes\n",
    "    )\n",
    "plt.show()"
   ],
   "id": "c354b3e83cc6ba86",
   "execution_count": 16,
   "outputs": []
  },
  {
   "metadata": {},
   "cell_type": "code",
   "execution_count": null,
   "source": "",
   "id": "14501c415f039a88",
   "outputs": []
  }
 ],
 "metadata": {
  "kernelspec": {
   "display_name": "Python 3",
   "language": "python",
   "name": "python3"
  },
  "language_info": {
   "codemirror_mode": {
    "name": "ipython",
    "version": 2
   },
   "file_extension": ".py",
   "mimetype": "text/x-python",
   "name": "python",
   "nbconvert_exporter": "python",
   "pygments_lexer": "ipython2",
   "version": "2.7.6"
  }
 },
 "nbformat": 4,
 "nbformat_minor": 5
}
