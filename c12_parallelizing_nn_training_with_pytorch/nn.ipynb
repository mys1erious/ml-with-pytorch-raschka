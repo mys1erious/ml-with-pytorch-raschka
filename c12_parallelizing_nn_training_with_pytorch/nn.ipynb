{
 "cells": [
  {
   "cell_type": "code",
   "id": "initial_id",
   "metadata": {
    "collapsed": true,
    "ExecuteTime": {
     "end_time": "2024-07-20T15:28:40.479933Z",
     "start_time": "2024-07-20T15:28:39.968691Z"
    }
   },
   "source": [
    "import numpy as np\n",
    "import matplotlib.pyplot as plt\n",
    "import torch\n",
    "\n",
    "X_train = np.arange(10, dtype='float32').reshape((10, 1))\n",
    "y_train = np.array([\n",
    "    1.0, 1.3, 3.1, 2.0, 5.0,\n",
    "    6.3, 6.6,7.4, 8.0, 9.0],\n",
    "    dtype='float32'\n",
    ")\n",
    "\n",
    "plt.plot(X_train, y_train, 'o', markersize=10)\n",
    "plt.xlabel('x')\n",
    "plt.ylabel('y')\n",
    "plt.show()"
   ],
   "execution_count": 1,
   "outputs": []
  },
  {
   "metadata": {
    "ExecuteTime": {
     "end_time": "2024-07-20T15:30:50.609117Z",
     "start_time": "2024-07-20T15:30:50.605137Z"
    }
   },
   "cell_type": "code",
   "source": [
    "import torch\n",
    "from torch.utils.data import TensorDataset, DataLoader\n",
    "\n",
    "X_train_norm = (X_train - np.mean(X_train)) / np.std(X_train)\n",
    "X_train_norm = torch.from_numpy(X_train_norm)\n",
    "y_train = torch.from_numpy(y_train).float()\n",
    "train_ds = TensorDataset(X_train_norm, y_train)\n",
    "\n",
    "batch_size = 1\n",
    "train_dl = DataLoader(train_ds, batch_size, shuffle=True)"
   ],
   "id": "a5f6bf8049580cc1",
   "execution_count": 3,
   "outputs": []
  },
  {
   "metadata": {
    "ExecuteTime": {
     "end_time": "2024-07-20T15:32:57.544763Z",
     "start_time": "2024-07-20T15:32:57.537624Z"
    }
   },
   "cell_type": "code",
   "source": [
    "# manual way\n",
    "\n",
    "torch.manual_seed(1)\n",
    "weight = torch.randn(1)\n",
    "weight.requires_grad_()\n",
    "bias = torch.zeros(1, requires_grad=True)\n",
    "\n",
    "def model(xb):\n",
    "    return xb @ weight + bias\n",
    "\n",
    "def loss_fn(input, target):\n",
    "    return (input-target).pow(2).mean()"
   ],
   "id": "23bd98cfc889db30",
   "execution_count": 4,
   "outputs": []
  },
  {
   "metadata": {
    "ExecuteTime": {
     "end_time": "2024-07-20T15:34:59.451989Z",
     "start_time": "2024-07-20T15:34:58.993267Z"
    }
   },
   "cell_type": "code",
   "source": [
    "learning_rate = 0.001\n",
    "num_epochs = 200\n",
    "log_epochs = 10\n",
    "\n",
    "for epoch in range(num_epochs):\n",
    "    for x_batch, y_batch in train_dl:\n",
    "        pred = model(x_batch)\n",
    "        loss = loss_fn(pred, y_batch.long())\n",
    "        loss.backward()\n",
    "    with torch.no_grad():\n",
    "        weight -= weight.grad * learning_rate\n",
    "        bias -= bias.grad * learning_rate\n",
    "        weight.grad.zero_()\n",
    "        bias.grad.zero_()\n",
    "    if epoch % log_epochs == 0:\n",
    "        print(f'Epoch {epoch} Loss {loss.item():.4f}')"
   ],
   "id": "a4c32189c0353d97",
   "execution_count": 5,
   "outputs": []
  },
  {
   "metadata": {
    "ExecuteTime": {
     "end_time": "2024-07-20T15:37:10.604022Z",
     "start_time": "2024-07-20T15:37:10.474769Z"
    }
   },
   "cell_type": "code",
   "source": [
    "print('Final Parameters:', weight.item(), bias.item())\n",
    "\n",
    "X_test = np.linspace(0, 9, num=100, dtype='float32').reshape(-1, 1)\n",
    "X_test_norm = (X_test - np.mean(X_train)) / np.std(X_train)\n",
    "X_test_norm = torch.from_numpy(X_test_norm)\n",
    "y_pred = model(X_test_norm).detach().numpy()\n",
    "\n",
    "fig = plt.figure(figsize=(13, 5))\n",
    "ax = fig.add_subplot(1, 2, 1)\n",
    "plt.plot(X_train_norm, y_train, 'o', markersize=10)\n",
    "plt.plot(X_test_norm, y_pred, '--', lw=3)\n",
    "plt.legend(['Training examples', 'Linear reg.'], fontsize=15)\n",
    "ax.set_xlabel('x', size=15)\n",
    "ax.set_ylabel('y', size=15)\n",
    "ax.tick_params(axis='both', which='major', labelsize=15)\n",
    "plt.show()"
   ],
   "id": "b1ff8b211f7fd018",
   "execution_count": 6,
   "outputs": []
  },
  {
   "metadata": {
    "ExecuteTime": {
     "end_time": "2024-07-20T15:40:00.580630Z",
     "start_time": "2024-07-20T15:39:59.605316Z"
    }
   },
   "cell_type": "code",
   "source": [
    "# half-manual way\n",
    "\n",
    "import torch.nn as nn\n",
    "\n",
    "loss_fn = nn.MSELoss(reduction='mean')\n",
    "input_size = 1\n",
    "output_size = 1\n",
    "model = nn.Linear(input_size, output_size)\n",
    "optimizer = torch.optim.SGD(model.parameters(), lr=learning_rate)"
   ],
   "id": "db5d11755808735c",
   "execution_count": 7,
   "outputs": []
  },
  {
   "metadata": {
    "ExecuteTime": {
     "end_time": "2024-07-20T15:41:34.078366Z",
     "start_time": "2024-07-20T15:41:33.345346Z"
    }
   },
   "cell_type": "code",
   "source": [
    "for epoch in range(num_epochs):\n",
    "    for x_batch, y_batch in train_dl:\n",
    "        pred = model(x_batch)[:, 0]\n",
    "        loss = loss_fn(pred, y_batch)\n",
    "        loss.backward()\n",
    "        optimizer.step()\n",
    "        optimizer.zero_grad()\n",
    "    if epoch % log_epochs == 0:\n",
    "        print(f'Epoch {epoch} Loss {loss.item():.4f}')"
   ],
   "id": "541ceb31e11bda25",
   "execution_count": 8,
   "outputs": []
  },
  {
   "metadata": {
    "ExecuteTime": {
     "end_time": "2024-07-20T15:41:46.094720Z",
     "start_time": "2024-07-20T15:41:46.091846Z"
    }
   },
   "cell_type": "code",
   "source": "print('Final Parameters:', model.weight.item(), model.bias.item())",
   "id": "220cc3c25d03fca2",
   "execution_count": 9,
   "outputs": []
  },
  {
   "metadata": {
    "ExecuteTime": {
     "end_time": "2024-07-20T15:45:01.396947Z",
     "start_time": "2024-07-20T15:45:00.707232Z"
    }
   },
   "cell_type": "code",
   "source": [
    "from sklearn.datasets import load_iris\n",
    "from sklearn.model_selection import train_test_split\n",
    "\n",
    "iris = load_iris()\n",
    "\n",
    "X = iris['data']\n",
    "y = iris['target']\n",
    "\n",
    "X_train, X_test, y_train, y_test = train_test_split(\n",
    "    X, y,\n",
    "    test_size=1./3,\n",
    "    random_state=1\n",
    ")"
   ],
   "id": "ab9617fe25ee38e8",
   "execution_count": 10,
   "outputs": []
  },
  {
   "metadata": {
    "ExecuteTime": {
     "end_time": "2024-07-20T15:46:20.521032Z",
     "start_time": "2024-07-20T15:46:20.514251Z"
    }
   },
   "cell_type": "code",
   "source": [
    "X_train_norm = (X_train - np.mean(X_train)) / np.std(X_train)\n",
    "X_train_norm = torch.from_numpy(X_train_norm).float()\n",
    "y_train = torch.from_numpy(y_train)\n",
    "\n",
    "train_ds = TensorDataset(X_train_norm, y_train)\n",
    "torch.manual_seed(1)\n",
    "batch_size = 2\n",
    "train_dl = DataLoader(train_ds, batch_size, shuffle=True)"
   ],
   "id": "c558935e07614ad5",
   "execution_count": 11,
   "outputs": []
  },
  {
   "metadata": {
    "ExecuteTime": {
     "end_time": "2024-07-20T15:49:18.052392Z",
     "start_time": "2024-07-20T15:49:18.048984Z"
    }
   },
   "cell_type": "code",
   "source": [
    "# nn.Module to build a model efficiently\n",
    "\n",
    "class Model(nn.Module):\n",
    "    def __init__(self, input_size, hidden_size, output_size):\n",
    "        super().__init__()\n",
    "        self.layer1 = nn.Linear(input_size, hidden_size)\n",
    "        self.layer2 = nn.Linear(hidden_size, output_size)\n",
    "    \n",
    "    def forward(self, x):\n",
    "        x = self.layer1(x)\n",
    "        x = nn.Sigmoid()(x)\n",
    "        x = self.layer2(x)\n",
    "        return x"
   ],
   "id": "5b130e8f9c494a2",
   "execution_count": 12,
   "outputs": []
  },
  {
   "metadata": {
    "ExecuteTime": {
     "end_time": "2024-07-20T15:50:37.493460Z",
     "start_time": "2024-07-20T15:50:37.490024Z"
    }
   },
   "cell_type": "code",
   "source": [
    "input_size = X_train_norm.shape[1]\n",
    "hidden_size = 16\n",
    "output_size = 3\n",
    "\n",
    "model = Model(input_size, hidden_size, output_size)\n",
    "\n",
    "learning_rate = 0.001\n",
    "loss_fn = nn.CrossEntropyLoss()\n",
    "optimizer = torch.optim.Adam(model.parameters(), lr=learning_rate)"
   ],
   "id": "a31637d760ac2f2c",
   "execution_count": 13,
   "outputs": []
  },
  {
   "metadata": {
    "ExecuteTime": {
     "end_time": "2024-07-20T15:53:08.067191Z",
     "start_time": "2024-07-20T15:53:03.476147Z"
    }
   },
   "cell_type": "code",
   "source": [
    "num_epochs = 100\n",
    "loss_hist = [0] * num_epochs\n",
    "accuracy_hist = [0] * num_epochs\n",
    "\n",
    "for epoch in range(num_epochs):\n",
    "    for x_batch, y_batch in train_dl:\n",
    "        pred = model(x_batch)\n",
    "        loss = loss_fn(pred, y_batch)\n",
    "        loss.backward()\n",
    "        optimizer.step()\n",
    "        optimizer.zero_grad()\n",
    "        \n",
    "        loss_hist[epoch] += loss.item() * y_batch.size(0)\n",
    "        is_correct = (torch.argmax(pred, dim=1) == y_batch).float()\n",
    "        accuracy_hist[epoch] += is_correct.sum()\n",
    "    loss_hist[epoch] /= len(train_dl.dataset)\n",
    "    accuracy_hist[epoch] /= len(train_dl.dataset)\n",
    "\n",
    "fig = plt.figure(figsize=(12, 5))\n",
    "ax = fig.add_subplot(1, 2, 1)\n",
    "ax.plot(loss_hist, lw=3)\n",
    "ax.set_title('Training loss', size=15)\n",
    "ax.set_xlabel('Epoch', size=15)\n",
    "ax.tick_params(axis='both', which='major', labelsize=15)\n",
    "ax = fig.add_subplot(1, 2, 2)\n",
    "ax.plot(accuracy_hist, lw=3)\n",
    "ax.set_title('Training accuracy', size=15)\n",
    "ax.set_xlabel('Epoch', size=15)\n",
    "ax.tick_params(axis='both', which='major', labelsize=15)\n",
    "plt.show()"
   ],
   "id": "6cdf6382174fca9d",
   "execution_count": 14,
   "outputs": []
  },
  {
   "metadata": {
    "ExecuteTime": {
     "end_time": "2024-07-20T15:54:52.395341Z",
     "start_time": "2024-07-20T15:54:52.390449Z"
    }
   },
   "cell_type": "code",
   "source": [
    "X_test_norm = (X_test - np.mean(X_train)) / np.std(X_train)\n",
    "X_test_norm = torch.from_numpy(X_test_norm).float()\n",
    "y_test = torch.from_numpy(y_test)\n",
    "pred_test = model(X_test_norm)\n",
    "\n",
    "correct = (torch.argmax(pred_test, dim=1) == y_test).float()\n",
    "accuracy = correct.mean()\n",
    "\n",
    "print(f'Test Acc.: {accuracy:.4f}')"
   ],
   "id": "98644ad36daf1f55",
   "execution_count": 15,
   "outputs": []
  },
  {
   "metadata": {
    "ExecuteTime": {
     "end_time": "2024-07-20T15:55:22.933386Z",
     "start_time": "2024-07-20T15:55:22.930199Z"
    }
   },
   "cell_type": "code",
   "source": [
    "path = 'iris_classifier.pt'\n",
    "torch.save(model, path)"
   ],
   "id": "8c9c126bd47ce897",
   "execution_count": 16,
   "outputs": []
  },
  {
   "metadata": {
    "ExecuteTime": {
     "end_time": "2024-07-20T15:56:20.074245Z",
     "start_time": "2024-07-20T15:56:20.070002Z"
    }
   },
   "cell_type": "code",
   "source": [
    "model_new = torch.load(path)\n",
    "model_new.eval()"
   ],
   "id": "715c1c2b73f1ae50",
   "execution_count": 17,
   "outputs": []
  },
  {
   "metadata": {
    "ExecuteTime": {
     "end_time": "2024-07-20T15:56:57.636139Z",
     "start_time": "2024-07-20T15:56:57.632607Z"
    }
   },
   "cell_type": "code",
   "source": [
    "pred_test = model_new(X_test_norm)\n",
    "correct = (torch.argmax(pred_test, dim=1) == y_test).float()\n",
    "accuracy = correct.mean()\n",
    "print(f'Test Acc.: {accuracy:.4f}')"
   ],
   "id": "e9c684cdc57e134d",
   "execution_count": 18,
   "outputs": []
  },
  {
   "metadata": {
    "ExecuteTime": {
     "end_time": "2024-07-20T15:57:32.711247Z",
     "start_time": "2024-07-20T15:57:32.708278Z"
    }
   },
   "cell_type": "code",
   "source": [
    "# save only params\n",
    "path = 'iris_classifier_state.pt'\n",
    "torch.save(model.state_dict(), path)"
   ],
   "id": "4ad88b0592b0f14f",
   "execution_count": 19,
   "outputs": []
  },
  {
   "metadata": {
    "ExecuteTime": {
     "end_time": "2024-07-20T15:58:05.187398Z",
     "start_time": "2024-07-20T15:58:05.182946Z"
    }
   },
   "cell_type": "code",
   "source": [
    "model_new = Model(input_size, hidden_size, output_size)\n",
    "model_new.load_state_dict(torch.load(path))"
   ],
   "id": "20e2d39b7de094bb",
   "execution_count": 20,
   "outputs": []
  },
  {
   "metadata": {
    "ExecuteTime": {
     "end_time": "2024-07-21T09:40:22.170548Z",
     "start_time": "2024-07-21T09:40:22.020529Z"
    }
   },
   "cell_type": "code",
   "source": [
    "import numpy as np\n",
    "\n",
    "X = np.array([1, 1.4, 2.5])\n",
    "w = np.array([0.4, 0.3, 0.5])\n",
    "\n",
    "def net_input(X, w):\n",
    "    return np.dot(X, w)\n",
    "\n",
    "def logistic(z):\n",
    "    return 1.0 / (1.0 + np.exp(-z))\n",
    "\n",
    "def logistic_activation(X, w):\n",
    "    z = net_input(X, w)\n",
    "    return logistic(z)"
   ],
   "id": "7fe6c7d8ebd0821a",
   "execution_count": 4,
   "outputs": []
  },
  {
   "metadata": {
    "ExecuteTime": {
     "end_time": "2024-07-21T09:40:22.498990Z",
     "start_time": "2024-07-21T09:40:22.495440Z"
    }
   },
   "cell_type": "code",
   "source": "print(f'P(y=1|x) = {logistic_activation(X, w):.3f}')",
   "id": "1462f9f0c73bc119",
   "execution_count": 5,
   "outputs": []
  },
  {
   "metadata": {
    "ExecuteTime": {
     "end_time": "2024-07-21T09:42:02.387236Z",
     "start_time": "2024-07-21T09:42:02.383410Z"
    }
   },
   "cell_type": "code",
   "source": [
    "W = np.array([\n",
    "    [1.1, 1.2, 0.8, 0.4],\n",
    "    [0.2, 0.4, 1.0, 0.2],\n",
    "    [0.6, 1.5, 1.2, 0.7]\n",
    "])\n",
    "\n",
    "A = np.array([[1, 0.1, 0.4, 0.6]])\n",
    "Z = np.dot(W, A[0])\n",
    "y_probas = logistic(Z)\n",
    "\n",
    "print('Net Input: \\n', Z)\n",
    "print('Output Units:\\n', y_probas)"
   ],
   "id": "4f42989b04560e9d",
   "execution_count": 6,
   "outputs": []
  },
  {
   "metadata": {
    "ExecuteTime": {
     "end_time": "2024-07-21T09:42:58.821962Z",
     "start_time": "2024-07-21T09:42:58.819218Z"
    }
   },
   "cell_type": "code",
   "source": [
    "y_class = np.argmax(Z, axis=0)\n",
    "print('Predicted class label:', y_class)"
   ],
   "id": "36a6a92a77be91d3",
   "execution_count": 7,
   "outputs": []
  },
  {
   "metadata": {
    "ExecuteTime": {
     "end_time": "2024-07-21T09:45:54.447973Z",
     "start_time": "2024-07-21T09:45:54.441583Z"
    }
   },
   "cell_type": "code",
   "source": [
    "# softmax\n",
    "\n",
    "def softmax(z):\n",
    "    return np.exp(z) / np.sum(np.exp(z))\n",
    "\n",
    "y_probas = softmax(Z)\n",
    "\n",
    "print('Probabilities:\\n', y_probas)\n",
    "np.sum(y_probas)"
   ],
   "id": "12bac6bd05677665",
   "execution_count": 8,
   "outputs": []
  },
  {
   "metadata": {
    "ExecuteTime": {
     "end_time": "2024-07-21T09:47:01.771531Z",
     "start_time": "2024-07-21T09:47:00.313332Z"
    }
   },
   "cell_type": "code",
   "source": [
    "import torch\n",
    "\n",
    "torch.softmax(torch.from_numpy(Z), dim=0)"
   ],
   "id": "d4d84fb5c4bac38c",
   "execution_count": 10,
   "outputs": []
  },
  {
   "metadata": {
    "ExecuteTime": {
     "end_time": "2024-07-21T09:50:29.210378Z",
     "start_time": "2024-07-21T09:50:29.083251Z"
    }
   },
   "cell_type": "code",
   "source": [
    "# hyperbolic tangent\n",
    "\n",
    "import matplotlib.pyplot as plt\n",
    "\n",
    "\n",
    "def tanh(z):\n",
    "    e_p = np.exp(z)\n",
    "    e_m = np.exp(-z)\n",
    "    return (e_p - e_m) / (e_p + e_m)\n",
    "\n",
    "\n",
    "z = np.arange(-5, 5, 0.005)\n",
    "log_act = logistic(z)\n",
    "tanh_act = tanh(z)\n",
    "\n",
    "plt.ylim([-1.5, 1.5])\n",
    "plt.xlabel('net input $z$')\n",
    "plt.ylabel('activation $\\phi(z)$')\n",
    "plt.axhline(1, color='black', linestyle=':')\n",
    "plt.axhline(0.5, color='black', linestyle=':')\n",
    "plt.axhline(0, color='black', linestyle=':')\n",
    "plt.axhline(-0.5, color='black', linestyle=':')\n",
    "plt.axhline(-1, color='black', linestyle=':')\n",
    "plt.plot(\n",
    "    z, tanh_act,\n",
    "    linewidth=3,\n",
    "    linestyle='--',\n",
    "    label='tanh'\n",
    ")\n",
    "plt.plot(\n",
    "    z, log_act,\n",
    "    linewidth=3,\n",
    "    label='logistic'\n",
    ")\n",
    "plt.legend(loc='lower right')\n",
    "plt.tight_layout()\n",
    "plt.show()"
   ],
   "id": "798805a659abae0",
   "execution_count": 13,
   "outputs": []
  },
  {
   "metadata": {
    "ExecuteTime": {
     "end_time": "2024-07-21T09:52:34.732220Z",
     "start_time": "2024-07-21T09:52:34.574540Z"
    }
   },
   "cell_type": "code",
   "source": [
    "print(np.tanh(z))\n",
    "print(torch.tanh(torch.from_numpy(z)))\n",
    "\n",
    "from scipy.special import expit\n",
    "print(expit(z))\n",
    "print(torch.sigmoid(torch.from_numpy(z)))"
   ],
   "id": "17c1e66e26cb53ba",
   "execution_count": 15,
   "outputs": []
  },
  {
   "metadata": {
    "ExecuteTime": {
     "end_time": "2024-07-21T09:55:59.667457Z",
     "start_time": "2024-07-21T09:55:59.656123Z"
    }
   },
   "cell_type": "code",
   "source": [
    "# ReLU\n",
    "\n",
    "torch.relu(torch.from_numpy(z))"
   ],
   "id": "f6d81710a895e481",
   "execution_count": 16,
   "outputs": []
  },
  {
   "metadata": {},
   "cell_type": "code",
   "execution_count": null,
   "source": "",
   "id": "b5413c458294f926",
   "outputs": []
  }
 ],
 "metadata": {
  "kernelspec": {
   "display_name": "Python 3",
   "language": "python",
   "name": "python3"
  },
  "language_info": {
   "codemirror_mode": {
    "name": "ipython",
    "version": 2
   },
   "file_extension": ".py",
   "mimetype": "text/x-python",
   "name": "python",
   "nbconvert_exporter": "python",
   "pygments_lexer": "ipython2",
   "version": "2.7.6"
  }
 },
 "nbformat": 4,
 "nbformat_minor": 5
}
