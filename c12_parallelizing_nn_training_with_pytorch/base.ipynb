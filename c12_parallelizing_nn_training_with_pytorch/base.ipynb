{
 "cells": [
  {
   "metadata": {
    "ExecuteTime": {
     "end_time": "2024-07-20T14:19:28.917327Z",
     "start_time": "2024-07-20T14:19:28.915354Z"
    }
   },
   "cell_type": "code",
   "source": [
    "# import torch\n",
    "# torch.cuda.is_available()\n",
    "# torch.zeros(1).cuda()\n",
    "# torch.version.cuda"
   ],
   "id": "86fb3bdce89762d9",
   "execution_count": 18,
   "outputs": []
  },
  {
   "metadata": {
    "ExecuteTime": {
     "end_time": "2024-07-20T14:19:28.938830Z",
     "start_time": "2024-07-20T14:19:28.932986Z"
    }
   },
   "cell_type": "code",
   "source": [
    "import torch\n",
    "import numpy as np\n",
    "\n",
    "np . set_printoptions(precision=3)\n",
    "\n",
    "a = [1, 2, 3]\n",
    "b = np.array([4, 5, 6], dtype=np.int32)\n",
    "t_a = torch.tensor(a)\n",
    "t_b = torch.from_numpy(b)\n",
    "\n",
    "print(t_a)\n",
    "print(t_b)\n",
    "\n",
    "t_ones = torch.ones(2, 3)\n",
    "print(t_ones.shape)\n",
    "print(t_ones)\n",
    "\n",
    "rand_tensor = torch.rand(2, 3)\n",
    "print(rand_tensor)"
   ],
   "id": "7e5b0c220632174f",
   "execution_count": 19,
   "outputs": []
  },
  {
   "metadata": {
    "ExecuteTime": {
     "end_time": "2024-07-20T14:19:28.978477Z",
     "start_time": "2024-07-20T14:19:28.973244Z"
    }
   },
   "cell_type": "code",
   "source": [
    "# Manipulation\n",
    "\n",
    "t_a_new = t_a.to(torch.int64)\n",
    "print(t_a_new.dtype)\n",
    "\n",
    "t = torch.rand(3, 5)\n",
    "t_tr = torch.transpose(t, 0, 1)\n",
    "print(t.shape, ' --> ', t_tr.shape)\n",
    "\n",
    "t = torch.zeros(30)\n",
    "t_reshape = t.reshape(5, 6)\n",
    "print(t_reshape.shape)\n",
    "\n",
    "t = torch.zeros(1, 2, 1, 4, 1)\n",
    "t_sqz = torch.squeeze(t, 2)\n",
    "print(t.shape, ' --> ', t_sqz.shape)"
   ],
   "id": "5b445c024d02d7c1",
   "execution_count": 20,
   "outputs": []
  },
  {
   "metadata": {
    "ExecuteTime": {
     "end_time": "2024-07-20T14:19:28.991818Z",
     "start_time": "2024-07-20T14:19:28.979633Z"
    }
   },
   "cell_type": "code",
   "source": [
    "# Math ops\n",
    "\n",
    "torch.manual_seed(1)\n",
    "\n",
    "t1 = 2 * torch.rand(5, 2) - 1\n",
    "t2 = torch.normal(mean=0, std=1, size=(5, 2))\n",
    "\n",
    "t3 = torch.multiply(t1, t2)\n",
    "print('Multiply', t3)\n",
    "\n",
    "t4 = torch.mean(t1, axis=0)\n",
    "print('Mean', t4)\n",
    "\n",
    "t5 = torch.matmul(t1, torch.transpose(t2, 0, 1))\n",
    "print('Matmul', t5)\n",
    "\n",
    "t6 = torch.matmul(torch.transpose(t1, 0, 1), t2)\n",
    "print('Matmul2', t6)\n",
    "\n",
    "norm_t1 = torch.linalg.norm(t1, ord=2, dim=1)\n",
    "print('Norm', norm_t1)"
   ],
   "id": "2a7a2053f7a5e907",
   "execution_count": 21,
   "outputs": []
  },
  {
   "metadata": {
    "ExecuteTime": {
     "end_time": "2024-07-20T14:19:29.001591Z",
     "start_time": "2024-07-20T14:19:28.992975Z"
    }
   },
   "cell_type": "code",
   "source": [
    "# Split, stack, concatenate\n",
    "\n",
    "torch.manual_seed(1)\n",
    "\n",
    "t = torch.rand(6)\n",
    "print(t)\n",
    "t_splits = torch.chunk(t, 3)\n",
    "[print(item.numpy()) for item in t_splits]"
   ],
   "id": "9f90d046b53e1dfd",
   "execution_count": 22,
   "outputs": []
  },
  {
   "metadata": {
    "ExecuteTime": {
     "end_time": "2024-07-20T14:19:29.009442Z",
     "start_time": "2024-07-20T14:19:29.002823Z"
    }
   },
   "cell_type": "code",
   "source": [
    "torch.manual_seed(1)\n",
    "t = torch.rand(5)\n",
    "t_splits = torch.split(t, split_size_or_sections=[3, 2])\n",
    "[print(item.numpy()) for item in t_splits]"
   ],
   "id": "94d1ace29cb880b6",
   "execution_count": 23,
   "outputs": []
  },
  {
   "metadata": {
    "ExecuteTime": {
     "end_time": "2024-07-20T14:19:29.015499Z",
     "start_time": "2024-07-20T14:19:29.011142Z"
    }
   },
   "cell_type": "code",
   "source": [
    "A = torch.ones(3)\n",
    "B = torch.zeros(2)\n",
    "C = torch.cat([A, B], axis=0)\n",
    "C"
   ],
   "id": "56a9bf3d669f2acf",
   "execution_count": 24,
   "outputs": []
  },
  {
   "metadata": {
    "ExecuteTime": {
     "end_time": "2024-07-20T14:19:29.030560Z",
     "start_time": "2024-07-20T14:19:29.024057Z"
    }
   },
   "cell_type": "code",
   "source": [
    "A = torch.ones(3)\n",
    "B = torch.zeros(3)\n",
    "S = torch.stack([A, B], axis=1)\n",
    "S"
   ],
   "id": "4d41963bc625f674",
   "execution_count": 25,
   "outputs": []
  },
  {
   "metadata": {
    "ExecuteTime": {
     "end_time": "2024-07-20T14:19:29.051323Z",
     "start_time": "2024-07-20T14:19:29.034386Z"
    }
   },
   "cell_type": "code",
   "source": [
    "# Input pipelines\n",
    "\n",
    "from torch.utils.data import DataLoader\n",
    "\n",
    "t = torch.arange(6, dtype=torch.float32)\n",
    "data_loader = DataLoader(t)\n",
    "\n",
    "for item in data_loader:\n",
    "    print(item)\n",
    "    \n",
    "data_loader = DataLoader(t, batch_size=3, drop_last=False)\n",
    "for i, batch in enumerate(data_loader, 1):\n",
    "    print(f'batch {i}:', batch)"
   ],
   "id": "af9d9e4eedd91afa",
   "execution_count": 26,
   "outputs": []
  },
  {
   "metadata": {
    "ExecuteTime": {
     "end_time": "2024-07-20T14:19:29.080311Z",
     "start_time": "2024-07-20T14:19:29.070899Z"
    }
   },
   "cell_type": "code",
   "source": [
    "from torch.utils.data import Dataset, TensorDataset\n",
    "\n",
    "torch.manual_seed(1)\n",
    "t_x = torch.rand([4, 3], dtype=torch.float32)\n",
    "t_y = torch.arange(4)\n",
    "\n",
    "class JointDataset(Dataset):\n",
    "    def __init__(self, x, y):\n",
    "        self.x = x\n",
    "        self.y = y\n",
    "    \n",
    "    def __len__(self):\n",
    "        return len(self.x)\n",
    "    \n",
    "    def __getitem__(self, idx):\n",
    "        return self.x[idx], self.y[idx]\n",
    "\n",
    "joint_dataset = TensorDataset(t_x, t_y)\n",
    "\n",
    "for example in joint_dataset:\n",
    "    print('x: ', example[0], 'y: ', example[1])\n",
    "    \n",
    "# or\n",
    "joint_dataset = TensorDataset(t_x, t_y)"
   ],
   "id": "9219763971dde922",
   "execution_count": 27,
   "outputs": []
  },
  {
   "metadata": {
    "ExecuteTime": {
     "end_time": "2024-07-20T14:19:29.138401Z",
     "start_time": "2024-07-20T14:19:29.131601Z"
    }
   },
   "cell_type": "code",
   "source": [
    "torch.manual_seed(1)\n",
    "data_loader = DataLoader(\n",
    "    dataset=joint_dataset,\n",
    "    batch_size=2,\n",
    "    shuffle=True\n",
    ")\n",
    "\n",
    "for i, batch in enumerate(data_loader, 1):\n",
    "    print(f'batch {i}:', '\\nx:', batch[0], '\\ny:', batch[1])"
   ],
   "id": "e90179129ea2152b",
   "execution_count": 28,
   "outputs": []
  },
  {
   "metadata": {
    "ExecuteTime": {
     "end_time": "2024-07-20T14:19:29.154133Z",
     "start_time": "2024-07-20T14:19:29.147587Z"
    }
   },
   "cell_type": "code",
   "source": [
    "# for each iteration the elements within a batch are shuffled\n",
    "for epoch in range(2):\n",
    "    print(f'-- epoch {epoch + 1}')\n",
    "    for i, batch in enumerate(data_loader, 1):\n",
    "        print(f'batch {i}:', '\\nx:', batch[0], '\\ny:', batch[1])"
   ],
   "id": "9b0577568b62e43c",
   "execution_count": 29,
   "outputs": []
  },
  {
   "metadata": {
    "ExecuteTime": {
     "end_time": "2024-07-20T14:19:30.045739Z",
     "start_time": "2024-07-20T14:19:29.187263Z"
    }
   },
   "cell_type": "code",
   "source": [
    "# Creating a dataset from files\n",
    "\n",
    "import pathlib\n",
    "import matplotlib.pyplot as plt\n",
    "import os\n",
    "from PIL import Image\n",
    "\n",
    "imgdir_path = pathlib.Path('cat_dog_images')\n",
    "file_list = sorted([\n",
    "    str(path) for path in imgdir_path.glob('*.jpg')\n",
    "])\n",
    "print(file_list)\n",
    "\n",
    "fig = plt.figure(figsize=(10, 5))\n",
    "for i, file in enumerate(file_list):\n",
    "    img = Image.open(file)\n",
    "    print('Image shape:', np.array(img).shape)\n",
    "    ax = fig.add_subplot(2, 3, i+1)\n",
    "    ax.set_xticks([]); ax.set_yticks([])\n",
    "    ax.imshow(img)\n",
    "    ax.set_title(os.path.basename(file), size=15)\n",
    "plt.tight_layout()\n",
    "plt.show()"
   ],
   "id": "144b22a18f6ed5e9",
   "execution_count": 30,
   "outputs": []
  },
  {
   "metadata": {
    "ExecuteTime": {
     "end_time": "2024-07-20T14:19:30.052024Z",
     "start_time": "2024-07-20T14:19:30.047269Z"
    }
   },
   "cell_type": "code",
   "source": [
    "labels = [\n",
    "    1 if 'dog' in os.path.basename(file) else 0 \n",
    "    for file in file_list\n",
    "]\n",
    "labels"
   ],
   "id": "9d9fc9288ccac01d",
   "execution_count": 31,
   "outputs": []
  },
  {
   "metadata": {
    "ExecuteTime": {
     "end_time": "2024-07-20T14:24:37.930186Z",
     "start_time": "2024-07-20T14:24:37.420769Z"
    }
   },
   "cell_type": "code",
   "source": [
    "import torchvision.transforms as transforms\n",
    "\n",
    "\n",
    "class ImageDataset(Dataset):\n",
    "    def __init__(self, file_list, labels, transform=None):\n",
    "        self.file_list = file_list\n",
    "        self.labels = labels\n",
    "        self.transform = transform\n",
    "\n",
    "    def __getitem__(self, idx):\n",
    "        img = Image.open(self.file_list[idx])\n",
    "        if self.transform is not None:\n",
    "            img = self.transform(img)\n",
    "        label = self.labels[idx]\n",
    "        return img, label\n",
    "\n",
    "    def __len__(self):\n",
    "        return len(self.labels)\n",
    "\n",
    "\n",
    "img_height, img_width = 80, 120\n",
    "transforms = transforms.Compose([\n",
    "    transforms.ToTensor(),\n",
    "    transforms.Resize((img_height, img_width))\n",
    "])\n",
    "\n",
    "image_dataset = ImageDataset(file_list, labels, transforms)\n",
    "fig = plt.figure(figsize=(10, 6))\n",
    "for i, example in enumerate(image_dataset):\n",
    "    ax = fig.add_subplot(2, 3, i + 1)\n",
    "    ax.set_xticks([])\n",
    "    ax.set_yticks([])\n",
    "    img = example[0].numpy().transpose((1, 2, 0))\n",
    "    img = img.clip(0, 1)\n",
    "    ax.imshow(img)\n",
    "    ax.set_title(f'{example[1]}', size=15)\n",
    "\n",
    "plt.tight_layout()\n",
    "plt.show()"
   ],
   "id": "60417b965af5eea6",
   "execution_count": 41,
   "outputs": []
  },
  {
   "metadata": {
    "ExecuteTime": {
     "end_time": "2024-07-20T15:19:41.223754Z",
     "start_time": "2024-07-20T15:19:41.201811Z"
    }
   },
   "cell_type": "code",
   "source": [
    "import torchvision\n",
    "\n",
    "image_path = '../datasets/'\n",
    "\n",
    "celeba_dataset = torchvision.datasets.CelebA(\n",
    "    image_path,\n",
    "    split='train',\n",
    "    target_type='attr',\n",
    "    download=False\n",
    ")"
   ],
   "id": "fdc9340f89418269",
   "execution_count": 25,
   "outputs": []
  },
  {
   "metadata": {},
   "cell_type": "code",
   "source": [
    "image_path = '../datasets/'\n",
    "\n",
    "# ??\n",
    "mnist_dataset = torchvision.datasets.MNIST(\n",
    "    image_path, \n",
    "    'train',\n",
    "    download=True\n",
    ")"
   ],
   "id": "84ba65fd4862c476",
   "execution_count": null,
   "outputs": []
  },
  {
   "metadata": {
    "ExecuteTime": {
     "end_time": "2024-07-20T15:28:28.158239Z",
     "start_time": "2024-07-20T15:28:27.905419Z"
    }
   },
   "cell_type": "code",
   "source": [
    "import torch\n",
    "from itertools import islice\n",
    "import matplotlib.pyplot as plt\n",
    "\n",
    "assert isinstance(mnist_dataset, torch.utils.data.Dataset)\n",
    "\n",
    "example = next(iter(mnist_dataset))\n",
    "print(example)\n",
    "\n",
    "fig = plt.figure(figsize=(15, 6))\n",
    "for i, (image, label) in islice(enumerate(mnist_dataset), 10):\n",
    "    ax = fig.add_subplot(2, 5, i + 1)\n",
    "    ax.set_xticks([])\n",
    "    ax.set_yticks([])\n",
    "    ax.imshow(image, cmap='gray_r')\n",
    "    ax.set_title(f'{label}', size=15)\n",
    "plt.show()"
   ],
   "id": "e4c1e58062955ca6",
   "execution_count": 33,
   "outputs": []
  },
  {
   "metadata": {},
   "cell_type": "code",
   "execution_count": null,
   "source": "",
   "id": "7d8406bf4d498c78",
   "outputs": []
  }
 ],
 "metadata": {
  "kernelspec": {
   "display_name": "Python 3",
   "language": "python",
   "name": "python3"
  },
  "language_info": {
   "codemirror_mode": {
    "name": "ipython",
    "version": 2
   },
   "file_extension": ".py",
   "mimetype": "text/x-python",
   "name": "python",
   "nbconvert_exporter": "python",
   "pygments_lexer": "ipython2",
   "version": "2.7.6"
  }
 },
 "nbformat": 4,
 "nbformat_minor": 5
}
