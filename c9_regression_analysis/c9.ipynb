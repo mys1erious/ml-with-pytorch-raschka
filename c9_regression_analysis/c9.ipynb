{
 "cells": [
  {
   "cell_type": "code",
   "id": "initial_id",
   "metadata": {
    "collapsed": true,
    "ExecuteTime": {
     "end_time": "2024-07-10T04:52:18.619463Z",
     "start_time": "2024-07-10T04:52:16.611344Z"
    }
   },
   "source": [
    "import pandas as pd\n",
    "\n",
    "columns = [\n",
    "    'Overall Qual',\n",
    "    'Overall Cond',\n",
    "    'Gr Liv Area',\n",
    "    'Central Air',\n",
    "    'Total Bsmt SF',\n",
    "    'SalePrice'\n",
    "]\n",
    "\n",
    "df = pd.read_csv(\n",
    "    'http://jse.amstat.org/v19n3/decock/AmesHousing.txt',\n",
    "    sep='\\t',\n",
    "    usecols=columns\n",
    ")\n",
    "df.head()"
   ],
   "execution_count": 1,
   "outputs": []
  },
  {
   "metadata": {
    "ExecuteTime": {
     "end_time": "2024-07-10T04:52:18.624593Z",
     "start_time": "2024-07-10T04:52:18.620982Z"
    }
   },
   "cell_type": "code",
   "source": "df.shape",
   "id": "38702350959ad8de",
   "execution_count": 2,
   "outputs": []
  },
  {
   "metadata": {
    "ExecuteTime": {
     "end_time": "2024-07-10T04:52:18.634370Z",
     "start_time": "2024-07-10T04:52:18.625618Z"
    }
   },
   "cell_type": "code",
   "source": [
    "df['Central Air'] = df['Central Air'].map({'N': 0, 'Y': 1})\n",
    "df.isnull().sum()"
   ],
   "id": "b3093e850f8eeb94",
   "execution_count": 3,
   "outputs": []
  },
  {
   "metadata": {
    "ExecuteTime": {
     "end_time": "2024-07-10T04:52:18.641440Z",
     "start_time": "2024-07-10T04:52:18.635956Z"
    }
   },
   "cell_type": "code",
   "source": [
    "df = df.dropna(axis=0)\n",
    "df.isnull().sum()"
   ],
   "id": "309574fe64613174",
   "execution_count": 4,
   "outputs": []
  },
  {
   "metadata": {
    "ExecuteTime": {
     "end_time": "2024-07-10T04:52:21.480972Z",
     "start_time": "2024-07-10T04:52:18.642305Z"
    }
   },
   "cell_type": "code",
   "source": [
    "import matplotlib.pyplot as plt\n",
    "from mlxtend.plotting import scatterplotmatrix\n",
    "\n",
    "scatterplotmatrix(\n",
    "    df.values,\n",
    "    figsize=(12, 10),\n",
    "    names=df.columns,\n",
    "    alpha=0.5\n",
    ")\n",
    "plt.tight_layout()\n",
    "plt.show()"
   ],
   "id": "a9cf9c434f677557",
   "execution_count": 5,
   "outputs": []
  },
  {
   "metadata": {
    "ExecuteTime": {
     "end_time": "2024-07-10T04:52:21.656357Z",
     "start_time": "2024-07-10T04:52:21.482144Z"
    }
   },
   "cell_type": "code",
   "source": [
    "import numpy as np\n",
    "from mlxtend.plotting import heatmap\n",
    "\n",
    "cm = np.corrcoef(df.values.T)\n",
    "hm = heatmap(cm, row_names=df.columns, column_names=df.columns)\n",
    "plt.tight_layout()\n",
    "plt.show()"
   ],
   "id": "7eb61782cc2ce55c",
   "execution_count": 6,
   "outputs": []
  },
  {
   "metadata": {
    "ExecuteTime": {
     "end_time": "2024-07-10T04:52:21.662738Z",
     "start_time": "2024-07-10T04:52:21.657457Z"
    }
   },
   "cell_type": "code",
   "source": [
    "class LinearRegressionGD:\n",
    "    def __init__(self, eta=0.01, n_iter=50, random_state=1):\n",
    "        self.eta = eta\n",
    "        self.n_iter = n_iter\n",
    "        self.random_state = random_state\n",
    "    \n",
    "    def fit(self, X, y):\n",
    "        rgen = np.random.RandomState(self.random_state)\n",
    "        self.w_ = rgen.normal(\n",
    "            loc=0.0, \n",
    "            scale=0.01, \n",
    "            size=X.shape[1]\n",
    "        )\n",
    "        self.b_ = np.array([0.])\n",
    "        self.losses_ = []\n",
    "        \n",
    "        for i in range(self.n_iter):\n",
    "            output = self.net_input(X)\n",
    "            errors = (y - output)\n",
    "            self.w_ += self.eta * 2.0 * X.T.dot(errors) / X.shape[0]\n",
    "            self.b_ += self.eta * 2.0 * errors.mean()\n",
    "            loss = (errors**2).mean()\n",
    "            self.losses_.append(loss)\n",
    "        \n",
    "        return self\n",
    "    \n",
    "    def net_input(self, X):\n",
    "        return np.dot(X, self.w_) + self.b_\n",
    "    \n",
    "    def predict(self, X):\n",
    "        return self.net_input(X)"
   ],
   "id": "a7c586c88d61299c",
   "execution_count": 7,
   "outputs": []
  },
  {
   "metadata": {
    "ExecuteTime": {
     "end_time": "2024-07-10T04:52:21.676847Z",
     "start_time": "2024-07-10T04:52:21.663855Z"
    }
   },
   "cell_type": "code",
   "source": [
    "X = df[['Gr Liv Area']].values\n",
    "y = df['SalePrice'].values\n",
    "\n",
    "from sklearn.preprocessing import StandardScaler\n",
    "\n",
    "sc_x = StandardScaler()\n",
    "sc_y = StandardScaler()\n",
    "X_std = sc_x.fit_transform(X)\n",
    "y_std = sc_y.fit_transform(y[:, np.newaxis]).flatten()\n",
    "\n",
    "lr = LinearRegressionGD(eta=0.1)\n",
    "lr.fit(X_std, y_std)"
   ],
   "id": "f8582c92456482c",
   "execution_count": 8,
   "outputs": []
  },
  {
   "metadata": {
    "ExecuteTime": {
     "end_time": "2024-07-10T04:52:21.758007Z",
     "start_time": "2024-07-10T04:52:21.677761Z"
    }
   },
   "cell_type": "code",
   "source": [
    "plt.plot(range(1, lr.n_iter+1), lr.losses_)\n",
    "plt.ylabel('MSE')\n",
    "plt.xlabel('Epoch')\n",
    "plt.show()"
   ],
   "id": "181f81cd5f737b07",
   "execution_count": 9,
   "outputs": []
  },
  {
   "metadata": {
    "ExecuteTime": {
     "end_time": "2024-07-10T04:52:21.860409Z",
     "start_time": "2024-07-10T04:52:21.760499Z"
    }
   },
   "cell_type": "code",
   "source": [
    "from utils import lin_regplot\n",
    "\n",
    "lin_regplot(X_std, y_std, lr)\n",
    "plt.xlabel(' Living area above ground (standardized)')\n",
    "plt.ylabel('Sale price (standardized)')\n",
    "plt.show()"
   ],
   "id": "180b2b4aeb1e18a8",
   "execution_count": 10,
   "outputs": []
  },
  {
   "metadata": {
    "ExecuteTime": {
     "end_time": "2024-07-10T04:52:21.865163Z",
     "start_time": "2024-07-10T04:52:21.861497Z"
    }
   },
   "cell_type": "code",
   "source": [
    "feature_std = sc_x.transform(np.array([[2500]]))\n",
    "target_std = lr.predict(feature_std)\n",
    "target_reverted = sc_y.inverse_transform(target_std.reshape(-1, 1))\n",
    "print(f'Sales price: ${target_reverted.flatten()[0]:.2f}')"
   ],
   "id": "b5023544833ab60",
   "execution_count": 11,
   "outputs": []
  },
  {
   "metadata": {
    "ExecuteTime": {
     "end_time": "2024-07-10T04:52:21.870352Z",
     "start_time": "2024-07-10T04:52:21.866301Z"
    }
   },
   "cell_type": "code",
   "source": [
    "print(f'Slope: {lr.w_[0]:.3f}')\n",
    "print(f'Intercept: {lr.b_[0]:.3f}')"
   ],
   "id": "90b1104cd985e4d4",
   "execution_count": 12,
   "outputs": []
  },
  {
   "metadata": {
    "ExecuteTime": {
     "end_time": "2024-07-10T04:52:21.879338Z",
     "start_time": "2024-07-10T04:52:21.871257Z"
    }
   },
   "cell_type": "code",
   "source": [
    "from sklearn.linear_model import LinearRegression\n",
    "\n",
    "slr = LinearRegression()\n",
    "slr.fit(X, y)\n",
    "y_pred = slr.predict(X)\n",
    "\n",
    "print(f'Slope: {slr.coef_[0]:.3f}')\n",
    "print(f'Intercept: {slr.intercept_:.3f}')"
   ],
   "id": "d23386814c3ecd48",
   "execution_count": 13,
   "outputs": []
  },
  {
   "metadata": {
    "ExecuteTime": {
     "end_time": "2024-07-10T04:52:22.111389Z",
     "start_time": "2024-07-10T04:52:21.880273Z"
    }
   },
   "cell_type": "code",
   "source": [
    "lin_regplot(X, y, slr)\n",
    "plt.xlabel('Living area above ground in square feet')\n",
    "plt.ylabel('Sale price in U.S. dollars')\n",
    "plt.tight_layout()\n",
    "plt.show()"
   ],
   "id": "c9a6dbf90a27a819",
   "execution_count": 14,
   "outputs": []
  },
  {
   "metadata": {
    "ExecuteTime": {
     "end_time": "2024-07-10T04:52:22.190390Z",
     "start_time": "2024-07-10T04:52:22.112504Z"
    }
   },
   "cell_type": "code",
   "source": [
    "# RANSAC - to handle outliers\n",
    "\n",
    "from sklearn.linear_model import RANSACRegressor\n",
    "\n",
    "ransac = RANSACRegressor(\n",
    "    LinearRegression(),\n",
    "    max_trials=100,\n",
    "    min_samples=0.95,\n",
    "    residual_threshold=None,\n",
    "    random_state=123\n",
    ")\n",
    "ransac.fit(X, y)"
   ],
   "id": "988fbcc8d90ea954",
   "execution_count": 15,
   "outputs": []
  },
  {
   "metadata": {
    "ExecuteTime": {
     "end_time": "2024-07-10T04:52:22.335144Z",
     "start_time": "2024-07-10T04:52:22.191477Z"
    }
   },
   "cell_type": "code",
   "source": [
    "inlier_mask = ransac.inlier_mask_\n",
    "outlier_mask = np.logical_not(inlier_mask)\n",
    "\n",
    "line_X = np.arange(3, 10, 1)\n",
    "line_y_ransac = ransac.predict(line_X[:, np.newaxis])\n",
    "\n",
    "plt.scatter(\n",
    "    X[inlier_mask], y[inlier_mask],\n",
    "    c='steelblue', edgecolor='white',\n",
    "    marker='o', label='Inliers'\n",
    ")\n",
    "plt.scatter(\n",
    "    X[outlier_mask], y[outlier_mask],\n",
    "    c='limegreen', edgecolor='white',\n",
    "    marker='s', label='Outliers'\n",
    ")\n",
    "plt.plot(line_X, line_y_ransac, color='black', lw=2)\n",
    "plt.xlabel('Living area above ground in square feet')\n",
    "plt.ylabel('Sale price in U.S. dollars')\n",
    "plt.legend(loc='upper left')\n",
    "plt.tight_layout()\n",
    "plt.show()"
   ],
   "id": "7b4008066697cfcb",
   "execution_count": 16,
   "outputs": []
  },
  {
   "metadata": {
    "ExecuteTime": {
     "end_time": "2024-07-10T04:52:22.338758Z",
     "start_time": "2024-07-10T04:52:22.336046Z"
    }
   },
   "cell_type": "code",
   "source": [
    "print(f'Slope: {ransac.estimator_.coef_[0]:.3f}')\n",
    "print(f'Intercept: {ransac.estimator_.intercept_:.3f}')"
   ],
   "id": "3eb18a4ffb4899bc",
   "execution_count": 17,
   "outputs": []
  },
  {
   "metadata": {
    "ExecuteTime": {
     "end_time": "2024-07-10T04:52:22.346261Z",
     "start_time": "2024-07-10T04:52:22.339714Z"
    }
   },
   "cell_type": "code",
   "source": [
    "def median_absolute_deviation(data):\n",
    "    return np.median(np.abs(data - np.median(data)))\n",
    "\n",
    "median_absolute_deviation(y)"
   ],
   "id": "72ca995d7ddfeb0",
   "execution_count": 18,
   "outputs": []
  },
  {
   "metadata": {
    "ExecuteTime": {
     "end_time": "2024-07-10T04:52:22.359092Z",
     "start_time": "2024-07-10T04:52:22.347117Z"
    }
   },
   "cell_type": "code",
   "source": [
    "from sklearn.model_selection import train_test_split\n",
    "\n",
    "target = 'SalePrice'\n",
    "features = df.columns[df.columns != target]\n",
    "X = df[features].values\n",
    "y = df[target].values\n",
    "\n",
    "X_train, X_test, y_train, y_test = train_test_split(\n",
    "    X, y,\n",
    "    test_size=0.3,\n",
    "    random_state=123\n",
    ")\n",
    "\n",
    "slr = LinearRegression()\n",
    "slr.fit(X_train, y_train)\n",
    "y_train_pred = slr.predict(X_train)\n",
    "y_test_pred = slr.predict(X_test)"
   ],
   "id": "d7b46e40017116a4",
   "execution_count": 19,
   "outputs": []
  },
  {
   "metadata": {
    "ExecuteTime": {
     "end_time": "2024-07-10T04:52:22.577870Z",
     "start_time": "2024-07-10T04:52:22.360191Z"
    }
   },
   "cell_type": "code",
   "source": [
    "x_max = np.max(\n",
    "    [np.max(y_train_pred), np.max(y_test_pred)]\n",
    ")\n",
    "x_min = np.min(\n",
    "    [np.min(y_train_pred), np.min(y_test_pred)]\n",
    ")\n",
    "fig, (ax1, ax2) = plt.subplots(\n",
    "    1, 2,\n",
    "    figsize=(7, 3),\n",
    "    sharey=True\n",
    ")\n",
    "ax1.scatter(\n",
    "    y_test_pred,\n",
    "    y_test_pred - y_test,\n",
    "    c='limegreen',\n",
    "    marker='s',\n",
    "    edgecolor='white',\n",
    "    label='Test data'\n",
    ")\n",
    "ax2.scatter(\n",
    "    y_train_pred,\n",
    "    y_train_pred - y_train,\n",
    "    c='steelblue',\n",
    "    marker='o',\n",
    "    edgecolor='white',\n",
    "    label='Training data'\n",
    ")\n",
    "ax1.set_ylabel('Residuals')\n",
    "\n",
    "for ax in (ax1, ax2):\n",
    "    ax.set_xlabel('Predicted values')\n",
    "    ax.legend(loc='upper left')\n",
    "    ax.hlines(\n",
    "        y=0,\n",
    "        xmin=x_min - 100,\n",
    "        xmax=x_max + 100,\n",
    "        color='black',\n",
    "        lw=2\n",
    "    )\n",
    "\n",
    "plt.tight_layout()\n",
    "plt.show()"
   ],
   "id": "8073c75ce88b8a35",
   "execution_count": 20,
   "outputs": []
  },
  {
   "metadata": {
    "ExecuteTime": {
     "end_time": "2024-07-10T04:52:22.584303Z",
     "start_time": "2024-07-10T04:52:22.578958Z"
    }
   },
   "cell_type": "code",
   "source": [
    "from sklearn.metrics import mean_squared_error\n",
    "\n",
    "mse_train = mean_squared_error(y_train, y_train_pred)\n",
    "mse_test = mean_squared_error(y_test, y_test_pred)\n",
    "\n",
    "print(f'MSE train: {mse_train:.2f}')\n",
    "print(f'MSE test: {mse_test:.2f}')"
   ],
   "id": "cff210f1c4b7c238",
   "execution_count": 21,
   "outputs": []
  },
  {
   "metadata": {
    "ExecuteTime": {
     "end_time": "2024-07-10T04:52:22.591032Z",
     "start_time": "2024-07-10T04:52:22.585302Z"
    }
   },
   "cell_type": "code",
   "source": [
    "from sklearn.metrics import mean_absolute_error\n",
    "\n",
    "mae_train = mean_absolute_error(y_train, y_train_pred)\n",
    "mae_test = mean_absolute_error(y_test, y_test_pred)\n",
    "\n",
    "print(f'MAE train: {mae_train:.2f}')\n",
    "print(f'MAE test: {mae_test:.2f}')"
   ],
   "id": "fc2ec4193b2a257c",
   "execution_count": 22,
   "outputs": []
  },
  {
   "metadata": {
    "ExecuteTime": {
     "end_time": "2024-07-10T04:52:22.600848Z",
     "start_time": "2024-07-10T04:52:22.592094Z"
    }
   },
   "cell_type": "code",
   "source": [
    "from sklearn.metrics import r2_score\n",
    "\n",
    "train_r2 = r2_score(y_train, y_train_pred)\n",
    "test_r2 = r2_score(y_test, y_test_pred)\n",
    "print(f'R^2 train: {train_r2:.3f}, {test_r2:.3f}')"
   ],
   "id": "63fffae3d5699d85",
   "execution_count": 23,
   "outputs": []
  },
  {
   "metadata": {
    "ExecuteTime": {
     "end_time": "2024-07-10T04:52:22.608931Z",
     "start_time": "2024-07-10T04:52:22.601829Z"
    }
   },
   "cell_type": "code",
   "source": [
    "# Regularization\n",
    "\n",
    "from sklearn.linear_model import Ridge, Lasso, ElasticNet\n",
    "\n",
    "ridge = Ridge(alpha=1.0)\n",
    "lasso = Lasso(alpha=1.0)\n",
    "elanet = ElasticNet(alpha=1.0, l1_ratio=0.5)"
   ],
   "id": "10c0075d0d0c59d7",
   "execution_count": 24,
   "outputs": []
  },
  {
   "metadata": {
    "ExecuteTime": {
     "end_time": "2024-07-10T04:52:22.616908Z",
     "start_time": "2024-07-10T04:52:22.609818Z"
    }
   },
   "cell_type": "code",
   "source": [
    "# Polynomial regression\n",
    "\n",
    "from sklearn.preprocessing import PolynomialFeatures\n",
    "\n",
    "X = np.array([\n",
    "    258.0, 270.0, 294.0, 320.0, 342.0,\n",
    "    368.0, 396.0, 446.0, 480.0, 586.0]\n",
    ")[:, np.newaxis]\n",
    "y = np.array([\n",
    "    236.4, 234.4, 252.8, 298.6, 314.2,\n",
    "    342.2, 360.8, 368.0, 391.2, 390.8\n",
    "])\n",
    "\n",
    "lr = LinearRegression()\n",
    "pr = LinearRegression()\n",
    "quadratic = PolynomialFeatures(degree=2)\n",
    "X_quad = quadratic.fit_transform(X)\n",
    "\n",
    "lr.fit(X, y)\n",
    "X_fit = np.arange(250, 600, 10)[:, np.newaxis]\n",
    "y_lin_fit = lr.predict(X_fit)\n",
    "\n",
    "pr.fit(X_quad, y)\n",
    "y_quad_fit = pr.predict(quadratic.fit_transform(X_fit))"
   ],
   "id": "3533d2e1f49d9c7b",
   "execution_count": 25,
   "outputs": []
  },
  {
   "metadata": {
    "ExecuteTime": {
     "end_time": "2024-07-10T04:52:22.767731Z",
     "start_time": "2024-07-10T04:52:22.617791Z"
    }
   },
   "cell_type": "code",
   "source": [
    "plt.scatter(X, y, label='Training points')\n",
    "plt.plot(\n",
    "    X_fit,\n",
    "    y_lin_fit,\n",
    "    label='Linear fit',\n",
    "    linestyle='--'\n",
    ")\n",
    "plt.plot(\n",
    "    X_fit,\n",
    "    y_quad_fit,\n",
    "    label='Quadratic fit'\n",
    ")\n",
    "plt.xlabel('Explanatory variable')\n",
    "plt.ylabel('Predicted or known target values')\n",
    "plt.legend(loc='upper left')\n",
    "plt.tight_layout()\n",
    "plt.show()"
   ],
   "id": "dbc2eaff5c672322",
   "execution_count": 26,
   "outputs": []
  },
  {
   "metadata": {
    "ExecuteTime": {
     "end_time": "2024-07-10T04:52:22.774895Z",
     "start_time": "2024-07-10T04:52:22.768688Z"
    }
   },
   "cell_type": "code",
   "source": [
    "y_lin_pred = lr.predict(X)\n",
    "y_quad_pred = pr.predict(X_quad)\n",
    "\n",
    "mse_lin = mean_squared_error(y, y_lin_pred)\n",
    "mse_quad = mean_squared_error(y, y_quad_pred)\n",
    "print(\n",
    "    f'Training MSE linear: {mse_lin:.3f}'\n",
    "    f', quadratic: {mse_quad:.3f}'\n",
    ")\n",
    "\n",
    "r2_lin = r2_score(y, y_lin_pred)\n",
    "r2_quad = r2_score(y, y_quad_pred)\n",
    "print(\n",
    "    f'Training R^2 linear: {r2_lin:.3f}'\n",
    "    f', quadratic: {r2_quad:.3f}'\n",
    ")"
   ],
   "id": "10858f4c7b84c8e2",
   "execution_count": 27,
   "outputs": []
  },
  {
   "metadata": {
    "ExecuteTime": {
     "end_time": "2024-07-10T05:00:45.416552Z",
     "start_time": "2024-07-10T05:00:45.412813Z"
    }
   },
   "cell_type": "code",
   "source": [
    "# Nonlinear rels in Ames Housing ds\n",
    "\n",
    "# Remove outliers\n",
    "X = df[['Gr Liv Area']].values\n",
    "y = df['SalePrice'].values\n",
    "X = X[(df['Gr Liv Area'] < 40000)]\n",
    "y = y[(df['Gr Liv Area'] < 40000)]"
   ],
   "id": "2f1aa92820758199",
   "execution_count": 31,
   "outputs": []
  },
  {
   "metadata": {
    "ExecuteTime": {
     "end_time": "2024-07-10T05:00:46.549942Z",
     "start_time": "2024-07-10T05:00:46.516835Z"
    }
   },
   "cell_type": "code",
   "source": [
    "regr = LinearRegression()\n",
    "\n",
    "quadratic = PolynomialFeatures(degree=2)\n",
    "cubic = PolynomialFeatures(degree=3)\n",
    "X_quad = quadratic.fit_transform(X)\n",
    "X_cubic = cubic.fit_transform(X)\n",
    "\n",
    "X_fit = np.arange(X.min()-1, X.max()+2, 1)[:, np.newaxis]\n",
    "regr = regr.fit(X, y)\n",
    "y_lin_fit = regr.predict(X_fit)\n",
    "linear_r2 = r2_score(y, regr.predict(X))\n",
    "\n",
    "regr = regr.fit(X_quad, y)\n",
    "y_quad_fit = regr.predict(quadratic.fit_transform(X_fit))\n",
    "quadratic_r2 = r2_score(y, regr.predict(X_quad))\n",
    "\n",
    "regr = regr.fit(X_cubic, y)\n",
    "y_cubic_fit = regr.predict(cubic.fit_transform(X_fit))\n",
    "cubic_r2 = r2_score(y, regr.predict(X_cubic))"
   ],
   "id": "4740961e20a32b8",
   "execution_count": 32,
   "outputs": []
  },
  {
   "metadata": {
    "ExecuteTime": {
     "end_time": "2024-07-10T05:00:47.301649Z",
     "start_time": "2024-07-10T05:00:47.149957Z"
    }
   },
   "cell_type": "code",
   "source": [
    "plt.scatter(\n",
    "    X, y,\n",
    "    label='Training points',\n",
    "    color='lightgray'\n",
    ")\n",
    "plt.plot(\n",
    "    X_fit, y_lin_fit,\n",
    "    label=f'Linear (d=1), $R^2$={linear_r2:.2f}',\n",
    "    color='blue',\n",
    "    lw=2,\n",
    "    linestyle=':'\n",
    ")\n",
    "plt.plot(\n",
    "    X_fit, y_quad_fit,\n",
    "    label=f'Quadratic (d=2), $R^2$={quadratic_r2:.2f}',\n",
    "    color='red',\n",
    "    lw=2,\n",
    "    linestyle='-'\n",
    ")\n",
    "plt.plot(\n",
    "    X_fit, y_cubic_fit,\n",
    "    label=f'Cubic (d=3), $R^2$={cubic_r2:.2f}',\n",
    "    color='green',\n",
    "    lw=2,\n",
    "    linestyle='--'\n",
    ")\n",
    "plt.xlabel('Living area above ground in square feet')\n",
    "plt.ylabel('Sale price in U.S. dollars')\n",
    "plt.legend(loc='upper left')\n",
    "plt.show()"
   ],
   "id": "1fb7a3f40ebdb677",
   "execution_count": 33,
   "outputs": []
  },
  {
   "metadata": {
    "ExecuteTime": {
     "end_time": "2024-07-10T05:03:07.014224Z",
     "start_time": "2024-07-10T05:03:07.010361Z"
    }
   },
   "cell_type": "code",
   "source": [
    "X = df[['Overall Qual']].values\n",
    "y = df['SalePrice'].values"
   ],
   "id": "128d6c8e97bf2fcc",
   "execution_count": 38,
   "outputs": []
  },
  {
   "metadata": {
    "ExecuteTime": {
     "end_time": "2024-07-10T05:11:53.211487Z",
     "start_time": "2024-07-10T05:11:53.061953Z"
    }
   },
   "cell_type": "code",
   "source": [
    "# Decision tree and random forest regression\n",
    "\n",
    "from sklearn.tree import DecisionTreeRegressor\n",
    "\n",
    "X = df[['Gr Liv Area']].values\n",
    "y = df['SalePrice'].values\n",
    "\n",
    "tree = DecisionTreeRegressor(max_depth=3)\n",
    "tree.fit(X, y)\n",
    "\n",
    "sort_idx = X.flatten().argsort()\n",
    "lin_regplot(X[sort_idx], y[sort_idx], tree)\n",
    "plt.xlabel('Living area above ground in square feet')\n",
    "plt.ylabel('Sale price in U.S. dollars')\n",
    "plt.show()"
   ],
   "id": "44f6cfe0b9f312f8",
   "execution_count": 40,
   "outputs": []
  },
  {
   "metadata": {
    "ExecuteTime": {
     "end_time": "2024-07-10T05:14:43.480004Z",
     "start_time": "2024-07-10T05:14:43.474381Z"
    }
   },
   "cell_type": "code",
   "source": [
    "target = 'SalePrice'\n",
    "features = df.columns[df.columns != target]\n",
    "X = df[features].values\n",
    "y = df[target].values\n",
    "X_train, X_test, y_train, y_test = train_test_split(\n",
    "    X, y,\n",
    "    test_size=0.3,\n",
    "    random_state=123\n",
    ")"
   ],
   "id": "65f41ec725ec9967",
   "execution_count": 41,
   "outputs": []
  },
  {
   "metadata": {
    "ExecuteTime": {
     "end_time": "2024-07-10T05:16:35.432570Z",
     "start_time": "2024-07-10T05:16:33.215791Z"
    }
   },
   "cell_type": "code",
   "source": [
    "from sklearn.ensemble import RandomForestRegressor\n",
    "\n",
    "forest = RandomForestRegressor(\n",
    "    n_estimators=1000,\n",
    "    criterion='squared_error',\n",
    "    random_state=1,\n",
    "    n_jobs=-1\n",
    ")\n",
    "forest.fit(X_train, y_train)\n",
    "\n",
    "y_train_pred = forest.predict(X_train)\n",
    "y_test_pred = forest.predict(X_test)\n",
    "\n",
    "mae_train = mean_absolute_error(y_train, y_train_pred)\n",
    "mae_test = mean_absolute_error(y_test, y_test_pred)\n",
    "print(f'MAE train: {mae_train:.2f}')\n",
    "print(f'MAE test: {mae_test:.2f}')\n",
    "\n",
    "r2_train = r2_score(y_train, y_train_pred)\n",
    "r2_test = r2_score(y_test, y_test_pred)\n",
    "print(f'R^2 train: {r2_train:.2f}')\n",
    "print(f'R^2 test: {r2_test:.2f}')"
   ],
   "id": "a65ae8f08a9f4090",
   "execution_count": 42,
   "outputs": []
  },
  {
   "metadata": {
    "ExecuteTime": {
     "end_time": "2024-07-10T05:18:08.054248Z",
     "start_time": "2024-07-10T05:18:07.825245Z"
    }
   },
   "cell_type": "code",
   "source": [
    "# Residuals\n",
    "x_max = np.max([np.max(y_train_pred), np.max(y_test_pred)])\n",
    "x_min = np.min([np.min(y_train_pred), np.min(y_test_pred)])\n",
    "\n",
    "fig, (ax1, ax2) = plt.subplots(1, 2, figsize=(7, 3), sharey=True)\n",
    "ax1.scatter(\n",
    "    y_test_pred,\n",
    "    y_test_pred - y_test,\n",
    "    c='limegreen',\n",
    "    marker='s',\n",
    "    edgecolor='white',\n",
    "    label='Test data'\n",
    ")\n",
    "ax2.scatter(\n",
    "    y_train_pred,\n",
    "    y_train_pred - y_train,\n",
    "    c='steelblue',\n",
    "    marker='o',\n",
    "    edgecolor='white',\n",
    "    label='Training data'\n",
    ")\n",
    "ax1.set_ylabel('Residuals')\n",
    "for ax in (ax1, ax2):\n",
    "    ax.set_xlabel('Predicted values')\n",
    "    ax.legend(loc='upper left')\n",
    "    ax.hlines(\n",
    "        y=0,\n",
    "        xmin=x_min - 100,\n",
    "        xmax=x_max + 100,\n",
    "        color='black',\n",
    "        lw=2\n",
    "    )\n",
    "plt.tight_layout()\n",
    "plt.show()"
   ],
   "id": "bc7aa0329d11092",
   "execution_count": 43,
   "outputs": []
  },
  {
   "metadata": {},
   "cell_type": "code",
   "execution_count": null,
   "source": "",
   "id": "fd32c00eaf5464ff",
   "outputs": []
  }
 ],
 "metadata": {
  "kernelspec": {
   "display_name": "Python 3",
   "language": "python",
   "name": "python3"
  },
  "language_info": {
   "codemirror_mode": {
    "name": "ipython",
    "version": 2
   },
   "file_extension": ".py",
   "mimetype": "text/x-python",
   "name": "python",
   "nbconvert_exporter": "python",
   "pygments_lexer": "ipython2",
   "version": "2.7.6"
  }
 },
 "nbformat": 4,
 "nbformat_minor": 5
}
