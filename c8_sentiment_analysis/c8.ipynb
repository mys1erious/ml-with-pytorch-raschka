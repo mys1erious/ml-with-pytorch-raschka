{
 "cells": [
  {
   "cell_type": "code",
   "id": "initial_id",
   "metadata": {
    "collapsed": true,
    "ExecuteTime": {
     "end_time": "2024-07-07T08:51:57.153655Z",
     "start_time": "2024-07-07T08:51:57.151319Z"
    }
   },
   "source": [
    "# Preparing data\n",
    "\n",
    "import pyprind\n",
    "import pandas as pd\n",
    "import os\n",
    "import sys\n",
    "\n",
    "\n",
    "# dataset: http://ai.stanford.edu/~amaas/data/sentiment/\n",
    "img_align_celebaCe = '../datasets/aclImdb_v1/aclImdb'"
   ],
   "execution_count": 6,
   "outputs": []
  },
  {
   "metadata": {
    "ExecuteTime": {
     "end_time": "2024-07-07T08:57:28.220730Z",
     "start_time": "2024-07-07T08:57:26.853218Z"
    }
   },
   "cell_type": "code",
   "source": [
    "pbar = pyprind.ProgBar(50000, stream=sys.stdout)\n",
    "\n",
    "labels = {'pos': 1, 'neg': 0}\n",
    "data = []\n",
    "\n",
    "for s in ('test', 'train'):\n",
    "    for l in ('pos', 'neg'):\n",
    "        path = os.path.join(basepath, s, l)\n",
    "        for file in sorted(os.listdir(path)):\n",
    "            with open(\n",
    "                os.path.join(path, file),\n",
    "                'r',\n",
    "                encoding='utf-8'\n",
    "            ) as infile:\n",
    "                txt = infile.read()\n",
    "            data.append([txt, labels[l]])\n",
    "            pbar.update()\n",
    "\n",
    "df = pd.DataFrame(data, columns=['review', 'sentiment'])"
   ],
   "id": "e627828dbcb5c688",
   "execution_count": 12,
   "outputs": []
  },
  {
   "metadata": {
    "ExecuteTime": {
     "end_time": "2024-07-07T08:58:53.133739Z",
     "start_time": "2024-07-07T08:58:52.183563Z"
    }
   },
   "cell_type": "code",
   "source": [
    "import numpy as np\n",
    "\n",
    "np.random.seed(0)\n",
    "\n",
    "df = df.reindex(np.random.permutation(df.index))\n",
    "df.to_csv('movie_data.csv', index=False, encoding='utf-8')"
   ],
   "id": "ce441af592152fcd",
   "execution_count": 14,
   "outputs": []
  },
  {
   "metadata": {
    "ExecuteTime": {
     "end_time": "2024-07-07T09:00:39.140217Z",
     "start_time": "2024-07-07T09:00:38.739122Z"
    }
   },
   "cell_type": "code",
   "source": [
    "df = pd.read_csv('movie_data.csv', encoding='utf-8')\n",
    "df.head(3)"
   ],
   "id": "28a813227418f9ac",
   "execution_count": 15,
   "outputs": []
  },
  {
   "metadata": {
    "ExecuteTime": {
     "end_time": "2024-07-07T09:01:02.585314Z",
     "start_time": "2024-07-07T09:01:02.582369Z"
    }
   },
   "cell_type": "code",
   "source": "df.shape",
   "id": "a0cf0f869dacff0d",
   "execution_count": 16,
   "outputs": []
  },
  {
   "metadata": {
    "ExecuteTime": {
     "end_time": "2024-07-07T09:04:19.254694Z",
     "start_time": "2024-07-07T09:04:19.250762Z"
    }
   },
   "cell_type": "code",
   "source": [
    "# Create bag-of-words\n",
    "\n",
    "import numpy as np\n",
    "from sklearn.feature_extraction.text import CountVectorizer\n",
    "\n",
    "count = CountVectorizer()\n",
    "docs = np.array([\n",
    "    'The sun is shining',\n",
    "    'The weather is sweet',\n",
    "    'The sun is shining, the weather is sweet,'\n",
    "    'and one and one is two'\n",
    "])\n",
    "bag = count.fit_transform(docs)\n",
    "\n",
    "print(count.vocabulary_)\n",
    "print(bag.toarray())"
   ],
   "id": "657db3e84fd76691",
   "execution_count": 19,
   "outputs": []
  },
  {
   "metadata": {
    "ExecuteTime": {
     "end_time": "2024-07-07T09:12:56.186923Z",
     "start_time": "2024-07-07T09:12:56.182480Z"
    }
   },
   "cell_type": "code",
   "source": [
    "# Word frequency and relevancy\n",
    "\n",
    "from sklearn.feature_extraction.text import TfidfTransformer\n",
    "\n",
    "tfidf = TfidfTransformer(\n",
    "    use_idf=True,\n",
    "    norm='l2',\n",
    "    smooth_idf=True\n",
    ")\n",
    "np.set_printoptions(precision=2)\n",
    "print(tfidf.fit_transform(count.fit_transform(docs)).toarray())"
   ],
   "id": "8548e49a418854b",
   "execution_count": 22,
   "outputs": []
  },
  {
   "metadata": {
    "ExecuteTime": {
     "end_time": "2024-07-07T09:12:27.472654Z",
     "start_time": "2024-07-07T09:12:27.469303Z"
    }
   },
   "cell_type": "code",
   "source": [
    "# Cleaning the data\n",
    "\n",
    "df.loc[0, 'review'][-50:]"
   ],
   "id": "37764881579ff30f",
   "execution_count": 21,
   "outputs": []
  },
  {
   "metadata": {
    "ExecuteTime": {
     "end_time": "2024-07-07T09:17:21.296472Z",
     "start_time": "2024-07-07T09:17:21.293467Z"
    }
   },
   "cell_type": "code",
   "source": [
    "import re\n",
    "\n",
    "\n",
    "def preprocessor(text):\n",
    "    text = re.sub('<[^>]*>', '', text)\n",
    "    emoticons = re.findall('(?::|;|=)(?:-)?(?:\\)|\\(|D|P)', text)\n",
    "    return (\n",
    "        re.sub('[\\W]+', ' ', text.lower()) +\n",
    "        ' '.join(emoticons).replace('-', '')\n",
    "    )"
   ],
   "id": "660156a26d893a1b",
   "execution_count": 26,
   "outputs": []
  },
  {
   "metadata": {
    "ExecuteTime": {
     "end_time": "2024-07-07T09:18:05.131872Z",
     "start_time": "2024-07-07T09:18:05.129161Z"
    }
   },
   "cell_type": "code",
   "source": [
    "print(preprocessor(df.loc[0, 'review'][-50:]))\n",
    "print(preprocessor(\"</a>This :) is :( a test :-)!\"))"
   ],
   "id": "eed0f057e44da875",
   "execution_count": 30,
   "outputs": []
  },
  {
   "metadata": {
    "ExecuteTime": {
     "end_time": "2024-07-07T09:18:31.362410Z",
     "start_time": "2024-07-07T09:18:27.290091Z"
    }
   },
   "cell_type": "code",
   "source": "df['review'] = df['review'].apply(preprocessor)",
   "id": "2bb4468d74ec3a00",
   "execution_count": 31,
   "outputs": []
  },
  {
   "metadata": {
    "ExecuteTime": {
     "end_time": "2024-07-07T09:29:37.226795Z",
     "start_time": "2024-07-07T09:29:37.222530Z"
    }
   },
   "cell_type": "code",
   "source": [
    "# Word stemming\n",
    "\n",
    "def tokenizer(text):\n",
    "    return text.split()\n",
    "\n",
    "\n",
    "tokenizer('runners like running and thus they run')\n",
    "\n",
    "from nltk.stem.porter import PorterStemmer\n",
    "\n",
    "porter = PorterStemmer()\n",
    "\n",
    "\n",
    "def tokenizer_porter(text):\n",
    "    return [porter.stem(word) for word in text.split()]\n",
    "\n",
    "\n",
    "tokenizer_porter('runners like running and thus they run')"
   ],
   "id": "a065b36049a4c958",
   "execution_count": 36,
   "outputs": []
  },
  {
   "metadata": {
    "ExecuteTime": {
     "end_time": "2024-07-07T09:29:40.397678Z",
     "start_time": "2024-07-07T09:29:40.392714Z"
    }
   },
   "cell_type": "code",
   "source": [
    "import nltk\n",
    "\n",
    "nltk.download('stopwords')"
   ],
   "id": "126656f353d3ffdd",
   "execution_count": 37,
   "outputs": []
  },
  {
   "metadata": {
    "ExecuteTime": {
     "end_time": "2024-07-07T09:29:43.134664Z",
     "start_time": "2024-07-07T09:29:43.130584Z"
    }
   },
   "cell_type": "code",
   "source": [
    "from nltk.corpus import stopwords\n",
    "\n",
    "stop = stopwords.words('english')\n",
    "[\n",
    "    w for w in \n",
    "    tokenizer_porter('a runner likes running and runs a lot')\n",
    "    if w not in stop\n",
    "]"
   ],
   "id": "e6c23e8a95410f2b",
   "execution_count": 38,
   "outputs": []
  },
  {
   "metadata": {
    "ExecuteTime": {
     "end_time": "2024-07-07T09:29:43.945146Z",
     "start_time": "2024-07-07T09:29:43.941867Z"
    }
   },
   "cell_type": "code",
   "source": [
    "# Training a logistic regression model\n",
    "\n",
    "X_train = df.loc[:25000, 'review'].values\n",
    "y_train = df.loc[:25000, 'sentiment'].values\n",
    "X_test = df.loc[25000:, 'review'].values\n",
    "y_test = df.loc[25000:, 'sentiment'].values"
   ],
   "id": "92b0949954618b8d",
   "execution_count": 39,
   "outputs": []
  },
  {
   "metadata": {
    "ExecuteTime": {
     "end_time": "2024-07-07T09:33:54.235313Z",
     "start_time": "2024-07-07T09:31:47.979190Z"
    }
   },
   "cell_type": "code",
   "source": [
    "from sklearn.model_selection import GridSearchCV\n",
    "from sklearn.pipeline import Pipeline\n",
    "from sklearn.linear_model import LogisticRegression\n",
    "from sklearn.feature_extraction.text import TfidfVectorizer\n",
    "\n",
    "tfidf = TfidfVectorizer(\n",
    "    strip_accents=None,\n",
    "    lowercase=False,\n",
    "    preprocessor=None\n",
    ")\n",
    "\n",
    "small_param_grid = [{\n",
    "    'vect__ngram_range': [(1, 1)],\n",
    "    'vect__stop_words': [None],\n",
    "    'vect__tokenizer': [tokenizer, tokenizer_porter],\n",
    "    'clf__penalty': ['l2'],\n",
    "    'clf__C': [1.0, 10.0],\n",
    "}, {\n",
    "    'vect__ngram_range': [(1, 1)],\n",
    "    'vect__stop_words': [stop, None],\n",
    "    'vect__tokenizer': [tokenizer],\n",
    "    'vect__use_idf':[False],\n",
    "    'vect__norm':[None],\n",
    "    'clf__penalty': ['l2'],\n",
    "    'clf__C': [1.0, 10.0],\n",
    "}]\n",
    "\n",
    "lr_tfidf = Pipeline([\n",
    "    ('vect', tfidf),\n",
    "    ('clf', LogisticRegression(solver='liblinear'))\n",
    "])\n",
    "\n",
    "gs_lr_tfidf = GridSearchCV(\n",
    "    lr_tfidf,\n",
    "    small_param_grid,\n",
    "    scoring='accuracy',\n",
    "    cv=5,\n",
    "    verbose=2,\n",
    "    n_jobs=-1\n",
    ")\n",
    "gs_lr_tfidf.fit(X_train, y_train)"
   ],
   "id": "517f75df21cdb800",
   "execution_count": 40,
   "outputs": []
  },
  {
   "metadata": {
    "ExecuteTime": {
     "end_time": "2024-07-07T09:34:23.444126Z",
     "start_time": "2024-07-07T09:34:23.441555Z"
    }
   },
   "cell_type": "code",
   "source": "print(f'Best parameter set:: {gs_lr_tfidf.best_params_}')",
   "id": "2c2b17afaaf155b8",
   "execution_count": 41,
   "outputs": []
  },
  {
   "metadata": {
    "ExecuteTime": {
     "end_time": "2024-07-07T09:35:38.006896Z",
     "start_time": "2024-07-07T09:35:36.151854Z"
    }
   },
   "cell_type": "code",
   "source": [
    "print(f'CV Accuracy: {gs_lr_tfidf.best_score_:.3f}')\n",
    "\n",
    "clf = gs_lr_tfidf.best_estimator_\n",
    "print(f'Test Accuracy: {clf.score(X_test, y_test):.3f}')"
   ],
   "id": "9863e99512f6c308",
   "execution_count": 42,
   "outputs": []
  },
  {
   "metadata": {
    "ExecuteTime": {
     "end_time": "2024-07-07T09:40:07.435078Z",
     "start_time": "2024-07-07T09:40:07.430993Z"
    }
   },
   "cell_type": "code",
   "source": [
    "# Out-of-core learning\n",
    "\n",
    "import numpy as np\n",
    "import re\n",
    "from nltk.corpus import stopwords\n",
    "\n",
    "stop = stopwords.words('english')\n",
    "\n",
    "\n",
    "def tokenizer(text):\n",
    "    text = re.sub('<[^>]*>', '', text)\n",
    "    emoticons = re.findall(\n",
    "        '(?::|;|=)(?:-)?(?:\\)|\\(|D|P)',\n",
    "        text\n",
    "    )\n",
    "    text = (\n",
    "        re.sub('[\\W]+', ' ', text.lower())\n",
    "        + ' '.join(emoticons).replace('-', '')\n",
    "    )\n",
    "    tokenized = [w for w in text.split() if w not in stop]\n",
    "    return tokenized"
   ],
   "id": "5014c2bbe97f6b65",
   "execution_count": 43,
   "outputs": []
  },
  {
   "metadata": {
    "ExecuteTime": {
     "end_time": "2024-07-07T09:41:25.644725Z",
     "start_time": "2024-07-07T09:41:25.640664Z"
    }
   },
   "cell_type": "code",
   "source": [
    "def stream_docs(path):\n",
    "    with open(path, 'r', encoding='utf-8') as csv:\n",
    "        next(csv)\n",
    "        for line in csv:\n",
    "            text, label = line[:-3], int(line[-2])\n",
    "            yield text, label\n",
    "\n",
    "\n",
    "next(stream_docs(path='movie_data.csv'))"
   ],
   "id": "1068da17bf04c779",
   "execution_count": 44,
   "outputs": []
  },
  {
   "metadata": {
    "ExecuteTime": {
     "end_time": "2024-07-07T09:42:26.601492Z",
     "start_time": "2024-07-07T09:42:26.598599Z"
    }
   },
   "cell_type": "code",
   "source": [
    "def get_minibatch(doc_stream, size):\n",
    "    docs, y = [], []\n",
    "    try:\n",
    "        for _ in range(size):\n",
    "            text, label = next(doc_stream)\n",
    "            docs.append(text)\n",
    "            y.append(label)\n",
    "    except StopIteration:\n",
    "        return None, None\n",
    "    return docs, y"
   ],
   "id": "50789cc8f525e53e",
   "execution_count": 45,
   "outputs": []
  },
  {
   "metadata": {
    "ExecuteTime": {
     "end_time": "2024-07-07T09:56:26.437080Z",
     "start_time": "2024-07-07T09:56:26.434177Z"
    }
   },
   "cell_type": "code",
   "source": [
    "from sklearn.feature_extraction.text import HashingVectorizer\n",
    "from sklearn.linear_model import SGDClassifier\n",
    "\n",
    "vect = HashingVectorizer(\n",
    "    decode_error='ignore',\n",
    "    n_features=2**21,\n",
    "    preprocessor=None,\n",
    "    tokenizer=tokenizer\n",
    ")\n",
    "clf = SGDClassifier(loss='log_loss', random_state=1)\n",
    "doc_stream = stream_docs(path='movie_data.csv')"
   ],
   "id": "6a4e4007c8b8ca31",
   "execution_count": 55,
   "outputs": []
  },
  {
   "metadata": {
    "ExecuteTime": {
     "end_time": "2024-07-07T09:56:43.609181Z",
     "start_time": "2024-07-07T09:56:26.800471Z"
    }
   },
   "cell_type": "code",
   "source": [
    "import pyprind\n",
    "\n",
    "pbar = pyprind.ProgBar(45, stream=sys.stdout)\n",
    "classes = np.array([0, 1])\n",
    "\n",
    "for _ in range(45):\n",
    "    X_train, y_train = get_minibatch(doc_stream, size=1000)\n",
    "    if not X_train:\n",
    "        break\n",
    "        \n",
    "    X_train = vect.transform(X_train)\n",
    "    clf.partial_fit(X_train, y_train, classes=classes)\n",
    "    pbar.update()"
   ],
   "id": "87f76ce0308edec1",
   "execution_count": 56,
   "outputs": []
  },
  {
   "metadata": {},
   "cell_type": "code",
   "source": "clf = clf.partial_fit(X_test, y_test)",
   "id": "bef5393b6d3b48e7",
   "execution_count": null,
   "outputs": []
  },
  {
   "metadata": {
    "ExecuteTime": {
     "end_time": "2024-07-07T09:57:50.901284Z",
     "start_time": "2024-07-07T09:57:50.464904Z"
    }
   },
   "cell_type": "code",
   "source": [
    "# LDA\n",
    "\n",
    "import pandas as pd\n",
    "\n",
    "df = pd.read_csv('movie_data.csv', encoding='utf-8')\n",
    "df = df.rename(columns={'0': 'review', '1': 'sentiment'})"
   ],
   "id": "444c4290e6f76c41",
   "execution_count": 60,
   "outputs": []
  },
  {
   "metadata": {
    "ExecuteTime": {
     "end_time": "2024-07-07T09:58:41.588526Z",
     "start_time": "2024-07-07T09:58:36.180774Z"
    }
   },
   "cell_type": "code",
   "source": [
    "from sklearn.feature_extraction.text import CountVectorizer\n",
    "\n",
    "count = CountVectorizer(\n",
    "    stop_words='english',\n",
    "    max_df=.1,\n",
    "    max_features=5000\n",
    ")\n",
    "X = count.fit_transform(df['review'].values)"
   ],
   "id": "105fcf5da1ebb3dd",
   "execution_count": 61,
   "outputs": []
  },
  {
   "metadata": {
    "ExecuteTime": {
     "end_time": "2024-07-07T10:01:21.717788Z",
     "start_time": "2024-07-07T10:00:09.217065Z"
    }
   },
   "cell_type": "code",
   "source": [
    "from sklearn.decomposition import LatentDirichletAllocation\n",
    "\n",
    "lda = LatentDirichletAllocation(\n",
    "    n_components=10,\n",
    "    random_state=123,\n",
    "    learning_method='batch',\n",
    "    n_jobs=-1\n",
    ")\n",
    "X_topics = lda.fit_transform(X)"
   ],
   "id": "660bf77c4a331c30",
   "execution_count": 62,
   "outputs": []
  },
  {
   "metadata": {
    "ExecuteTime": {
     "end_time": "2024-07-07T10:01:27.270502Z",
     "start_time": "2024-07-07T10:01:27.267288Z"
    }
   },
   "cell_type": "code",
   "source": "lda.components_.shape",
   "id": "7fee533b260cab68",
   "execution_count": 63,
   "outputs": []
  },
  {
   "metadata": {
    "ExecuteTime": {
     "end_time": "2024-07-07T10:02:50.921499Z",
     "start_time": "2024-07-07T10:02:50.911591Z"
    }
   },
   "cell_type": "code",
   "source": [
    "n_top_words = 5\n",
    "feature_names = count.get_feature_names_out()\n",
    "\n",
    "for topic_idx, topic in enumerate(lda.components_):\n",
    "    print(f'Topic {(topic_idx + 1)}:')\n",
    "    print(\n",
    "        ' '.join([feature_names[i]\n",
    "        for i in topic.argsort()[:-n_top_words - 1:-1]])\n",
    "    )"
   ],
   "id": "faa2a27344413e25",
   "execution_count": 64,
   "outputs": []
  },
  {
   "metadata": {
    "ExecuteTime": {
     "end_time": "2024-07-07T10:04:07.517945Z",
     "start_time": "2024-07-07T10:04:07.509940Z"
    }
   },
   "cell_type": "code",
   "source": [
    "horror = X_topics[:, 5].argsort()[::-1]\n",
    "\n",
    "for iter_idx, movie_idx in enumerate(horror[:3]):\n",
    "    print(f'\\nHorror movie #{(iter_idx + 1)}:')\n",
    "    print(df['review'][movie_idx][:300], '...')"
   ],
   "id": "d5858680061cdce0",
   "execution_count": 65,
   "outputs": []
  },
  {
   "metadata": {},
   "cell_type": "code",
   "execution_count": null,
   "source": "",
   "id": "183970a421acfdf7",
   "outputs": []
  }
 ],
 "metadata": {
  "kernelspec": {
   "display_name": "Python 3",
   "language": "python",
   "name": "python3"
  },
  "language_info": {
   "codemirror_mode": {
    "name": "ipython",
    "version": 2
   },
   "file_extension": ".py",
   "mimetype": "text/x-python",
   "name": "python",
   "nbconvert_exporter": "python",
   "pygments_lexer": "ipython2",
   "version": "2.7.6"
  }
 },
 "nbformat": 4,
 "nbformat_minor": 5
}
