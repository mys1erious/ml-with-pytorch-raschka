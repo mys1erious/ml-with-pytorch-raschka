{
 "cells": [
  {
   "metadata": {
    "ExecuteTime": {
     "end_time": "2024-06-29T10:09:09.965920Z",
     "start_time": "2024-06-29T10:09:09.960645Z"
    }
   },
   "cell_type": "code",
   "source": [
    "import numpy as np\n",
    "from sklearn import datasets\n",
    "from sklearn.model_selection import train_test_split\n",
    "from sklearn.preprocessing import StandardScaler\n",
    "\n",
    "iris = datasets.load_iris()\n",
    "X = iris.data[:, [2, 3]]\n",
    "y = iris.target\n",
    "\n",
    "X_train, X_test, y_train, y_test = train_test_split(\n",
    "    X, y, test_size=0.3, random_state=1, stratify=y\n",
    ")"
   ],
   "id": "4b863cd0d5dd6faa",
   "execution_count": 7,
   "outputs": []
  },
  {
   "metadata": {
    "ExecuteTime": {
     "end_time": "2024-06-29T10:09:11.715940Z",
     "start_time": "2024-06-29T10:09:11.588200Z"
    }
   },
   "cell_type": "code",
   "source": [
    "import matplotlib.pyplot as plt\n",
    "\n",
    "\n",
    "def entropy(p):\n",
    "    return -p * np.log2(p) - (1 - p) * np.log2((1 - p))\n",
    "\n",
    "\n",
    "def gini(p):\n",
    "    return p * (1 - p) + (1 - p) * (1 - (1 - p))\n",
    "\n",
    "\n",
    "def error(p):\n",
    "    return 1 - np.max([p, 1 - p])\n",
    "\n",
    "\n",
    "x = np.arange(0.0, 1.0, 0.01)\n",
    "ent = [entropy(p) if p != 0 else None for p in x]\n",
    "sc_ent = [e * 0.5 if e else None for e in ent]\n",
    "err = [error(i) for i in x]\n",
    "\n",
    "fig = plt.figure()\n",
    "ax = plt.subplot(111)\n",
    "\n",
    "for i, lab, ls, c, in zip(\n",
    "        [ent, sc_ent, gini(x), err],\n",
    "        ['Entropy',\n",
    "         'Entropy (scaled)',\n",
    "         'Gini impurity',\n",
    "         'Misclassification error'],\n",
    "        ['-', '-', '--', '-.'],\n",
    "        ['black', 'lightgray', 'red', 'green', 'cyan']\n",
    "):\n",
    "    line = ax.plot(x, i, label=lab, linestyle=ls, lw=2, color=c)\n",
    "\n",
    "ax.legend(\n",
    "    loc='upper center',\n",
    "    bbox_to_anchor=(0.5, 1.15),\n",
    "    ncol=5, fancybox=True, shadow=False\n",
    ")\n",
    "ax.axhline(y=0.5, linewidth=1, color='k', linestyle='--')\n",
    "ax.axhline(y=1.0, linewidth=1, color='k', linestyle='--')\n",
    "plt.ylim([0, 1.1])\n",
    "plt.xlabel('p(i=1)')\n",
    "plt.ylabel('impurity index')\n",
    "plt.show()"
   ],
   "id": "8765380acaca37de",
   "execution_count": 8,
   "outputs": []
  },
  {
   "metadata": {
    "ExecuteTime": {
     "end_time": "2024-06-29T10:14:13.960822Z",
     "start_time": "2024-06-29T10:14:13.799692Z"
    }
   },
   "cell_type": "code",
   "source": [
    "from sklearn.tree import DecisionTreeClassifier\n",
    "from utils import plot_decision_regions\n",
    "\n",
    "tree_model = DecisionTreeClassifier(\n",
    "    criterion='gini',\n",
    "    max_depth=4,\n",
    "    random_state=1\n",
    ")\n",
    "tree_model.fit(X_train, y_train)\n",
    "\n",
    "X_combined = np.vstack((X_train, X_test))\n",
    "y_combined = np.hstack((y_train, y_test))\n",
    "\n",
    "plot_decision_regions(\n",
    "    X_combined,\n",
    "    y_combined,\n",
    "    classifier=tree_model,\n",
    "    test_idx=range(105, 150)\n",
    ")\n",
    "plt.xlabel('Petal length [cm]')\n",
    "plt.ylabel('Petal width [cm]')\n",
    "plt.legend(loc='upper left')\n",
    "plt.tight_layout()\n",
    "plt.show()"
   ],
   "id": "902ba788d2ca563d",
   "execution_count": 20,
   "outputs": []
  },
  {
   "metadata": {
    "ExecuteTime": {
     "end_time": "2024-06-29T10:14:17.357036Z",
     "start_time": "2024-06-29T10:14:17.078685Z"
    }
   },
   "cell_type": "code",
   "source": [
    "from sklearn import tree\n",
    "\n",
    "feature_names = ['Sepal length', 'Sepal width',\n",
    "                 'Petal length', 'Petal width']\n",
    "\n",
    "tree.plot_tree(\n",
    "    tree_model,\n",
    "    feature_names=feature_names,\n",
    "    filled=True\n",
    ")\n",
    "plt.show()"
   ],
   "id": "814168d5e9b4d216",
   "execution_count": 21,
   "outputs": []
  },
  {
   "metadata": {
    "ExecuteTime": {
     "end_time": "2024-06-29T10:28:40.154770Z",
     "start_time": "2024-06-29T10:28:39.933623Z"
    }
   },
   "cell_type": "code",
   "source": [
    "# Random Forests\n",
    "from sklearn.ensemble import RandomForestClassifier\n",
    "\n",
    "forest = RandomForestClassifier(\n",
    "    n_estimators=25,\n",
    "    random_state=1,\n",
    "    n_jobs=2\n",
    ")\n",
    "forest.fit(X_train, y_train)\n",
    "\n",
    "plot_decision_regions(\n",
    "    X_combined,\n",
    "    y_combined,\n",
    "    classifier=forest,\n",
    "    test_idx=range(105, 150)\n",
    ")\n",
    "plt.xlabel('Petal length [cm]')\n",
    "plt.ylabel('Petal width [cm]')\n",
    "plt.legend(loc='upper left')\n",
    "plt.tight_layout()\n",
    "plt.show()"
   ],
   "id": "5bc828c07e35cc3f",
   "execution_count": 23,
   "outputs": []
  },
  {
   "metadata": {},
   "cell_type": "code",
   "execution_count": null,
   "source": "",
   "id": "c7de9e27923156b0",
   "outputs": []
  }
 ],
 "metadata": {
  "kernelspec": {
   "display_name": "Python 3",
   "language": "python",
   "name": "python3"
  },
  "language_info": {
   "codemirror_mode": {
    "name": "ipython",
    "version": 2
   },
   "file_extension": ".py",
   "mimetype": "text/x-python",
   "name": "python",
   "nbconvert_exporter": "python",
   "pygments_lexer": "ipython2",
   "version": "2.7.6"
  }
 },
 "nbformat": 4,
 "nbformat_minor": 5
}
