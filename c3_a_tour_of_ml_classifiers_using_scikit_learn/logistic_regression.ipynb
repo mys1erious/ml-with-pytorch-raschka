{
 "cells": [
  {
   "cell_type": "code",
   "id": "75558c061192b92c",
   "metadata": {
    "collapsed": true,
    "ExecuteTime": {
     "end_time": "2024-06-29T09:57:21.898412Z",
     "start_time": "2024-06-29T09:57:21.893547Z"
    }
   },
   "source": [
    "from sklearn import datasets\n",
    "import numpy as np\n",
    "\n",
    "iris = datasets.load_iris()\n",
    "X = iris.data[:, [2, 3]]\n",
    "y = iris.target\n",
    "print('Class labels:', np.unique(y))"
   ],
   "execution_count": 53,
   "outputs": []
  },
  {
   "metadata": {
    "ExecuteTime": {
     "end_time": "2024-06-29T09:57:22.104054Z",
     "start_time": "2024-06-29T09:57:22.100190Z"
    }
   },
   "cell_type": "code",
   "source": [
    "from sklearn.model_selection import train_test_split\n",
    "\n",
    "X_train, X_test, y_train, y_test = train_test_split(\n",
    "    X, y, test_size=0.3, random_state=1, stratify=y\n",
    ")"
   ],
   "id": "a9110926e5b4bbd3",
   "execution_count": 54,
   "outputs": []
  },
  {
   "metadata": {
    "ExecuteTime": {
     "end_time": "2024-06-29T09:57:22.353530Z",
     "start_time": "2024-06-29T09:57:22.350275Z"
    }
   },
   "cell_type": "code",
   "source": [
    "print('Labels counts in y:', np.bincount(y))\n",
    "print('Labels counts in y_train:', np.bincount(y_train))\n",
    "print('Labels counts in y_test:', np.bincount(y_test))"
   ],
   "id": "initial_id",
   "execution_count": 55,
   "outputs": []
  },
  {
   "metadata": {
    "ExecuteTime": {
     "end_time": "2024-06-29T09:57:23.752538Z",
     "start_time": "2024-06-29T09:57:23.748923Z"
    }
   },
   "cell_type": "code",
   "source": [
    "from sklearn.preprocessing import StandardScaler\n",
    "\n",
    "sc = StandardScaler()\n",
    "sc.fit(X_train)\n",
    "X_train_std = sc.transform(X_train)\n",
    "X_test_std = sc.transform(X_test)"
   ],
   "id": "f834918379ecc550",
   "execution_count": 56,
   "outputs": []
  },
  {
   "metadata": {
    "ExecuteTime": {
     "end_time": "2024-06-29T09:57:24.080712Z",
     "start_time": "2024-06-29T09:57:24.073875Z"
    }
   },
   "cell_type": "code",
   "source": [
    "from sklearn.linear_model import Perceptron\n",
    "\n",
    "ppn = Perceptron(eta0=0.1, random_state=1)\n",
    "ppn.fit(X_train_std, y_train)"
   ],
   "id": "119e088b092a78a",
   "execution_count": 57,
   "outputs": []
  },
  {
   "metadata": {
    "ExecuteTime": {
     "end_time": "2024-06-29T09:57:25.159865Z",
     "start_time": "2024-06-29T09:57:25.156732Z"
    }
   },
   "cell_type": "code",
   "source": [
    "y_pred = ppn.predict(X_test_std)\n",
    "print('Misclassified examples: %d' % (y_test != y_pred).sum())"
   ],
   "id": "c35777fa3ea4ea3d",
   "execution_count": 58,
   "outputs": []
  },
  {
   "metadata": {
    "ExecuteTime": {
     "end_time": "2024-06-29T09:57:25.353140Z",
     "start_time": "2024-06-29T09:57:25.349738Z"
    }
   },
   "cell_type": "code",
   "source": [
    "from sklearn.metrics import accuracy_score\n",
    "\n",
    "print('Accuracy: %.3f' % accuracy_score(y_test, y_pred))"
   ],
   "id": "9b052605c96d4176",
   "execution_count": 59,
   "outputs": []
  },
  {
   "metadata": {
    "ExecuteTime": {
     "end_time": "2024-06-29T09:57:25.629977Z",
     "start_time": "2024-06-29T09:57:25.626521Z"
    }
   },
   "cell_type": "code",
   "source": "print('Accuracy: %.3f' % ppn.score(X_test_std, y_test))",
   "id": "c0cd0052bf5d229",
   "execution_count": 60,
   "outputs": []
  },
  {
   "metadata": {
    "ExecuteTime": {
     "end_time": "2024-06-29T09:57:28.330869Z",
     "start_time": "2024-06-29T09:57:28.140142Z"
    }
   },
   "cell_type": "code",
   "source": [
    "from utils import plot_decision_regions\n",
    "import matplotlib.pyplot as plt\n",
    "\n",
    "X_combined_std = np.vstack((X_train_std, X_test_std))\n",
    "y_combined = np.hstack((y_train, y_test))\n",
    "plot_decision_regions(\n",
    "    X=X_combined_std,\n",
    "    y=y_combined,\n",
    "    classifier=ppn,\n",
    "    test_idx=range(105, 150)\n",
    ")\n",
    "plt.xlabel('Petal length [standardized]')\n",
    "plt.ylabel('Petal width [standardized]')\n",
    "plt.legend(loc='upper left')\n",
    "plt.tight_layout()\n",
    "plt.show()"
   ],
   "id": "7c6a0900faff2d69",
   "execution_count": 61,
   "outputs": []
  },
  {
   "metadata": {
    "ExecuteTime": {
     "end_time": "2024-06-29T09:57:29.684271Z",
     "start_time": "2024-06-29T09:57:29.591794Z"
    }
   },
   "cell_type": "code",
   "source": [
    "# Sigmoid function plot\n",
    "import matplotlib.pyplot as plt\n",
    "import numpy as np\n",
    "\n",
    "\n",
    "def sigmoid(z):\n",
    "    return 1.0 / (1.0 + np.exp(-z))\n",
    "\n",
    "\n",
    "z = np.arange(-7, 7, 0.1)\n",
    "sigma_z = sigmoid(z)\n",
    "plt.plot(z, sigma_z)\n",
    "\n",
    "plt.axvline(0.0, color='k')\n",
    "plt.ylim(-0.1, 1.1)\n",
    "plt.xlabel('z')\n",
    "plt.ylabel('$\\sigma (z)$')\n",
    "# y axis ticks and gridline\n",
    "plt.yticks([0.0, 0.5, 1.0])\n",
    "ax = plt.gca()\n",
    "ax.yaxis.grid(True)\n",
    "plt.tight_layout()\n",
    "plt.show()"
   ],
   "id": "96ae4b974c6ac48d",
   "execution_count": 62,
   "outputs": []
  },
  {
   "metadata": {
    "ExecuteTime": {
     "end_time": "2024-06-29T09:57:32.004345Z",
     "start_time": "2024-06-29T09:57:31.883244Z"
    }
   },
   "cell_type": "code",
   "source": [
    "def loss_1(z):\n",
    "    return -np.log(sigmoid(z))\n",
    "\n",
    "\n",
    "def loss_0(z):\n",
    "    return -np.log(1 - sigmoid(z))\n",
    "\n",
    "\n",
    "z = np.arange(-10, 10, 0.1)\n",
    "sigma_z = sigmoid(z)\n",
    "c1 = [loss_1(x) for x in z]\n",
    "plt.plot(sigma_z, c1, label='L(w, b) if y=1')\n",
    "c0 = [loss_0(x) for x in z]\n",
    "plt.plot(sigma_z, c0, linestyle='--', label='L(w, b) if y=0')\n",
    "plt.ylim(0.0, 5.1)\n",
    "plt.xlim([0, 1])\n",
    "plt.xlabel('$\\sigma(z)$')\n",
    "plt.ylabel('L(w, b)')\n",
    "plt.legend(loc='best')\n",
    "plt.tight_layout()\n",
    "plt.show()"
   ],
   "id": "e2cea66875570a2f",
   "execution_count": 63,
   "outputs": []
  },
  {
   "metadata": {
    "ExecuteTime": {
     "end_time": "2024-06-29T09:57:33.871921Z",
     "start_time": "2024-06-29T09:57:33.865930Z"
    }
   },
   "cell_type": "code",
   "source": [
    "# custom logistic regression\n",
    "class LogisticRegressionGD:\n",
    "    def __init__(self, eta=0.01, n_iter=50, random_state=1):\n",
    "        self.eta = eta\n",
    "        self.n_iter = n_iter\n",
    "        self.random_state = random_state\n",
    "\n",
    "    def fit(self, X, y):\n",
    "        rgen = np.random.RandomState(self.random_state)\n",
    "        self.w_ = rgen.normal(loc=0.0, scale=0.01, size=X.shape[1])\n",
    "        self.b_ = float(0.)\n",
    "        self.losses_ = []\n",
    "\n",
    "        for i in range(self.n_iter):\n",
    "            net_input = self.net_input(X)\n",
    "            output = self.activation(net_input)\n",
    "            errors = (y - output)\n",
    "            self.w_ += self.eta * 2.0 * X.T.dot(errors) / X.shape[0]\n",
    "            self.b_ += self.eta * 2.0 * errors.mean()\n",
    "            loss = (\n",
    "                    -y.dot(np.log(output)) -\n",
    "                    ((1 - y).dot(np.log(1 - output))) /\n",
    "                    X.shape[0]\n",
    "            )\n",
    "            self.losses_.append(loss)\n",
    "        return self\n",
    "\n",
    "    def net_input(self, X):\n",
    "        return np.dot(X, self.w_) + self.b_\n",
    "\n",
    "    def activation(self, z):\n",
    "        return 1. / (1. + np.exp(-np.clip(z, -250, 250)))\n",
    "\n",
    "    def predict(self, X):\n",
    "        return np.where(self.activation(self.net_input(X)) >= 0.5, 1, 0)"
   ],
   "id": "60ee56e521434943",
   "execution_count": 64,
   "outputs": []
  },
  {
   "metadata": {
    "ExecuteTime": {
     "end_time": "2024-06-29T09:57:35.230511Z",
     "start_time": "2024-06-29T09:57:35.027490Z"
    }
   },
   "cell_type": "code",
   "source": [
    "X_train_01_subset = X_train_std[(y_train == 0) | (y_train == 1)]\n",
    "y_train_01_subset = y_train[(y_train == 0) | (y_train == 1)]\n",
    "lrgd = LogisticRegressionGD(eta=0.3, n_iter=1000, random_state=1)\n",
    "lrgd.fit(X_train_01_subset, y_train_01_subset)\n",
    "\n",
    "plot_decision_regions(\n",
    "    X=X_train_01_subset,\n",
    "    y=y_train_01_subset,\n",
    "    classifier=lrgd\n",
    ")\n",
    "plt.xlabel('Petal length [standardized]')\n",
    "plt.ylabel('Petal width [standardized]')\n",
    "plt.legend(loc='upper left')\n",
    "plt.tight_layout()\n",
    "plt.show()"
   ],
   "id": "23e3171d803b768b",
   "execution_count": 65,
   "outputs": []
  },
  {
   "metadata": {
    "ExecuteTime": {
     "end_time": "2024-06-29T09:57:36.523023Z",
     "start_time": "2024-06-29T09:57:36.310982Z"
    }
   },
   "cell_type": "code",
   "source": [
    "# scikit logistic regression\n",
    "from sklearn.linear_model import LogisticRegression\n",
    "\n",
    "lr = LogisticRegression(C=100.0, solver='lbfgs', multi_class='ovr')\n",
    "lr.fit(X_train_std, y_train)\n",
    "\n",
    "plot_decision_regions(\n",
    "    X_combined_std,\n",
    "    y_combined,\n",
    "    classifier=lr,\n",
    "    test_idx=range(105, 150)\n",
    ")\n",
    "plt.xlabel('Petal length [standardized]')\n",
    "plt.ylabel('Petal width [standardized]')\n",
    "plt.legend(loc='upper left')\n",
    "plt.tight_layout()\n",
    "plt.show()"
   ],
   "id": "16d19bebc01c0f11",
   "execution_count": 66,
   "outputs": []
  },
  {
   "metadata": {
    "ExecuteTime": {
     "end_time": "2024-06-29T09:57:41.771693Z",
     "start_time": "2024-06-29T09:57:41.766949Z"
    }
   },
   "cell_type": "code",
   "source": "lr.predict_proba(X_test_std[:3, :])",
   "id": "77d086b7331aef68",
   "execution_count": 67,
   "outputs": []
  },
  {
   "metadata": {
    "ExecuteTime": {
     "end_time": "2024-06-29T09:57:42.115615Z",
     "start_time": "2024-06-29T09:57:42.111889Z"
    }
   },
   "cell_type": "code",
   "source": [
    "# column-wise sum in each row is 1\n",
    "lr.predict_proba(X_test_std[:3, :]).sum(axis=1)"
   ],
   "id": "c184668220a96e23",
   "execution_count": 68,
   "outputs": []
  },
  {
   "metadata": {
    "ExecuteTime": {
     "end_time": "2024-06-29T09:57:43.299314Z",
     "start_time": "2024-06-29T09:57:43.295266Z"
    }
   },
   "cell_type": "code",
   "source": [
    "# get predicted class labels\n",
    "lr.predict_proba(X_test_std[:3, :]).argmax(axis=1)\n",
    "# or\n",
    "lr.predict(X_test_std[:3, :])"
   ],
   "id": "ed669549bb955c37",
   "execution_count": 69,
   "outputs": []
  },
  {
   "metadata": {
    "ExecuteTime": {
     "end_time": "2024-06-29T09:57:43.509163Z",
     "start_time": "2024-06-29T09:57:43.505457Z"
    }
   },
   "cell_type": "code",
   "source": [
    "# predict the class label of a single flower (need to convert a single row slice into 2-dim array)\n",
    "lr.predict(X_test_std[0, :].reshape(1, -1))"
   ],
   "id": "21b2cff690e7525e",
   "execution_count": 70,
   "outputs": []
  },
  {
   "metadata": {
    "ExecuteTime": {
     "end_time": "2024-06-29T09:57:43.981921Z",
     "start_time": "2024-06-29T09:57:43.791417Z"
    }
   },
   "cell_type": "code",
   "source": [
    "# regularization\n",
    "weights, params = [], []\n",
    "\n",
    "for c in np.arange(-5, 5):\n",
    "    lr = LogisticRegression(C=10.**c, multi_class='ovr')\n",
    "    lr.fit(X_train_std, y_train)\n",
    "    weights.append(lr.coef_[1])\n",
    "    params.append(10.**c)\n",
    "\n",
    "weights = np.array(weights)\n",
    "plt.plot(params, weights[:, 0], label='Petal length')\n",
    "plt.plot(params, weights[:, 1], linestyle='--', label='Petal width')\n",
    "plt.ylabel('Weight coefficient')\n",
    "plt.xlabel('C')\n",
    "plt.legend(loc='upper left')\n",
    "plt.xscale('log')\n",
    "plt.show()"
   ],
   "id": "450bd9a1e7db603d",
   "execution_count": 71,
   "outputs": []
  },
  {
   "metadata": {},
   "cell_type": "code",
   "execution_count": null,
   "source": "",
   "id": "27c4339a697b69fc",
   "outputs": []
  }
 ],
 "metadata": {
  "kernelspec": {
   "display_name": "Python 3",
   "language": "python",
   "name": "python3"
  },
  "language_info": {
   "codemirror_mode": {
    "name": "ipython",
    "version": 2
   },
   "file_extension": ".py",
   "mimetype": "text/x-python",
   "name": "python",
   "nbconvert_exporter": "python",
   "pygments_lexer": "ipython2",
   "version": "2.7.6"
  }
 },
 "nbformat": 4,
 "nbformat_minor": 5
}
