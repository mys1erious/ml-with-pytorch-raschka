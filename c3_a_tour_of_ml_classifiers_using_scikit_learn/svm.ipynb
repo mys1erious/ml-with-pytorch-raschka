{
 "cells": [
  {
   "cell_type": "code",
   "id": "initial_id",
   "metadata": {
    "collapsed": true,
    "ExecuteTime": {
     "end_time": "2024-06-29T10:01:15.707580Z",
     "start_time": "2024-06-29T10:01:15.700599Z"
    }
   },
   "source": [
    "import numpy as np\n",
    "from sklearn import datasets\n",
    "from sklearn.model_selection import train_test_split\n",
    "from sklearn.preprocessing import StandardScaler\n",
    "\n",
    "iris = datasets.load_iris()\n",
    "X = iris.data[:, [2, 3]]\n",
    "y = iris.target\n",
    "\n",
    "X_train, X_test, y_train, y_test = train_test_split(\n",
    "    X, y, test_size=0.3, random_state=1, stratify=y\n",
    ")\n",
    "\n",
    "sc = StandardScaler()\n",
    "sc.fit(X_train)\n",
    "X_train_std = sc.transform(X_train)\n",
    "X_test_std = sc.transform(X_test)\n",
    "\n",
    "X_combined_std = np.vstack((X_train_std, X_test_std))\n",
    "y_combined = np.hstack((y_train, y_test))"
   ],
   "execution_count": 4,
   "outputs": []
  },
  {
   "metadata": {
    "ExecuteTime": {
     "end_time": "2024-06-29T10:01:34.505423Z",
     "start_time": "2024-06-29T10:01:33.833387Z"
    }
   },
   "cell_type": "code",
   "source": [
    "import matplotlib.pyplot as plt\n",
    "from sklearn.svm import SVC\n",
    "from utils import plot_decision_regions\n",
    "\n",
    "svm = SVC(kernel='linear', C=1.0, random_state=1)\n",
    "svm.fit(X_train_std, y_train)\n",
    "\n",
    "plot_decision_regions(\n",
    "    X_combined_std,\n",
    "    y_combined,\n",
    "    classifier=svm,\n",
    "    test_idx=range(105, 150)\n",
    ")\n",
    "plt.xlabel('Petal length [standardized]')\n",
    "plt.ylabel('Petal width [standardized]')\n",
    "plt.legend(loc='upper left')\n",
    "plt.tight_layout()\n",
    "plt.show()"
   ],
   "id": "6c66682456e81172",
   "execution_count": 5,
   "outputs": []
  },
  {
   "metadata": {
    "ExecuteTime": {
     "end_time": "2024-06-29T10:01:45.902282Z",
     "start_time": "2024-06-29T10:01:45.770733Z"
    }
   },
   "cell_type": "code",
   "source": [
    "# kernel svm\n",
    "\n",
    "import matplotlib.pyplot as plt\n",
    "import numpy as np\n",
    "\n",
    "np.random.seed(1)\n",
    "X_xor = np.random.randn(200, 2)\n",
    "y_xor = np.logical_xor(\n",
    "    X_xor[:, 0] > 0,\n",
    "    X_xor[:, 1] > 0\n",
    ")\n",
    "y_xor = np.where(y_xor, 1, 0)\n",
    "\n",
    "plt.scatter(\n",
    "    X_xor[y_xor == 1, 0],\n",
    "    X_xor[y_xor == 1, 1],\n",
    "    c='royalblue',\n",
    "    marker='s',\n",
    "    label='Class 1'\n",
    ")\n",
    "plt.scatter(\n",
    "    X_xor[y_xor == 0, 0],\n",
    "    X_xor[y_xor == 0, 1],\n",
    "    c='tomato',\n",
    "    marker='o',\n",
    "    label='Class 0'\n",
    ")\n",
    "plt.xlim([-3, 3])\n",
    "plt.ylim([-3, 3])\n",
    "plt.xlabel('Feature 1')\n",
    "plt.ylabel('Feature 2')\n",
    "plt.legend(loc='best')\n",
    "plt.tight_layout()\n",
    "plt.show()"
   ],
   "id": "b4665c7034c380b2",
   "execution_count": 6,
   "outputs": []
  },
  {
   "metadata": {
    "ExecuteTime": {
     "end_time": "2024-06-29T10:01:55.387507Z",
     "start_time": "2024-06-29T10:01:54.713168Z"
    }
   },
   "cell_type": "code",
   "source": [
    "svm = SVC(kernel='rbf', random_state=1, gamma=0.10, C=10.0)\n",
    "svm.fit(X_xor, y_xor)\n",
    "\n",
    "plot_decision_regions(X_xor, y_xor, classifier=svm)\n",
    "plt.legend(loc='upper left')\n",
    "plt.tight_layout()\n",
    "plt.show()"
   ],
   "id": "e3c05d2585c73d57",
   "execution_count": 7,
   "outputs": []
  },
  {
   "metadata": {
    "ExecuteTime": {
     "end_time": "2024-06-29T10:02:04.388098Z",
     "start_time": "2024-06-29T10:02:04.133253Z"
    }
   },
   "cell_type": "code",
   "source": [
    "svm = SVC(kernel='rbf', random_state=1, gamma=0.2, C=1.0)\n",
    "# svm = SVC(kernel='rbf', random_state=1, gamma=100.0, C=1.0)\n",
    "svm.fit(X_train_std, y_train)\n",
    "\n",
    "plot_decision_regions(\n",
    "    X_combined_std,\n",
    "    y_combined,\n",
    "    classifier=svm,\n",
    "    test_idx=range(105, 150)\n",
    ")\n",
    "plt.xlabel('Petal length [standardized]')\n",
    "plt.ylabel('Petal width [standardized]')\n",
    "plt.legend(loc='upper left')\n",
    "plt.tight_layout()\n",
    "plt.show()"
   ],
   "id": "84d968e925b10d03",
   "execution_count": 8,
   "outputs": []
  },
  {
   "metadata": {},
   "cell_type": "code",
   "execution_count": null,
   "source": "",
   "id": "dcc92c0ae46a69ca",
   "outputs": []
  }
 ],
 "metadata": {
  "kernelspec": {
   "display_name": "Python 3",
   "language": "python",
   "name": "python3"
  },
  "language_info": {
   "codemirror_mode": {
    "name": "ipython",
    "version": 2
   },
   "file_extension": ".py",
   "mimetype": "text/x-python",
   "name": "python",
   "nbconvert_exporter": "python",
   "pygments_lexer": "ipython2",
   "version": "2.7.6"
  }
 },
 "nbformat": 4,
 "nbformat_minor": 5
}
