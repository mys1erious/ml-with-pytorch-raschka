{
 "cells": [
  {
   "cell_type": "code",
   "id": "initial_id",
   "metadata": {
    "collapsed": true,
    "ExecuteTime": {
     "end_time": "2024-07-06T09:55:48.208979Z",
     "start_time": "2024-07-06T09:55:48.026906Z"
    }
   },
   "source": [
    "from scipy.special import comb\n",
    "import math\n",
    "\n",
    "def ensemble_error(n_classifier, error):\n",
    "    k_start = int(math.ceil(n_classifier / 2.))\n",
    "    probs = [\n",
    "        comb(n_classifier, k) * error**k *\n",
    "        (1-error)**(n_classifier - k)\n",
    "        for k in range(k_start, n_classifier + 1)\n",
    "    ]\n",
    "    return sum(probs)\n",
    "\n",
    "\n",
    "ensemble_error(n_classifier=11, error=0.25)"
   ],
   "execution_count": 1,
   "outputs": []
  },
  {
   "metadata": {
    "ExecuteTime": {
     "end_time": "2024-07-06T09:57:50.628461Z",
     "start_time": "2024-07-06T09:57:50.203242Z"
    }
   },
   "cell_type": "code",
   "source": [
    "import numpy as np\n",
    "import matplotlib.pyplot as plt\n",
    "\n",
    "error_range = np.arange(0.0, 1.01, 0.01)\n",
    "ens_errors = [\n",
    "    ensemble_error(n_classifier=11, error=error)\n",
    "    for error in error_range\n",
    "]\n",
    "\n",
    "plt.plot(\n",
    "    error_range,\n",
    "    ens_errors,\n",
    "    label='Ensemble error',\n",
    "    linewidth=2\n",
    ")\n",
    "plt.plot(\n",
    "    error_range,\n",
    "    error_range,\n",
    "    linestyle='--',\n",
    "    label='Base error',\n",
    "    linewidth=2\n",
    ")\n",
    "plt.xlabel('Base error')\n",
    "plt.ylabel('Base/Ensemble error')\n",
    "plt.legend(loc='upper left')\n",
    "plt.grid(alpha=0.5)\n",
    "plt.show()"
   ],
   "id": "97838f7ca6f2f297",
   "execution_count": 2,
   "outputs": []
  },
  {
   "metadata": {
    "ExecuteTime": {
     "end_time": "2024-07-06T10:03:06.068247Z",
     "start_time": "2024-07-06T10:03:06.064820Z"
    }
   },
   "cell_type": "code",
   "source": [
    "# A simple majority vote classifier\n",
    "\n",
    "import numpy as np\n",
    "\n",
    "np.argmax(np.bincount(\n",
    "    [0, 0, 1],\n",
    "    weights=[0.2, 0.2, 0.6]\n",
    "))"
   ],
   "id": "2127c3e43922b873",
   "execution_count": 8,
   "outputs": []
  },
  {
   "metadata": {
    "ExecuteTime": {
     "end_time": "2024-07-06T10:06:25.947813Z",
     "start_time": "2024-07-06T10:06:25.943682Z"
    }
   },
   "cell_type": "code",
   "source": [
    "ex = np.array([\n",
    "    [0.9, 0.1],\n",
    "    [0.8, 0.2],\n",
    "    [0.4, 0.6],\n",
    "])\n",
    "p = np.average(ex, axis=0, weights=[0.2, 0.2, 0.6])\n",
    "print(p)\n",
    "np.argmax(p)"
   ],
   "id": "2c181e67f1a7bb90",
   "execution_count": 9,
   "outputs": []
  },
  {
   "metadata": {
    "ExecuteTime": {
     "end_time": "2024-07-06T10:44:31.744504Z",
     "start_time": "2024-07-06T10:44:31.733034Z"
    }
   },
   "cell_type": "code",
   "source": [
    "from sklearn.base import BaseEstimator\n",
    "from sklearn.base import ClassifierMixin\n",
    "from sklearn.preprocessing import LabelEncoder\n",
    "from sklearn.base import clone\n",
    "from sklearn.pipeline import _name_estimators\n",
    "import numpy as np\n",
    "import operator\n",
    "\n",
    "\n",
    "class MajorityVoteClassifier(BaseEstimator, ClassifierMixin):\n",
    "    def __init__(self, classifiers, vote='classlabel', weights=None):\n",
    "        self.classifiers = classifiers\n",
    "        self.named_classifiers = {\n",
    "            key: value \n",
    "            for key, value in _name_estimators(classifiers)\n",
    "        }\n",
    "        self.vote = vote\n",
    "        self.weights = weights\n",
    "    \n",
    "    def fit(self, X, y):\n",
    "        if self.vote not in ('probability', 'classlabel'):\n",
    "            raise ValueError(\"Vote must be 'probability or 'classlabel'\")\n",
    "        \n",
    "        if self.weights and len(self.weights) != len(self.classifiers):\n",
    "            raise ValueError('Num of classifiers and weights must be equal')\n",
    "        \n",
    "        # Use LabelEncoder to ensure class labels start with 0,\n",
    "        #   which is important for np.argmax class in self.predict\n",
    "        self.lablenc_ = LabelEncoder()\n",
    "        self.lablenc_.fit(y)\n",
    "        self.classes_ = self.lablenc_.classes_\n",
    "        self.classifiers_ = []\n",
    "        \n",
    "        for clf in self.classifiers:\n",
    "            fitted_clf = clone(clf).fit(X, self.lablenc_.transform(y))\n",
    "            self.classifiers_.append(fitted_clf)\n",
    "        \n",
    "        return self\n",
    "    \n",
    "    def predict(self, X):\n",
    "        if self.vote == 'probability':\n",
    "            maj_vote = np.argmax(self.predict_proba(X), axis=1)\n",
    "        else:\n",
    "            predictions = np.asarray([\n",
    "                clf.predict(X) for clf in self.classifiers_\n",
    "            ]).T\n",
    "            maj_vote = np.apply_along_axis(\n",
    "                lambda x: np.argmax(np.bincount(x, weights=self.weights)),\n",
    "                axis=1, arr=predictions\n",
    "            )\n",
    "        \n",
    "        maj_vote = self.lablenc_.inverse_transform(maj_vote)\n",
    "        return maj_vote\n",
    "    \n",
    "    def predict_proba(self, X):\n",
    "        probas = np.asarray([\n",
    "            clf.predict_proba(X)\n",
    "            for clf in self.classifiers_\n",
    "        ])\n",
    "        avg_proba = np.average(probas, axis=0, weights=self.weights)\n",
    "        return avg_proba\n",
    "\n",
    "    def get_params(self, deep=True):\n",
    "        if not deep:\n",
    "            return super().get_params(deep=False)\n",
    "        \n",
    "        out = self.named_classifiers.copy()\n",
    "        for name, step in self.named_classifiers.items():\n",
    "            for key, value in step.get_params(deep=True).items():\n",
    "                out [f'{name}__{key}'] = value\n",
    "        return out"
   ],
   "id": "32d5904edf33f9af",
   "execution_count": 21,
   "outputs": []
  },
  {
   "metadata": {
    "ExecuteTime": {
     "end_time": "2024-07-06T10:44:32.079288Z",
     "start_time": "2024-07-06T10:44:32.072378Z"
    }
   },
   "cell_type": "code",
   "source": [
    "from sklearn import datasets\n",
    "from sklearn.model_selection import train_test_split\n",
    "from sklearn.preprocessing import LabelEncoder\n",
    "\n",
    "iris = datasets.load_iris()\n",
    "X, y = iris.data[50:, [1, 2]], iris.target[50:]\n",
    "\n",
    "le = LabelEncoder()\n",
    "y = le.fit_transform(y)\n",
    "\n",
    "X_train, X_test, y_train, y_test = train_test_split(\n",
    "    X, y,\n",
    "    test_size=0.5,\n",
    "    random_state=1,\n",
    "    stratify=y\n",
    ")"
   ],
   "id": "10e0da8d8a23b14e",
   "execution_count": 22,
   "outputs": []
  },
  {
   "metadata": {
    "ExecuteTime": {
     "end_time": "2024-07-06T10:44:32.445179Z",
     "start_time": "2024-07-06T10:44:32.348627Z"
    }
   },
   "cell_type": "code",
   "source": [
    "from sklearn.preprocessing import StandardScaler\n",
    "from sklearn.model_selection import cross_val_score\n",
    "from sklearn.linear_model import LogisticRegression\n",
    "from sklearn.tree import DecisionTreeClassifier\n",
    "from sklearn.neighbors import KNeighborsClassifier\n",
    "from sklearn.pipeline import Pipeline\n",
    "import numpy as np\n",
    "\n",
    "clf1 = LogisticRegression(\n",
    "    penalty='l2',\n",
    "    C=0.001,\n",
    "    solver='lbfgs',\n",
    "    random_state=1\n",
    ")\n",
    "clf2 = DecisionTreeClassifier(\n",
    "    max_depth=1,\n",
    "    criterion='entropy',\n",
    "    random_state=0\n",
    ")\n",
    "clf3 = KNeighborsClassifier(\n",
    "    n_neighbors=1,\n",
    "    p=2,\n",
    "    metric='minkowski'\n",
    ")\n",
    "\n",
    "pipe1 = Pipeline([\n",
    "    ['sc', StandardScaler()],\n",
    "    ['clf', clf1],\n",
    "])\n",
    "pipe3 = Pipeline([\n",
    "    ['sc', StandardScaler()],\n",
    "    ['clf', clf3],\n",
    "])\n",
    "\n",
    "clf_labels = ['Logistic regression', 'Decision tree', 'KNN']\n",
    "print('10-fold cross validation:\\n')\n",
    "for clf, label in zip([pipe1, clf2, pipe3], clf_labels):\n",
    "    scores = cross_val_score(\n",
    "        estimator=clf,\n",
    "        X=X_train,\n",
    "        y=y_train,\n",
    "        cv=10,\n",
    "        scoring='roc_auc'\n",
    "    )\n",
    "    print(\n",
    "        f'ROC AUC: {scores.mean():.2f}'\n",
    "        f'(+/- {scores.std():.2f}) [{label}]'\n",
    "    )"
   ],
   "id": "7263ee8e718ad7f8",
   "execution_count": 23,
   "outputs": []
  },
  {
   "metadata": {
    "ExecuteTime": {
     "end_time": "2024-07-06T10:44:32.902289Z",
     "start_time": "2024-07-06T10:44:32.734827Z"
    }
   },
   "cell_type": "code",
   "source": [
    "mv_clf = MajorityVoteClassifier(\n",
    "    classifiers=[pipe1, clf2, pipe3]\n",
    ")\n",
    "\n",
    "clf_labels += ['Majority voting']\n",
    "all_clf = [pipe1, clf2, pipe3, mv_clf]\n",
    "\n",
    "for clf, label in zip(all_clf, clf_labels):\n",
    "    scores = cross_val_score(\n",
    "        estimator=clf,\n",
    "        X=X_train,\n",
    "        y=y_train,\n",
    "        cv=10,\n",
    "        scoring='roc_auc'\n",
    "    )\n",
    "    print(\n",
    "        f'ROC AUC: {scores.mean():.2f} '\n",
    "        f'(+/- {scores.std():.2f}) [{label}]'\n",
    "    )"
   ],
   "id": "eb529dbd274f7340",
   "execution_count": 24,
   "outputs": []
  },
  {
   "metadata": {
    "ExecuteTime": {
     "end_time": "2024-07-06T10:50:06.727714Z",
     "start_time": "2024-07-06T10:50:06.543558Z"
    }
   },
   "cell_type": "code",
   "source": [
    "# Evaluation and tuning the ensemble classifier\n",
    "\n",
    "from sklearn.metrics import roc_curve, auc\n",
    "\n",
    "colors = ['black', 'orange', 'blue', 'green']\n",
    "linestyles = [':', '--', '-.', '-']\n",
    "\n",
    "for clf, label, clr, ls in zip(all_clf, clf_labels, colors, linestyles):\n",
    "    y_pred = clf.fit(\n",
    "        X_train, y_train\n",
    "    ).predict_proba(X_test)[:, 1]\n",
    "    fpr, tpr, thresholds = roc_curve(y_true=y_test, y_score=y_pred)\n",
    "    roc_auc = auc(x=fpr, y=tpr)\n",
    "\n",
    "    plt.plot(\n",
    "        fpr, tpr,\n",
    "        color=clr,\n",
    "        linestyle=ls,\n",
    "        label=f'{label} (auc = {roc_auc:.2f})'\n",
    "    )\n",
    "\n",
    "plt.legend(loc='lower right')\n",
    "plt.plot(\n",
    "    [0, 1], [0, 1],\n",
    "    linestyle='--',\n",
    "    color='gray',\n",
    "    linewidth=2\n",
    ")\n",
    "plt.xlim([-0.1, 1.1])\n",
    "plt.ylim([-0.1, 1.1])\n",
    "plt.grid(alpha=0.5)\n",
    "plt.xlabel('False positive rate (FPR)')\n",
    "plt.ylabel('True positive rate (TPR)')\n",
    "plt.show()"
   ],
   "id": "c98e0079347acbb5",
   "execution_count": 25,
   "outputs": []
  },
  {
   "metadata": {
    "ExecuteTime": {
     "end_time": "2024-07-06T10:53:50.746582Z",
     "start_time": "2024-07-06T10:53:49.790992Z"
    }
   },
   "cell_type": "code",
   "source": [
    "from itertools import product\n",
    "\n",
    "sc = StandardScaler()\n",
    "X_train_std = sc.fit_transform(X_train)\n",
    "\n",
    "x_min = X_train_std[:, 0].min() - 1\n",
    "x_max = X_train_std[:, 0].max() + 1\n",
    "y_min = X_train_std[:, 1].min() - 1\n",
    "y_max = X_train_std[:, 1].max() + 1\n",
    "xx, yy = np.meshgrid(\n",
    "    np.arange(x_min, x_max, 0.1),\n",
    "    np.arange(y_min, y_max, 0.1)\n",
    ")\n",
    "f, axarr = plt.subplots(\n",
    "    nrows=2, ncols=2,\n",
    "    sharex='col',\n",
    "    sharey='row',\n",
    "    figsize=(7, 5)\n",
    ")\n",
    "\n",
    "for idx, clf, tt in zip(product([0, 1], [0, 1]), all_clf, clf_labels):\n",
    "    clf.fit(X_train_std, y_train)\n",
    "    Z = clf.predict(np.c_[xx.ravel(), yy.ravel()])\n",
    "    Z = Z.reshape(xx.shape)\n",
    "\n",
    "    axarr[idx[0], idx[1]].contourf(xx, yy, Z, alpha=0.3)\n",
    "    axarr[idx[0], idx[1]].scatter(\n",
    "        X_train_std[y_train == 0, 0],\n",
    "        X_train_std[y_train == 0, 1],\n",
    "        c='blue',\n",
    "        marker='^',\n",
    "        s=50\n",
    "    )\n",
    "    axarr[idx[0], idx[1]].scatter(\n",
    "        X_train_std[y_train == 1, 0],\n",
    "        X_train_std[y_train == 1, 1],\n",
    "        c='green',\n",
    "        marker='o',\n",
    "        s=50\n",
    "    )\n",
    "    axarr[idx[0], idx[1]].set_title(tt)\n",
    "\n",
    "plt.text(\n",
    "    -3.5, -5.,\n",
    "    s='Sepal width [standardized]',\n",
    "    ha='center', va='center', fontsize=12\n",
    ")\n",
    "plt.text(\n",
    "    -12.5, 4.5,\n",
    "    s='Petal length [standardized]',\n",
    "    ha='center', va='center',\n",
    "    fontsize=12, rotation=90\n",
    ")\n",
    "plt.show()"
   ],
   "id": "fc60791d6dddb69f",
   "execution_count": 26,
   "outputs": []
  },
  {
   "metadata": {
    "ExecuteTime": {
     "end_time": "2024-07-06T10:54:33.092462Z",
     "start_time": "2024-07-06T10:54:33.084751Z"
    }
   },
   "cell_type": "code",
   "source": "mv_clf.get_params()",
   "id": "44f1111e2a320e1e",
   "execution_count": 27,
   "outputs": []
  },
  {
   "metadata": {
    "ExecuteTime": {
     "end_time": "2024-07-06T10:57:45.714942Z",
     "start_time": "2024-07-06T10:57:45.096999Z"
    }
   },
   "cell_type": "code",
   "source": [
    "from sklearn.model_selection import GridSearchCV\n",
    "\n",
    "params = {\n",
    "    'decisiontreeclassifier__max_depth': [1, 2],\n",
    "    'pipeline-1__clf__C': [0.001, 0.1, 100.0],\n",
    "}\n",
    "grid = GridSearchCV(\n",
    "    estimator=mv_clf,\n",
    "    param_grid=params,\n",
    "    cv=10,\n",
    "    scoring='roc_auc'\n",
    ")\n",
    "grid.fit(X_train, y_train)\n",
    "\n",
    "for r, _ in enumerate(grid.cv_results_['mean_test_score']):\n",
    "    mean_score = grid.cv_results_['mean_test_score'][r]\n",
    "    std_dev = grid.cv_results_['std_test_score'][r]\n",
    "    params = grid.cv_results_['params'][r]\n",
    "    print(f'{mean_score:.3f} +/- {std_dev:.2f} {params}')\n",
    "\n",
    "print(f'Best parameters: {grid.best_params_}')\n",
    "print(f'ROC AUC : {grid.best_score_:.2f}')"
   ],
   "id": "b824e7b4a89b35c8",
   "execution_count": 30,
   "outputs": []
  },
  {
   "metadata": {},
   "cell_type": "code",
   "execution_count": null,
   "source": "",
   "id": "a3ffcce57e19b20",
   "outputs": []
  }
 ],
 "metadata": {
  "kernelspec": {
   "display_name": "Python 3",
   "language": "python",
   "name": "python3"
  },
  "language_info": {
   "codemirror_mode": {
    "name": "ipython",
    "version": 2
   },
   "file_extension": ".py",
   "mimetype": "text/x-python",
   "name": "python",
   "nbconvert_exporter": "python",
   "pygments_lexer": "ipython2",
   "version": "2.7.6"
  }
 },
 "nbformat": 4,
 "nbformat_minor": 5
}
