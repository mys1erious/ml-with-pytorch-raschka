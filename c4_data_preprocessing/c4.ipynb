{
 "cells": [
  {
   "cell_type": "code",
   "id": "initial_id",
   "metadata": {
    "collapsed": true,
    "ExecuteTime": {
     "end_time": "2024-06-30T09:39:39.086258Z",
     "start_time": "2024-06-30T09:39:39.083718Z"
    }
   },
   "source": "# Dealing with missing data",
   "execution_count": 2,
   "outputs": []
  },
  {
   "metadata": {
    "ExecuteTime": {
     "end_time": "2024-06-30T10:02:32.495224Z",
     "start_time": "2024-06-30T10:02:32.487095Z"
    }
   },
   "cell_type": "code",
   "source": [
    "import pandas as pd\n",
    "from io import StringIO\n",
    "\n",
    "csv_data = '''\n",
    "A,B,C,D\n",
    "1.0,2.0,3.0,4.0\n",
    "5.0,6.0,,8.0\n",
    "10.0,11.0,12.0,\n",
    "'''\n",
    "\n",
    "df = pd.read_csv(StringIO(csv_data))\n",
    "df"
   ],
   "id": "3313bdf92b2eb73",
   "execution_count": 25,
   "outputs": []
  },
  {
   "metadata": {
    "ExecuteTime": {
     "end_time": "2024-06-30T10:02:32.669290Z",
     "start_time": "2024-06-30T10:02:32.664767Z"
    }
   },
   "cell_type": "code",
   "source": "df.isnull().sum()",
   "id": "38eb8e8bb0a32764",
   "execution_count": 26,
   "outputs": []
  },
  {
   "metadata": {
    "ExecuteTime": {
     "end_time": "2024-06-30T10:02:32.856184Z",
     "start_time": "2024-06-30T10:02:32.852900Z"
    }
   },
   "cell_type": "code",
   "source": [
    "# Get numpy array from db\n",
    "df.values"
   ],
   "id": "72969f013ee616a8",
   "execution_count": 27,
   "outputs": []
  },
  {
   "metadata": {
    "ExecuteTime": {
     "end_time": "2024-06-30T10:02:32.967026Z",
     "start_time": "2024-06-30T10:02:32.956757Z"
    }
   },
   "cell_type": "code",
   "source": [
    "df.dropna(axis=0)\n",
    "# df.dropna(axis=1)\n",
    "\n",
    "# only drop rows where all columns are NaN\n",
    "# df.dropna(how='all')\n",
    "\n",
    "# drop rows that have fewer than 4 real values\n",
    "# df.dropna(thresh=4)\n",
    "\n",
    "# only drop rows where NaN appear in specific columns\n",
    "# df.dropna(subset=['C'])"
   ],
   "id": "4eb5ec163cc5e79e",
   "execution_count": 28,
   "outputs": []
  },
  {
   "metadata": {
    "ExecuteTime": {
     "end_time": "2024-06-30T10:02:33.098Z",
     "start_time": "2024-06-30T10:02:33.092908Z"
    }
   },
   "cell_type": "code",
   "source": [
    "# Imputing missing values\n",
    "\n",
    "from sklearn.impute import SimpleImputer\n",
    "import numpy as np\n",
    "\n",
    "imr = SimpleImputer(missing_values=np.nan, strategy='mean')\n",
    "imr = imr.fit(df.values)\n",
    "imputed_data = imr.transform(df.values)\n",
    "imputed_data"
   ],
   "id": "90db0fdda25e5e02",
   "execution_count": 29,
   "outputs": []
  },
  {
   "metadata": {
    "ExecuteTime": {
     "end_time": "2024-06-30T10:02:33.266900Z",
     "start_time": "2024-06-30T10:02:33.256666Z"
    }
   },
   "cell_type": "code",
   "source": [
    "# alternative to SimpleImputer\n",
    "df.fillna(df.mean())"
   ],
   "id": "eae0e75e42249411",
   "execution_count": 30,
   "outputs": []
  },
  {
   "metadata": {
    "ExecuteTime": {
     "end_time": "2024-06-30T10:02:33.407476Z",
     "start_time": "2024-06-30T10:02:33.400153Z"
    }
   },
   "cell_type": "code",
   "source": [
    "# Handling categorical data\n",
    "\n",
    "import pandas as pd\n",
    "df = pd.DataFrame([\n",
    "    ['green', 'M', 10.1, 'class2'],\n",
    "    ['red', 'L', 13.5, 'class1'],\n",
    "    ['blue', 'XL', 15.3, 'class2']\n",
    "])\n",
    "df.columns = ['color', 'size', 'price', 'classlabel']\n",
    "df"
   ],
   "id": "23cea750fff7e558",
   "execution_count": 31,
   "outputs": []
  },
  {
   "metadata": {
    "ExecuteTime": {
     "end_time": "2024-06-30T10:02:35.571520Z",
     "start_time": "2024-06-30T10:02:35.564560Z"
    }
   },
   "cell_type": "code",
   "source": [
    "# To make sure that the learning algo interprets the ordinal features correctly, we need to convert the categorical str values into integers\n",
    "\n",
    "size_mapping = {\n",
    "    'XL': 3,\n",
    "    'L': 2,\n",
    "    'M': 1,\n",
    "}\n",
    "\n",
    "df['size'] = df['size'].map(size_mapping)\n",
    "df"
   ],
   "id": "c064780396b8a3c9",
   "execution_count": 32,
   "outputs": []
  },
  {
   "metadata": {
    "ExecuteTime": {
     "end_time": "2024-06-30T10:02:36.176497Z",
     "start_time": "2024-06-30T10:02:36.171915Z"
    }
   },
   "cell_type": "code",
   "source": [
    "# To reverse back\n",
    "\n",
    "inv_size_mapping = {v: k for k, v in size_mapping.items()}\n",
    "df['size'].map(inv_size_mapping)"
   ],
   "id": "b0d3e8175fd244",
   "execution_count": 33,
   "outputs": []
  },
  {
   "metadata": {
    "ExecuteTime": {
     "end_time": "2024-06-30T10:02:37.866219Z",
     "start_time": "2024-06-30T10:02:37.861788Z"
    }
   },
   "cell_type": "code",
   "source": [
    "# Encoding class labels\n",
    "\n",
    "import numpy as np\n",
    "\n",
    "class_mapping = {\n",
    "    label: idx\n",
    "    for idx, label in enumerate(np.unique(df['classlabel']))\n",
    "}\n",
    "class_mapping"
   ],
   "id": "56529cdad2b3d549",
   "execution_count": 34,
   "outputs": []
  },
  {
   "metadata": {
    "ExecuteTime": {
     "end_time": "2024-06-30T10:02:39.205903Z",
     "start_time": "2024-06-30T10:02:39.199683Z"
    }
   },
   "cell_type": "code",
   "source": [
    "df['classlabel'] = df['classlabel'].map(class_mapping)\n",
    "df"
   ],
   "id": "43d76be439ce6d77",
   "execution_count": 35,
   "outputs": []
  },
  {
   "metadata": {
    "ExecuteTime": {
     "end_time": "2024-06-30T10:03:30.299994Z",
     "start_time": "2024-06-30T10:03:30.293572Z"
    }
   },
   "cell_type": "code",
   "source": [
    "# Reverse class labels\n",
    "inv_class_mapping = {v: k for k, v in class_mapping.items()}\n",
    "df['classlabel'] = df['classlabel'].map(inv_class_mapping)\n",
    "df"
   ],
   "id": "e0e868826467b95c",
   "execution_count": 36,
   "outputs": []
  },
  {
   "metadata": {
    "ExecuteTime": {
     "end_time": "2024-06-30T10:04:12.151919Z",
     "start_time": "2024-06-30T10:04:12.147709Z"
    }
   },
   "cell_type": "code",
   "source": [
    "# Scikit way\n",
    "from sklearn.preprocessing import LabelEncoder\n",
    "\n",
    "class_le = LabelEncoder()\n",
    "\n",
    "y = class_le.fit_transform(df['classlabel'].values)\n",
    "y"
   ],
   "id": "cb77d90e71e96fdf",
   "execution_count": 37,
   "outputs": []
  },
  {
   "metadata": {
    "ExecuteTime": {
     "end_time": "2024-06-30T10:04:29.675466Z",
     "start_time": "2024-06-30T10:04:29.671367Z"
    }
   },
   "cell_type": "code",
   "source": "class_le.inverse_transform(y)",
   "id": "bfe27b3657019e19",
   "execution_count": 38,
   "outputs": []
  },
  {
   "metadata": {
    "ExecuteTime": {
     "end_time": "2024-06-30T10:08:26.906566Z",
     "start_time": "2024-06-30T10:08:26.902200Z"
    }
   },
   "cell_type": "code",
   "source": [
    "# The values in the color column could be seen as ordered which would make the model worse\n",
    "X = df[['color', 'size', 'price']].values\n",
    "color_le = LabelEncoder()\n",
    "\n",
    "X[:, 0] = color_le.fit_transform(X[:, 0])\n",
    "X"
   ],
   "id": "5f51ab8dabb30003",
   "execution_count": 41,
   "outputs": []
  },
  {
   "metadata": {
    "ExecuteTime": {
     "end_time": "2024-06-30T10:09:12.071650Z",
     "start_time": "2024-06-30T10:09:12.064524Z"
    }
   },
   "cell_type": "code",
   "source": [
    "# Scikit one-hot encoding on nominal features\n",
    "from sklearn.preprocessing import OneHotEncoder\n",
    "\n",
    "X = df[['color', 'size', 'price']].values\n",
    "color_ohe = OneHotEncoder()\n",
    "# applying only to first column\n",
    "color_ohe.fit_transform(X[:, 0].reshape(-1, 1)).toarray()"
   ],
   "id": "293332f98cc2d65a",
   "execution_count": 42,
   "outputs": []
  },
  {
   "metadata": {
    "ExecuteTime": {
     "end_time": "2024-06-30T10:10:55.876460Z",
     "start_time": "2024-06-30T10:10:55.864765Z"
    }
   },
   "cell_type": "code",
   "source": [
    "# To selectively transform columns\n",
    "from sklearn.compose import ColumnTransformer\n",
    "\n",
    "X = df[['color', 'size', 'price']].values\n",
    "c_transf = ColumnTransformer([\n",
    "    ('onehot', OneHotEncoder(), [0]),\n",
    "    ('nothing', 'passthrough', [1, 2])\n",
    "])\n",
    "c_transf.fit_transform(X).astype(float)"
   ],
   "id": "fb13e5dabcb2a73",
   "execution_count": 43,
   "outputs": []
  },
  {
   "metadata": {
    "ExecuteTime": {
     "end_time": "2024-06-30T10:11:48.490072Z",
     "start_time": "2024-06-30T10:11:48.481972Z"
    }
   },
   "cell_type": "code",
   "source": [
    "# pandas way\n",
    "pd.get_dummies(df[['price', 'color', 'size']])"
   ],
   "id": "ab82fa7ada85203b",
   "execution_count": 44,
   "outputs": []
  },
  {
   "metadata": {
    "ExecuteTime": {
     "end_time": "2024-06-30T10:13:54.445460Z",
     "start_time": "2024-06-30T10:13:54.437303Z"
    }
   },
   "cell_type": "code",
   "source": "pd.get_dummies(df[['price', 'color', 'size']], drop_first=True)",
   "id": "6ee69292b2e04c43",
   "execution_count": 45,
   "outputs": []
  },
  {
   "metadata": {
    "ExecuteTime": {
     "end_time": "2024-06-30T10:15:30.937648Z",
     "start_time": "2024-06-30T10:15:30.931639Z"
    }
   },
   "cell_type": "code",
   "source": [
    "color_ohe = OneHotEncoder(categories='auto', drop='first')\n",
    "c_transf = ColumnTransformer([\n",
    "    ('onehot', color_ohe, [0]),\n",
    "    ('nothing', 'passthrough', [1, 2]),\n",
    "])\n",
    "c_transf.fit_transform(X).astype(float)"
   ],
   "id": "7fbc9c35b166c358",
   "execution_count": 46,
   "outputs": []
  },
  {
   "metadata": {
    "ExecuteTime": {
     "end_time": "2024-06-30T10:19:44.847120Z",
     "start_time": "2024-06-30T10:19:44.838394Z"
    }
   },
   "cell_type": "code",
   "source": [
    "# Encoding ordinal features\n",
    "df = pd.DataFrame([\n",
    "    ['green', 'M', 10.1, 'class2'],\n",
    "    ['red', 'L', 13.5, 'class1'],\n",
    "    ['blue', 'XL', 15.3, 'class2']])\n",
    "df.columns = ['color', 'size', 'price', 'classlabel']\n",
    "df"
   ],
   "id": "f3e1f192d1940446",
   "execution_count": 47,
   "outputs": []
  },
  {
   "metadata": {
    "ExecuteTime": {
     "end_time": "2024-06-30T10:20:57.013692Z",
     "start_time": "2024-06-30T10:20:57.006850Z"
    }
   },
   "cell_type": "code",
   "source": [
    "df['x > M'] = df['size'].apply(\n",
    "    lambda x: 1 if x in {'L', 'XL'} else 0\n",
    ")\n",
    "df['x > L'] = df['size'].apply(\n",
    "    lambda x: 1 if x == 'XL' else 0\n",
    ")\n",
    "del df['size']\n",
    "df"
   ],
   "id": "c2aa8d4adce41923",
   "execution_count": 49,
   "outputs": []
  },
  {
   "metadata": {
    "ExecuteTime": {
     "end_time": "2024-06-30T10:26:58.720075Z",
     "start_time": "2024-06-30T10:26:58.159419Z"
    }
   },
   "cell_type": "code",
   "source": [
    "# Wine dataset\n",
    "\n",
    "df_wine = pd.read_csv(\n",
    "    'https://archive.ics.uci.edu/'\n",
    "    'ml/machine-learning-databases/'\n",
    "    'wine/wine.data',\n",
    "    header=None\n",
    ")\n",
    "df_wine.columns = [\n",
    "    'Class label', \n",
    "    'Alcohol',\n",
    "    'Malic acid', \n",
    "    'Ash',\n",
    "    'Alcalinity of ash', \n",
    "    'Magnesium',\n",
    "    'Total phenols', \n",
    "    'Flavanoids',\n",
    "    'Nonflavanoid phenols',\n",
    "    'Proanthocyanins',\n",
    "    'Color intensity', \n",
    "    'Hue',\n",
    "    'OD280/OD315 of diluted wines',\n",
    "    'Proline'\n",
    "]\n",
    "print('Class labels', np.unique(df_wine['Class label']))\n",
    "df_wine.head()"
   ],
   "id": "1f9e75b6ba340512",
   "execution_count": 51,
   "outputs": []
  },
  {
   "metadata": {
    "ExecuteTime": {
     "end_time": "2024-06-30T10:35:20.510694Z",
     "start_time": "2024-06-30T10:35:20.499347Z"
    }
   },
   "cell_type": "code",
   "source": [
    "# Randomly partition dataset into separate test and training datasets\n",
    "\n",
    "from sklearn.model_selection import train_test_split\n",
    "\n",
    "X, y = df_wine.iloc[:, 1:].values, df_wine.iloc[:, 0].values\n",
    "X_train, X_test, y_train, y_test = train_test_split(\n",
    "    X, y,\n",
    "    test_size=0.3,\n",
    "    random_state=0,\n",
    "    stratify=y\n",
    ")"
   ],
   "id": "b0b9c5eafff21b0d",
   "execution_count": 52,
   "outputs": []
  },
  {
   "metadata": {
    "ExecuteTime": {
     "end_time": "2024-06-30T10:35:55.253786Z",
     "start_time": "2024-06-30T10:35:55.250155Z"
    }
   },
   "cell_type": "code",
   "source": [
    "# Normalization\n",
    "from sklearn.preprocessing import MinMaxScaler\n",
    "mms = MinMaxScaler()\n",
    "X_train_norm = mms.fit_transform(X_train)\n",
    "X_test_norm = mms.fit_transform(X_test)"
   ],
   "id": "57d912603b347ce5",
   "execution_count": 53,
   "outputs": []
  },
  {
   "metadata": {
    "ExecuteTime": {
     "end_time": "2024-06-30T10:38:10.570523Z",
     "start_time": "2024-06-30T10:38:10.567025Z"
    }
   },
   "cell_type": "code",
   "source": [
    "ex = np.array([0, 1, 2, 3, 4, 5])\n",
    "print('standardized:', (ex - ex.mean()) / ex.std())\n",
    "print('normalized:', (ex - ex.min()) / (ex.max() - ex.min()))"
   ],
   "id": "4679482e48707e9a",
   "execution_count": 54,
   "outputs": []
  },
  {
   "metadata": {
    "ExecuteTime": {
     "end_time": "2024-06-30T10:38:31.284008Z",
     "start_time": "2024-06-30T10:38:31.280812Z"
    }
   },
   "cell_type": "code",
   "source": [
    "from sklearn.preprocessing import StandardScaler\n",
    "stdsc = StandardScaler()\n",
    "X_train_std = stdsc.fit_transform(X_train)\n",
    "X_test_std = stdsc.transform(X_test)"
   ],
   "id": "448b2c4c8bc251f1",
   "execution_count": 55,
   "outputs": []
  },
  {
   "metadata": {
    "ExecuteTime": {
     "end_time": "2024-06-30T10:54:47.994519Z",
     "start_time": "2024-06-30T10:54:47.985219Z"
    }
   },
   "cell_type": "code",
   "source": [
    "from sklearn.linear_model import LogisticRegression\n",
    "\n",
    "LogisticRegression(\n",
    "    penalty='l1',\n",
    "    solver='liblinear',\n",
    "    multi_class='ovr'\n",
    ")\n",
    "\n",
    "lr = LogisticRegression(\n",
    "    penalty='l1',\n",
    "    C=1.0,\n",
    "    solver='liblinear',\n",
    "    multi_class='ovr'\n",
    ")\n",
    "lr.fit(X_train_std, y_train)\n",
    "\n",
    "print('Training accuracy:', lr.score(X_train_std, y_train))\n",
    "print('Test accuracy:', lr.score(X_test_std, y_test))"
   ],
   "id": "ef893baa7fe51310",
   "execution_count": 57,
   "outputs": []
  },
  {
   "metadata": {
    "ExecuteTime": {
     "end_time": "2024-06-30T10:55:02.501857Z",
     "start_time": "2024-06-30T10:55:02.497606Z"
    }
   },
   "cell_type": "code",
   "source": "lr.intercept_",
   "id": "87ada7710652a0c3",
   "execution_count": 58,
   "outputs": []
  },
  {
   "metadata": {
    "ExecuteTime": {
     "end_time": "2024-06-30T11:01:09.437572Z",
     "start_time": "2024-06-30T11:01:09.200725Z"
    }
   },
   "cell_type": "code",
   "source": [
    "import matplotlib.pyplot as plt\n",
    "\n",
    "fig = plt.figure()\n",
    "ax = plt.subplot(111)\n",
    "colors = [\n",
    "    'blue', 'green', 'red', 'cyan',\n",
    "    'magenta', 'yellow', 'black',\n",
    "    'pink', 'lightgreen', 'lightblue',\n",
    "    'gray', 'indigo', 'orange'\n",
    "]\n",
    "weights, params = [], []\n",
    "\n",
    "for c in np.arange(-4., 6.):\n",
    "    lr = LogisticRegression(\n",
    "        penalty='l1',\n",
    "        C=10. ** c,\n",
    "        solver='liblinear',\n",
    "        multi_class='ovr',\n",
    "        random_state=0\n",
    "    )\n",
    "    lr.fit(X_train_std, y_train)\n",
    "    weights.append(lr.coef_[1])\n",
    "    params.append(10 ** c)\n",
    "\n",
    "weights = np.array(weights)\n",
    "for column, color in zip(range(weights.shape[1]), colors):\n",
    "    plt.plot(\n",
    "        params,\n",
    "        weights[:, column],\n",
    "        label=df_wine.columns[column + 1],\n",
    "        color=color\n",
    "    )\n",
    "\n",
    "plt.axhline(0, color='black', linestyle='--', linewidth=3)\n",
    "plt.xlim([10 ** (-5), 10 ** 5])\n",
    "plt.ylabel('Weight coefficient')\n",
    "plt.xlabel('C (inverse regularization strength)')\n",
    "plt.xscale('log')\n",
    "plt.legend(loc='upper left')\n",
    "ax.legend(\n",
    "    loc='upper center',\n",
    "    bbox_to_anchor=(1.38, 1.03),\n",
    "    ncol=1,\n",
    "    fancybox=True\n",
    ")\n",
    "plt.show()"
   ],
   "id": "180a56df4d557a4c",
   "execution_count": 60,
   "outputs": []
  },
  {
   "metadata": {
    "ExecuteTime": {
     "end_time": "2024-06-30T11:17:38.677807Z",
     "start_time": "2024-06-30T11:17:38.670897Z"
    }
   },
   "cell_type": "code",
   "source": [
    "from sklearn.base import clone\n",
    "from itertools import combinations\n",
    "import numpy as np\n",
    "from sklearn.metrics import accuracy_score\n",
    "from sklearn.model_selection import train_test_split\n",
    "\n",
    "\n",
    "class SBS:\n",
    "    def __init__(\n",
    "            self, \n",
    "            estimator, \n",
    "            k_features, \n",
    "            scoring=accuracy_score,\n",
    "            test_size=0.25,\n",
    "            random_state=1\n",
    "    ):\n",
    "        self.scoring = scoring\n",
    "        self.estimator = clone(estimator)\n",
    "        self.k_features = k_features\n",
    "        self.test_size = test_size\n",
    "        self.random_state = random_state\n",
    "    \n",
    "    def fit(self, X, y):\n",
    "        X_train, X_test, y_train, y_test = train_test_split(\n",
    "            X, y,\n",
    "            test_size=self.test_size,\n",
    "            random_state=self.random_state\n",
    "        )\n",
    "        \n",
    "        dim = X_train.shape[1]\n",
    "        self.indices_ = tuple(range(dim))\n",
    "        self.subsets_ = [self.indices_]\n",
    "        score = self._calc_score(\n",
    "            X_train, y_train, \n",
    "            X_test, y_test, \n",
    "            self.indices_\n",
    "        )\n",
    "        self.scores_ = [score]\n",
    "        \n",
    "        while dim > self.k_features:\n",
    "            scores = []\n",
    "            subsets = []\n",
    "            \n",
    "            for p in combinations(self.indices_, r=dim-1):\n",
    "                score = self._calc_score(\n",
    "                    X_train, y_train,\n",
    "                    X_test, y_test,\n",
    "                    p\n",
    "                )\n",
    "                scores.append(score)\n",
    "                subsets.append(p)\n",
    "            \n",
    "            best = np.argmax(scores)\n",
    "            self.indices_ = subsets[best]\n",
    "            self.subsets_.append(self.indices_)\n",
    "            dim -= 1\n",
    "            \n",
    "            self.scores_.append(scores[best])\n",
    "            \n",
    "        self.k_score_ = self.scores_[-1]\n",
    "        return self\n",
    "    \n",
    "    def transform(self, X):\n",
    "        return X[:, self.indices_]\n",
    "    \n",
    "    def _calc_score(\n",
    "            self,\n",
    "            X_train, y_train,\n",
    "            X_test, y_test,\n",
    "            indices\n",
    "    ):\n",
    "        self.estimator.fit(X_train[: ,indices], y_train)\n",
    "        y_pred = self.estimator.predict(X_test[:, indices])\n",
    "        score = self.scoring(y_test, y_pred)\n",
    "        return score"
   ],
   "id": "958736130c5587a0",
   "execution_count": 61,
   "outputs": []
  },
  {
   "metadata": {
    "ExecuteTime": {
     "end_time": "2024-06-30T11:20:10.700937Z",
     "start_time": "2024-06-30T11:20:10.275625Z"
    }
   },
   "cell_type": "code",
   "source": [
    "import matplotlib.pyplot as plt\n",
    "from sklearn.neighbors import KNeighborsClassifier\n",
    "\n",
    "knn = KNeighborsClassifier(n_neighbors=5)\n",
    "sbs = SBS(knn, k_features=1)\n",
    "sbs.fit(X_train_std, y_train)\n",
    "\n",
    "k_feat = [len(k) for k in sbs.subsets_]\n",
    "plt.plot(k_feat, sbs.scores_, marker='o')\n",
    "plt.ylim([0.7, 1.02])\n",
    "plt.ylabel('Accuracy')\n",
    "plt.xlabel('Number of features')\n",
    "plt.grid()\n",
    "plt.tight_layout()\n",
    "plt.show()"
   ],
   "id": "7943fa87697c94c5",
   "execution_count": 62,
   "outputs": []
  },
  {
   "metadata": {
    "ExecuteTime": {
     "end_time": "2024-06-30T11:21:50.902289Z",
     "start_time": "2024-06-30T11:21:50.899371Z"
    }
   },
   "cell_type": "code",
   "source": [
    "# smallest feature subset (k=3) which yielded good performance\n",
    "\n",
    "k3 = list(sbs.subsets_[10])\n",
    "print(df_wine.columns[1:][k3])"
   ],
   "id": "a2fd1fc8ea446c49",
   "execution_count": 63,
   "outputs": []
  },
  {
   "metadata": {
    "ExecuteTime": {
     "end_time": "2024-06-30T11:22:53.445128Z",
     "start_time": "2024-06-30T11:22:53.428545Z"
    }
   },
   "cell_type": "code",
   "source": [
    "# all features\n",
    "knn.fit(X_train_std, y_train)\n",
    "print('Training accuracy:', knn.score(X_train_std, y_train))\n",
    "print('Test accuracy:', knn.score(X_test_std, y_test))"
   ],
   "id": "44e59281ec3d36ff",
   "execution_count": 64,
   "outputs": []
  },
  {
   "metadata": {
    "ExecuteTime": {
     "end_time": "2024-06-30T11:23:52.789068Z",
     "start_time": "2024-06-30T11:23:52.774325Z"
    }
   },
   "cell_type": "code",
   "source": [
    "# 3 features\n",
    "knn.fit(X_train_std[:, k3], y_train)\n",
    "print('Training accuracy:', knn.score(X_train_std[:, k3], y_train))\n",
    "print('Test accuracy:', knn.score(X_test_std[:, k3], y_test))"
   ],
   "id": "2516d845deec635a",
   "execution_count": 65,
   "outputs": []
  },
  {
   "metadata": {
    "ExecuteTime": {
     "end_time": "2024-06-30T11:29:51.759785Z",
     "start_time": "2024-06-30T11:29:50.846500Z"
    }
   },
   "cell_type": "code",
   "source": [
    "# Assessing feature importance with random forests\n",
    "\n",
    "from sklearn.ensemble import RandomForestClassifier\n",
    "\n",
    "feat_labels = df_wine.columns[1:]\n",
    "forest = RandomForestClassifier(\n",
    "    n_estimators=500,\n",
    "    random_state=1\n",
    ")\n",
    "forest.fit(X_train, y_train)\n",
    "\n",
    "importances = forest.feature_importances_\n",
    "indices = np.argsort(importances)[::-1]\n",
    "\n",
    "for f in range(X_train.shape[1]):\n",
    "    print(\"%2d) %-*s %f\" % (\n",
    "        f + 1,\n",
    "        30,\n",
    "        feat_labels[indices[f]],\n",
    "        importances[indices[f]]\n",
    "    ))\n",
    "\n",
    "plt.title('Feature importance')\n",
    "plt.bar(range(X_train.shape[1]), importances[indices], align='center')\n",
    "plt.xticks(range(X_train.shape[1]), feat_labels[indices], rotation=90)\n",
    "plt.xlim([-1, X_train.shape[1]])\n",
    "plt.tight_layout()\n",
    "plt.show()"
   ],
   "id": "e62cdca37a8d0bef",
   "execution_count": 66,
   "outputs": []
  },
  {
   "metadata": {
    "ExecuteTime": {
     "end_time": "2024-06-30T11:32:16.614399Z",
     "start_time": "2024-06-30T11:32:16.558901Z"
    }
   },
   "cell_type": "code",
   "source": [
    "from sklearn.feature_selection import SelectFromModel\n",
    "\n",
    "sfm = SelectFromModel(forest, threshold=0.1, prefit=True)\n",
    "X_selected = sfm.transform(X_train)\n",
    "print(\n",
    "    'Number of features that meet this threshold',\n",
    "    'criterion:',\n",
    "    X_selected.shape[1]\n",
    ")\n",
    "for f in range(X_selected.shape[1]):\n",
    "    print(\"%2d) %-*s %f\" % (\n",
    "        f + 1,\n",
    "        30,\n",
    "        feat_labels[indices[f]],\n",
    "        importances[indices[f]]\n",
    "    ))"
   ],
   "id": "6e504aaf89e540a1",
   "execution_count": 67,
   "outputs": []
  },
  {
   "metadata": {},
   "cell_type": "code",
   "execution_count": null,
   "source": "",
   "id": "849788ea17ad4375",
   "outputs": []
  }
 ],
 "metadata": {
  "kernelspec": {
   "display_name": "Python 3",
   "language": "python",
   "name": "python3"
  },
  "language_info": {
   "codemirror_mode": {
    "name": "ipython",
    "version": 2
   },
   "file_extension": ".py",
   "mimetype": "text/x-python",
   "name": "python",
   "nbconvert_exporter": "python",
   "pygments_lexer": "ipython2",
   "version": "2.7.6"
  }
 },
 "nbformat": 4,
 "nbformat_minor": 5
}
