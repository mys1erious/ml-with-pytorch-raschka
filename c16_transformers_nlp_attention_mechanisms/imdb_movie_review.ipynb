{
 "cells": [
  {
   "cell_type": "code",
   "id": "initial_id",
   "metadata": {
    "collapsed": true,
    "ExecuteTime": {
     "end_time": "2024-08-01T06:11:00.619628Z",
     "start_time": "2024-08-01T06:10:57.366732Z"
    }
   },
   "source": [
    "import gzip\n",
    "import shutil\n",
    "import time\n",
    "import pandas as pd\n",
    "import requests\n",
    "import torch\n",
    "import torch.nn.functional as F\n",
    "import torchtext\n",
    "import transformers\n",
    "from transformers import DistilBertTokenizerFast\n",
    "from transformers import DistilBertForSequenceClassification"
   ],
   "execution_count": 1,
   "outputs": []
  },
  {
   "metadata": {
    "ExecuteTime": {
     "end_time": "2024-08-01T06:11:05.826990Z",
     "start_time": "2024-08-01T06:11:00.621905Z"
    }
   },
   "cell_type": "code",
   "source": [
    "torch.backends.cudnn.deterministic = True\n",
    "RANDOM_SEED = 123\n",
    "torch.manual_seed(RANDOM_SEED)\n",
    "DEVICE = torch.device('cuda' if torch.cuda.is_available() else 'cpu')\n",
    "NUM_EPOCHS = 2\n",
    "\n",
    "url = (\n",
    "    \"https://github.com/rasbt/\"\n",
    "    \"machine-learning-book/raw/\"\n",
    "    \"main/ch08/movie_data.csv.gz\"\n",
    ")\n",
    "filename = url.split(\"/\")[-1]\n",
    "\n",
    "with open(filename, \"wb\") as f:\n",
    "    r = requests.get(url)\n",
    "    f.write(r.content)\n",
    "\n",
    "with gzip.open('movie_data.csv.gz', 'rb') as f_in:\n",
    "    with open('movie_data.csv', 'wb') as f_out:\n",
    "        shutil.copyfileobj(f_in, f_out)"
   ],
   "id": "92db5fae38454e52",
   "execution_count": 2,
   "outputs": []
  },
  {
   "metadata": {
    "ExecuteTime": {
     "end_time": "2024-08-01T06:11:06.493163Z",
     "start_time": "2024-08-01T06:11:05.828769Z"
    }
   },
   "cell_type": "code",
   "source": [
    "df = pd.read_csv('movie_data.csv')\n",
    "df.head(3)"
   ],
   "id": "7a2ce8f61f721f37",
   "execution_count": 3,
   "outputs": []
  },
  {
   "metadata": {
    "ExecuteTime": {
     "end_time": "2024-08-01T06:11:06.502382Z",
     "start_time": "2024-08-01T06:11:06.496440Z"
    }
   },
   "cell_type": "code",
   "source": [
    "# Very small subset because too long ...\n",
    "train_texts = df.iloc[:35]['review'].values\n",
    "train_labels = df.iloc[:35]['sentiment'].values\n",
    "\n",
    "valid_texts = df.iloc[:35:40]['review'].values\n",
    "valid_labels = df.iloc[:35:40]['sentiment'].values\n",
    "\n",
    "test_texts = df.iloc[40:50]['review'].values\n",
    "test_labels = df.iloc[40:50]['sentiment'].values"
   ],
   "id": "3fcf4671d4db5c62",
   "execution_count": 4,
   "outputs": []
  },
  {
   "metadata": {
    "ExecuteTime": {
     "end_time": "2024-08-01T06:11:07.019988Z",
     "start_time": "2024-08-01T06:11:06.503519Z"
    }
   },
   "cell_type": "code",
   "source": [
    "tokenizer = DistilBertTokenizerFast.from_pretrained(\n",
    "    'distilbert-base-uncased'\n",
    ")\n",
    "\n",
    "train_encodings = tokenizer(\n",
    "    list(train_texts), \n",
    "    truncation=True, \n",
    "    padding=True\n",
    ")\n",
    "valid_encodings = tokenizer(\n",
    "    list(valid_texts),\n",
    "    truncation=True,\n",
    "    padding=True\n",
    ")\n",
    "test_encodings = tokenizer(\n",
    "    list(test_texts),\n",
    "    truncation=True,\n",
    "    padding=True\n",
    ")"
   ],
   "id": "3e7949d5a1d905a7",
   "execution_count": 5,
   "outputs": []
  },
  {
   "metadata": {
    "ExecuteTime": {
     "end_time": "2024-08-01T06:11:07.026857Z",
     "start_time": "2024-08-01T06:11:07.021290Z"
    }
   },
   "cell_type": "code",
   "source": [
    "class IMDbDataset(torch.utils.data.Dataset):\n",
    "    def __init__(self, encodings, labels):\n",
    "        self.encodings = encodings\n",
    "        self.labels = labels\n",
    "    \n",
    "    def __getitem__(self, idx):\n",
    "        item = {\n",
    "            key: torch.tensor(val[idx])\n",
    "            for key, val in self.encodings.items()\n",
    "        }\n",
    "        item['labels'] = torch.tensor(self.labels[idx])\n",
    "        return item\n",
    "    \n",
    "    def __len__(self):\n",
    "        return len(self.labels)\n",
    "\n",
    "\n",
    "train_dataset = IMDbDataset(train_encodings, train_labels)\n",
    "valid_dataset = IMDbDataset(valid_encodings, valid_labels)\n",
    "test_dataset = IMDbDataset(test_encodings, test_labels)\n",
    "\n",
    "train_loader = torch.utils.data.DataLoader(\n",
    "    train_dataset, batch_size=16, shuffle=True\n",
    ")\n",
    "valid_loader = torch.utils.data.DataLoader(\n",
    "    valid_dataset, batch_size=16, shuffle=False\n",
    ")\n",
    "test_loader = torch.utils.data.DataLoader(\n",
    "    test_dataset, batch_size=16, shuffle=False\n",
    ")"
   ],
   "id": "6cf0634d412ac54e",
   "execution_count": 6,
   "outputs": []
  },
  {
   "metadata": {
    "ExecuteTime": {
     "end_time": "2024-08-01T06:11:08.241091Z",
     "start_time": "2024-08-01T06:11:07.028045Z"
    }
   },
   "cell_type": "code",
   "source": [
    "model = DistilBertForSequenceClassification.from_pretrained(\n",
    "    'distilbert-base-uncased'\n",
    ")\n",
    "model.to(DEVICE)\n",
    "model.train()\n",
    "\n",
    "optim = torch.optim.Adam(model.parameters(), lr=5e-5)"
   ],
   "id": "6a6270984b27893c",
   "execution_count": 7,
   "outputs": []
  },
  {
   "metadata": {
    "ExecuteTime": {
     "end_time": "2024-08-01T06:11:08.249358Z",
     "start_time": "2024-08-01T06:11:08.243734Z"
    }
   },
   "cell_type": "code",
   "source": [
    "def compute_accuracy(model, data_loader, device):\n",
    "    with torch.no_grad():\n",
    "        correct_pred, num_examples = 0, 0\n",
    "        for batch_idx, batch in enumerate(data_loader):\n",
    "            input_ids = batch['input_ids'].to(device)\n",
    "            attention_mask = batch['attention_mask'].to(device)\n",
    "            labels = batch['labels'].to(device)\n",
    "            \n",
    "            outputs = model(input_ids, attention_mask=attention_mask)\n",
    "            logits = outputs['logits']\n",
    "            predicted_labels = torch.argmax(logits, 1)\n",
    "            num_examples += labels.size(0)\n",
    "            correct_pred += (predicted_labels == labels).sum()\n",
    "    return correct_pred.float() / num_examples * 100"
   ],
   "id": "35768a514b019273",
   "execution_count": 8,
   "outputs": []
  },
  {
   "metadata": {
    "ExecuteTime": {
     "end_time": "2024-08-01T06:09:13.117060Z",
     "start_time": "2024-08-01T06:07:18.786738Z"
    }
   },
   "cell_type": "code",
   "source": [
    "start_time = time.time()\n",
    "\n",
    "for epoch in range(NUM_EPOCHS):\n",
    "    model.train()\n",
    "    \n",
    "    for batch_idx, batch in enumerate(train_loader):\n",
    "        input_ids = batch['input_ids'].to(DEVICE)\n",
    "        attention_mask = batch['attention_mask'].to(DEVICE)\n",
    "        labels = batch['labels'].to(DEVICE)\n",
    "        \n",
    "        outputs = model(\n",
    "            input_ids,\n",
    "            attention_mask=attention_mask,\n",
    "            labels=labels,\n",
    "        )\n",
    "        loss, logits = outputs['loss'], outputs['logits']\n",
    "        \n",
    "        optim.zero_grad()\n",
    "        loss.backward()\n",
    "        optim.step()\n",
    "        \n",
    "        print(\n",
    "            f'Epoch: {epoch+1:04d}/{NUM_EPOCHS:04d}'\n",
    "            f' | Batch'\n",
    "            f'{batch_idx:04d}/'\n",
    "            f'{len(train_loader):04d} | '\n",
    "            f'Loss: {loss:.4f}'\n",
    "        )\n",
    "    \n",
    "    model.eval()\n",
    "    \n",
    "    with torch.set_grad_enabled(False):\n",
    "        print(\n",
    "            f'Training accuracy: '\n",
    "            f'{compute_accuracy(model, train_loader, DEVICE):.2f}%'\n",
    "            f'\\nValid accuracy: '\n",
    "            f'{compute_accuracy(model, valid_loader, DEVICE):.2f}%'\n",
    "        )\n",
    "    print(f'Time elapsed: {(time.time() - start_time)/60:.2f} min')\n",
    "\n",
    "print(f'Total Training Time: {(time.time() - start_time)/60:.2f} min')\n",
    "print(f'Test accuracy: {compute_accuracy(model, test_loader, DEVICE):.2f}%')"
   ],
   "id": "db67ff7d69779912",
   "execution_count": 9,
   "outputs": []
  },
  {
   "metadata": {
    "ExecuteTime": {
     "end_time": "2024-08-01T06:11:09.467472Z",
     "start_time": "2024-08-01T06:11:08.251030Z"
    }
   },
   "cell_type": "code",
   "source": [
    "# Trainer api\n",
    "\n",
    "model = DistilBertForSequenceClassification.from_pretrained(\n",
    "    'distilbert-base-uncased'\n",
    ")\n",
    "model.to(DEVICE)\n",
    "model.train()\n",
    "\n",
    "optim = torch.optim.Adam(model.parameters(), lr=5e-5)\n",
    "\n",
    "from transformers import Trainer, TrainingArguments\n",
    "\n",
    "training_args = TrainingArguments(\n",
    "    'test_trainer',\n",
    "    evaluation_strategy='epoch',\n",
    "    output_dir='./results',\n",
    "    num_train_epochs=3,\n",
    "    per_device_train_batch_size=16,\n",
    "    per_device_eval_batch_size=16,\n",
    "    logging_dir='./logs',\n",
    "    logging_steps=10\n",
    ")\n",
    "trainer = Trainer(\n",
    "    model=model,\n",
    "    args=training_args,\n",
    "    train_dataset=train_dataset,\n",
    "    optimizers=(optim, None)\n",
    ")"
   ],
   "id": "4adc106d5c70fd1f",
   "execution_count": 9,
   "outputs": []
  },
  {
   "metadata": {
    "ExecuteTime": {
     "end_time": "2024-08-01T06:15:12.545624Z",
     "start_time": "2024-08-01T06:15:12.061638Z"
    }
   },
   "cell_type": "code",
   "source": [
    "from datasets import load_metric\n",
    "import numpy as np\n",
    "\n",
    "metric = load_metric('accuracy')\n",
    "\n",
    "def compute_metrics(eval_pred):\n",
    "    logits, labels = eval_pred\n",
    "    predictions = np.argmax(logits, axis=-1)\n",
    "    return metric.compute(\n",
    "        predictions=predictions,\n",
    "        references=labels\n",
    "    )\n",
    "\n",
    "trainer = Trainer(\n",
    "    model=model,\n",
    "    args=training_args,\n",
    "    train_dataset=train_dataset,\n",
    "    eval_dataset=test_dataset,\n",
    "    compute_metrics=compute_metrics,\n",
    "    optimizers=(optim, None)\n",
    ")"
   ],
   "id": "98dabe64ab1f3cf6",
   "execution_count": 13,
   "outputs": []
  },
  {
   "metadata": {
    "ExecuteTime": {
     "end_time": "2024-08-01T06:17:58.981775Z",
     "start_time": "2024-08-01T06:15:43.597576Z"
    }
   },
   "cell_type": "code",
   "source": [
    "start_time = time.time()\n",
    "trainer.train()\n",
    "\n",
    "print(\n",
    "    f'Total Training Time: '\n",
    "    f'{(time.time() - start_time)/60:.2f} min'\n",
    ")\n",
    "print(trainer.evaluate())"
   ],
   "id": "366afb3a346a2059",
   "execution_count": 14,
   "outputs": []
  },
  {
   "metadata": {
    "ExecuteTime": {
     "end_time": "2024-08-01T06:18:02.954532Z",
     "start_time": "2024-08-01T06:17:58.983276Z"
    }
   },
   "cell_type": "code",
   "source": "print(trainer.evaluate())",
   "id": "dc3df96a7c873bc7",
   "execution_count": 15,
   "outputs": []
  },
  {
   "metadata": {
    "ExecuteTime": {
     "end_time": "2024-08-01T06:18:06.985198Z",
     "start_time": "2024-08-01T06:18:02.955521Z"
    }
   },
   "cell_type": "code",
   "source": [
    "model.eval()\n",
    "model.to(DEVICE)\n",
    "\n",
    "print(f'Test accuracy: {compute_accuracy(model, test_loader,DEVICE):.2f}%')"
   ],
   "id": "5a7ee7a00e87add8",
   "execution_count": 16,
   "outputs": []
  },
  {
   "metadata": {},
   "cell_type": "code",
   "execution_count": null,
   "source": "",
   "id": "3c0a5d84c26a02d8",
   "outputs": []
  }
 ],
 "metadata": {
  "kernelspec": {
   "display_name": "Python 3",
   "language": "python",
   "name": "python3"
  },
  "language_info": {
   "codemirror_mode": {
    "name": "ipython",
    "version": 2
   },
   "file_extension": ".py",
   "mimetype": "text/x-python",
   "name": "python",
   "nbconvert_exporter": "python",
   "pygments_lexer": "ipython2",
   "version": "2.7.6"
  }
 },
 "nbformat": 4,
 "nbformat_minor": 5
}
