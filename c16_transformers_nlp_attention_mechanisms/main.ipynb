{
 "cells": [
  {
   "cell_type": "code",
   "id": "initial_id",
   "metadata": {
    "collapsed": true,
    "ExecuteTime": {
     "end_time": "2024-07-29T05:18:38.365270Z",
     "start_time": "2024-07-29T05:18:37.156524Z"
    }
   },
   "source": [
    "# Without hyperparams\n",
    "\n",
    "import torch\n",
    "\n",
    "sentence = torch.tensor(\n",
    "    [0,  # can\n",
    "     7,  # you\n",
    "     1,  # help\n",
    "     2,  # me\n",
    "     5,  # to\n",
    "     6,  # translate\n",
    "     4,  # this\n",
    "     3]  # sentence\n",
    ")\n",
    "sentence"
   ],
   "outputs": [
    {
     "data": {
      "text/plain": [
       "tensor([0, 7, 1, 2, 5, 6, 4, 3])"
      ]
     },
     "execution_count": 1,
     "metadata": {},
     "output_type": "execute_result"
    }
   ],
   "execution_count": 1
  },
  {
   "metadata": {
    "ExecuteTime": {
     "end_time": "2024-07-29T05:19:36.546751Z",
     "start_time": "2024-07-29T05:19:36.540214Z"
    }
   },
   "cell_type": "code",
   "source": [
    "torch.manual_seed(123)\n",
    "embed = torch.nn.Embedding(10, 16)\n",
    "embedded_sentence = embed(sentence).detach()\n",
    "embedded_sentence.shape"
   ],
   "id": "2db83688f1e95b9a",
   "outputs": [
    {
     "data": {
      "text/plain": [
       "torch.Size([8, 16])"
      ]
     },
     "execution_count": 3,
     "metadata": {},
     "output_type": "execute_result"
    }
   ],
   "execution_count": 3
  },
  {
   "metadata": {
    "ExecuteTime": {
     "end_time": "2024-07-29T05:21:31.451375Z",
     "start_time": "2024-07-29T05:21:31.448938Z"
    }
   },
   "cell_type": "code",
   "source": [
    "omega = torch.empty(8, 8)\n",
    "for i, x_i in enumerate(embedded_sentence):\n",
    "    for j, x_j in enumerate(embedded_sentence):\n",
    "        omega[i, j] = torch.dot(x_i, x_j)\n",
    "\n",
    "# or\n",
    "omega_mat = embedded_sentence.matmul(embedded_sentence.T)"
   ],
   "id": "99711401c4a6efa3",
   "outputs": [],
   "execution_count": 7
  },
  {
   "metadata": {
    "ExecuteTime": {
     "end_time": "2024-07-29T05:21:57.912398Z",
     "start_time": "2024-07-29T05:21:57.908871Z"
    }
   },
   "cell_type": "code",
   "source": [
    "import torch.nn.functional as F\n",
    "attention_weights = F.softmax(omega_mat, dim=1)\n",
    "attention_weights.shape"
   ],
   "id": "c09f1d6188fd956e",
   "outputs": [
    {
     "data": {
      "text/plain": [
       "torch.Size([8, 8])"
      ]
     },
     "execution_count": 9,
     "metadata": {},
     "output_type": "execute_result"
    }
   ],
   "execution_count": 9
  },
  {
   "metadata": {
    "ExecuteTime": {
     "end_time": "2024-07-29T05:22:24.000031Z",
     "start_time": "2024-07-29T05:22:23.996498Z"
    }
   },
   "cell_type": "code",
   "source": "attention_weights.sum(dim=1)",
   "id": "3a7e974df0ce74d0",
   "outputs": [
    {
     "data": {
      "text/plain": [
       "tensor([1.0000, 1.0000, 1.0000, 1.0000, 1.0000, 1.0000, 1.0000, 1.0000])"
      ]
     },
     "execution_count": 10,
     "metadata": {},
     "output_type": "execute_result"
    }
   ],
   "execution_count": 10
  },
  {
   "metadata": {
    "ExecuteTime": {
     "end_time": "2024-07-29T05:26:53.049787Z",
     "start_time": "2024-07-29T05:26:53.045307Z"
    }
   },
   "cell_type": "code",
   "source": [
    "x_2 = embedded_sentence[1, :]\n",
    "context_vec_2 = torch.zeros(x_2.shape)\n",
    "for j in range(8):\n",
    "    x_j = embedded_sentence[j, :]\n",
    "    context_vec_2 += attention_weights[1, j] * x_j\n",
    "context_vec_2\n",
    "\n",
    "# or\n",
    "context_vectors = torch.matmul(\n",
    "    attention_weights, \n",
    "    embedded_sentence\n",
    ")\n",
    "torch.allclose(context_vec_2, context_vectors[1])"
   ],
   "id": "1b04fc56d732d3d5",
   "outputs": [
    {
     "data": {
      "text/plain": [
       "True"
      ]
     },
     "execution_count": 12,
     "metadata": {},
     "output_type": "execute_result"
    }
   ],
   "execution_count": 12
  },
  {
   "metadata": {
    "ExecuteTime": {
     "end_time": "2024-07-29T05:35:09.979151Z",
     "start_time": "2024-07-29T05:35:09.973661Z"
    }
   },
   "cell_type": "code",
   "source": [
    "# Query, key, value\n",
    "\n",
    "torch.manual_seed(123)\n",
    "d = embedded_sentence.shape[1]\n",
    "U_query = torch.rand(d, d)\n",
    "U_key = torch.rand(d, d)\n",
    "U_value = torch.rand(d, d)\n",
    "\n",
    "x_2 = embedded_sentence[1]\n",
    "query_2 = U_query.matmul(x_2)\n",
    "key_2 = U_key.matmul(x_2)\n",
    "value_2 = U_value.matmul(x_2)\n",
    "\n",
    "keys = U_key.matmul(embedded_sentence.T).T\n",
    "values = U_value.matmul(embedded_sentence.T).T"
   ],
   "id": "10e672f57fac725f",
   "outputs": [],
   "execution_count": 13
  },
  {
   "metadata": {
    "ExecuteTime": {
     "end_time": "2024-07-29T05:36:03.816426Z",
     "start_time": "2024-07-29T05:36:03.812612Z"
    }
   },
   "cell_type": "code",
   "source": [
    "omega_2 = query_2.matmul(keys.T)\n",
    "omega_2"
   ],
   "id": "78f35d638f9e5990",
   "outputs": [
    {
     "data": {
      "text/plain": [
       "tensor([-25.1623,   9.3602,  14.3667,  32.1482,  53.8976,  46.6626,  -1.2131,\n",
       "        -32.9392])"
      ]
     },
     "execution_count": 17,
     "metadata": {},
     "output_type": "execute_result"
    }
   ],
   "execution_count": 17
  },
  {
   "metadata": {
    "ExecuteTime": {
     "end_time": "2024-07-29T05:38:04.153928Z",
     "start_time": "2024-07-29T05:38:04.149877Z"
    }
   },
   "cell_type": "code",
   "source": [
    "attention_weights_2 = F.softmax(omega_2 / d**0.5, dim=0)\n",
    "attention_weights_2"
   ],
   "id": "71029e170ed85c89",
   "outputs": [
    {
     "data": {
      "text/plain": [
       "tensor([2.2317e-09, 1.2499e-05, 4.3696e-05, 3.7242e-03, 8.5596e-01, 1.4026e-01,\n",
       "        8.8897e-07, 3.1935e-10])"
      ]
     },
     "execution_count": 18,
     "metadata": {},
     "output_type": "execute_result"
    }
   ],
   "execution_count": 18
  },
  {
   "metadata": {
    "ExecuteTime": {
     "end_time": "2024-07-29T05:38:25.833978Z",
     "start_time": "2024-07-29T05:38:25.830609Z"
    }
   },
   "cell_type": "code",
   "source": [
    "context_vector_2 = attention_weights_2.matmul(values)\n",
    "context_vector_2"
   ],
   "id": "38a8710166e2abe6",
   "outputs": [
    {
     "data": {
      "text/plain": [
       "tensor([-1.2226, -3.4387, -4.3928, -5.2125, -1.1249, -3.3041, -1.4316, -3.2765,\n",
       "        -2.5114, -2.6105, -1.5793, -2.8433, -2.4142, -0.3998, -1.9917, -3.3499])"
      ]
     },
     "execution_count": 19,
     "metadata": {},
     "output_type": "execute_result"
    }
   ],
   "execution_count": 19
  },
  {
   "metadata": {
    "ExecuteTime": {
     "end_time": "2024-07-29T05:48:19.288626Z",
     "start_time": "2024-07-29T05:48:19.284059Z"
    }
   },
   "cell_type": "code",
   "source": [
    "# Multi-head self-attention\n",
    "\n",
    "torch.manual_seed(123)\n",
    "d = embedded_sentence.shape[1]\n",
    "one_U_query = torch.rand(d, d)\n",
    "h = 8\n",
    "multihead_U_query = torch.rand(h, d, d)\n",
    "multihead_U_key = torch.rand(h, d, d)\n",
    "multihead_U_value = torch.rand(h, d, d)"
   ],
   "id": "3aab2b517baea673",
   "outputs": [],
   "execution_count": 20
  },
  {
   "metadata": {
    "ExecuteTime": {
     "end_time": "2024-07-29T05:48:39.128099Z",
     "start_time": "2024-07-29T05:48:39.124666Z"
    }
   },
   "cell_type": "code",
   "source": [
    "multihead_query_2 = multihead_U_query.matmul(x_2)\n",
    "multihead_query_2.shape"
   ],
   "id": "f92ee644c89c765",
   "outputs": [
    {
     "data": {
      "text/plain": [
       "torch.Size([8, 16])"
      ]
     },
     "execution_count": 21,
     "metadata": {},
     "output_type": "execute_result"
    }
   ],
   "execution_count": 21
  },
  {
   "metadata": {
    "ExecuteTime": {
     "end_time": "2024-07-29T05:49:10.634906Z",
     "start_time": "2024-07-29T05:49:10.631248Z"
    }
   },
   "cell_type": "code",
   "source": [
    "multihead_key_2 = multihead_U_key.matmul(x_2)\n",
    "multihead_value_2 = multihead_U_value.matmul(x_2)\n",
    "multihead_key_2[2]"
   ],
   "id": "9d435c9cb723e9c2",
   "outputs": [
    {
     "data": {
      "text/plain": [
       "tensor([-1.9619, -0.7701, -0.7280, -1.6840, -1.0801, -1.6778,  0.6763,  0.6547,\n",
       "         1.4445, -2.7016, -1.1364, -1.1204, -2.4430, -0.5982, -0.8292, -1.4401])"
      ]
     },
     "execution_count": 22,
     "metadata": {},
     "output_type": "execute_result"
    }
   ],
   "execution_count": 22
  },
  {
   "metadata": {
    "ExecuteTime": {
     "end_time": "2024-07-29T05:49:48.340447Z",
     "start_time": "2024-07-29T05:49:48.337424Z"
    }
   },
   "cell_type": "code",
   "source": [
    "stacked_inputs = embedded_sentence.T.repeat(8, 1, 1)\n",
    "stacked_inputs.shape"
   ],
   "id": "c07ca558a4186f2b",
   "outputs": [
    {
     "data": {
      "text/plain": [
       "torch.Size([8, 16, 8])"
      ]
     },
     "execution_count": 23,
     "metadata": {},
     "output_type": "execute_result"
    }
   ],
   "execution_count": 23
  },
  {
   "metadata": {
    "ExecuteTime": {
     "end_time": "2024-07-29T05:50:20.868977Z",
     "start_time": "2024-07-29T05:50:20.865335Z"
    }
   },
   "cell_type": "code",
   "source": [
    "multihead_keys = torch.bmm(multihead_U_key, stacked_inputs)\n",
    "multihead_keys.shape"
   ],
   "id": "9087e393eb853249",
   "outputs": [
    {
     "data": {
      "text/plain": [
       "torch.Size([8, 16, 8])"
      ]
     },
     "execution_count": 24,
     "metadata": {},
     "output_type": "execute_result"
    }
   ],
   "execution_count": 24
  },
  {
   "metadata": {
    "ExecuteTime": {
     "end_time": "2024-07-29T05:51:48.290292Z",
     "start_time": "2024-07-29T05:51:48.286705Z"
    }
   },
   "cell_type": "code",
   "source": [
    "multihead_keys = multihead_keys.permute(0, 2, 1)\n",
    "multihead_keys.shape"
   ],
   "id": "a1c310dfc6003978",
   "outputs": [
    {
     "data": {
      "text/plain": [
       "torch.Size([8, 8, 16])"
      ]
     },
     "execution_count": 26,
     "metadata": {},
     "output_type": "execute_result"
    }
   ],
   "execution_count": 26
  },
  {
   "metadata": {
    "ExecuteTime": {
     "end_time": "2024-07-29T05:51:56.902522Z",
     "start_time": "2024-07-29T05:51:56.898429Z"
    }
   },
   "cell_type": "code",
   "source": "multihead_keys[2, 1]",
   "id": "a21243cdb904ef8d",
   "outputs": [
    {
     "data": {
      "text/plain": [
       "tensor([-1.9619, -0.7701, -0.7280, -1.6840, -1.0801, -1.6778,  0.6763,  0.6547,\n",
       "         1.4445, -2.7016, -1.1364, -1.1204, -2.4430, -0.5982, -0.8292, -1.4401])"
      ]
     },
     "execution_count": 27,
     "metadata": {},
     "output_type": "execute_result"
    }
   ],
   "execution_count": 27
  },
  {
   "metadata": {
    "ExecuteTime": {
     "end_time": "2024-07-29T05:52:42.747679Z",
     "start_time": "2024-07-29T05:52:42.744630Z"
    }
   },
   "cell_type": "code",
   "source": [
    "multihead_values = torch.matmul(\n",
    "    multihead_U_value,\n",
    "    stacked_inputs\n",
    ")\n",
    "multihead_values = multihead_values.permute(0, 2, 1)"
   ],
   "id": "76141b19f4d2bedb",
   "outputs": [],
   "execution_count": 28
  },
  {
   "metadata": {
    "ExecuteTime": {
     "end_time": "2024-07-29T05:59:05.927193Z",
     "start_time": "2024-07-29T05:59:05.923269Z"
    }
   },
   "cell_type": "code",
   "source": [
    "multihead_z_2 = torch.rand(8, 16)\n",
    "\n",
    "linear = torch.nn.Linear(8*16, 16)\n",
    "context_vector_2 = linear(multihead_z_2.flatten())\n",
    "context_vector_2.shape"
   ],
   "id": "2da511aeef5d479b",
   "outputs": [
    {
     "data": {
      "text/plain": [
       "torch.Size([16])"
      ]
     },
     "execution_count": 29,
     "metadata": {},
     "output_type": "execute_result"
    }
   ],
   "execution_count": 29
  },
  {
   "metadata": {
    "ExecuteTime": {
     "end_time": "2024-07-30T05:34:16.983143Z",
     "start_time": "2024-07-30T05:34:15.329290Z"
    }
   },
   "cell_type": "code",
   "source": [
    "# GPT2\n",
    "\n",
    "from transformers import pipeline, set_seed\n",
    "\n",
    "generator = pipeline('text-generation', model='gpt2')\n",
    "set_seed(123)\n",
    "generator(\n",
    "    'Hey readers, today is', \n",
    "    max_length=20,\n",
    "    num_return_sequences=3\n",
    ")"
   ],
   "id": "e8adf12c25988e39",
   "outputs": [
    {
     "name": "stderr",
     "output_type": "stream",
     "text": [
      "Truncation was not explicitly activated but `max_length` is provided a specific value, please use `truncation=True` to explicitly truncate examples to max length. Defaulting to 'longest_first' truncation strategy. If you encode pairs of sequences (GLUE-style) with the tokenizer you can select this strategy more precisely by providing a specific strategy to `truncation`.\n",
      "Setting `pad_token_id` to `eos_token_id`:50256 for open-end generation.\n"
     ]
    },
    {
     "data": {
      "text/plain": [
       "[{'generated_text': 'Hey readers, today is the third day in a row where I am starting to get a little fed'},\n",
       " {'generated_text': 'Hey readers, today is a very important weekend, and thanks to all of you, will be a'},\n",
       " {'generated_text': 'Hey readers, today is the third day of the New Year after I posted a series on the Internet'}]"
      ]
     },
     "execution_count": 5,
     "metadata": {},
     "output_type": "execute_result"
    }
   ],
   "execution_count": 5
  },
  {
   "metadata": {
    "ExecuteTime": {
     "end_time": "2024-07-30T05:34:43.339527Z",
     "start_time": "2024-07-30T05:34:43.096788Z"
    }
   },
   "cell_type": "code",
   "source": [
    "from transformers import GPT2Tokenizer\n",
    "\n",
    "tokenizer = GPT2Tokenizer.from_pretrained('gpt2')\n",
    "text = 'Let us encode this sentence'\n",
    "encoded_input = tokenizer(text, return_tensors='pt')\n",
    "encoded_input"
   ],
   "id": "253ded8a54071926",
   "outputs": [
    {
     "data": {
      "text/plain": [
       "{'input_ids': tensor([[ 5756,   514, 37773,   428,  6827]]), 'attention_mask': tensor([[1, 1, 1, 1, 1]])}"
      ]
     },
     "execution_count": 6,
     "metadata": {},
     "output_type": "execute_result"
    }
   ],
   "execution_count": 6
  },
  {
   "metadata": {
    "ExecuteTime": {
     "end_time": "2024-07-30T05:35:37.651545Z",
     "start_time": "2024-07-30T05:35:37.082282Z"
    }
   },
   "cell_type": "code",
   "source": [
    "from transformers import GPT2Model\n",
    "model = GPT2Model.from_pretrained('gpt2')\n",
    "output = model(**encoded_input)\n",
    "output['last_hidden_state'].shape"
   ],
   "id": "bee911e2e01fa54e",
   "outputs": [
    {
     "data": {
      "text/plain": [
       "torch.Size([1, 5, 768])"
      ]
     },
     "execution_count": 7,
     "metadata": {},
     "output_type": "execute_result"
    }
   ],
   "execution_count": 7
  },
  {
   "metadata": {},
   "cell_type": "code",
   "outputs": [],
   "execution_count": null,
   "source": "",
   "id": "6035fb7ea38f8bc6"
  }
 ],
 "metadata": {
  "kernelspec": {
   "display_name": "Python 3",
   "language": "python",
   "name": "python3"
  },
  "language_info": {
   "codemirror_mode": {
    "name": "ipython",
    "version": 2
   },
   "file_extension": ".py",
   "mimetype": "text/x-python",
   "name": "python",
   "nbconvert_exporter": "python",
   "pygments_lexer": "ipython2",
   "version": "2.7.6"
  }
 },
 "nbformat": 4,
 "nbformat_minor": 5
}
